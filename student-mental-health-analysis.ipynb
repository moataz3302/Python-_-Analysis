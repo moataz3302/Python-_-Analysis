{
 "cells": [
  {
   "cell_type": "code",
   "execution_count": null,
   "id": "fd038095",
   "metadata": {
    "papermill": {
     "duration": 0.009987,
     "end_time": "2022-06-30T02:39:27.993172",
     "exception": false,
     "start_time": "2022-06-30T02:39:27.983185",
     "status": "completed"
    },
    "tags": []
   },
   "outputs": [],
   "source": []
  },
  {
   "cell_type": "markdown",
   "id": "97db05c1",
   "metadata": {
    "papermill": {
     "duration": 0.008681,
     "end_time": "2022-06-30T02:39:28.011025",
     "exception": false,
     "start_time": "2022-06-30T02:39:28.002344",
     "status": "completed"
    },
    "tags": []
   },
   "source": [
    "# Student Mental health analysis"
   ]
  },
  {
   "cell_type": "markdown",
   "id": "88c12924",
   "metadata": {
    "papermill": {
     "duration": 0.008656,
     "end_time": "2022-06-30T02:39:28.029265",
     "exception": false,
     "start_time": "2022-06-30T02:39:28.020609",
     "status": "completed"
    },
    "tags": []
   },
   "source": [
    "### import packages"
   ]
  },
  {
   "cell_type": "code",
   "execution_count": 1,
   "id": "23f6ea48",
   "metadata": {
    "execution": {
     "iopub.execute_input": "2022-06-30T02:39:28.049123Z",
     "iopub.status.busy": "2022-06-30T02:39:28.048662Z",
     "iopub.status.idle": "2022-06-30T02:39:30.006163Z",
     "shell.execute_reply": "2022-06-30T02:39:30.005279Z"
    },
    "papermill": {
     "duration": 1.97065,
     "end_time": "2022-06-30T02:39:30.008757",
     "exception": false,
     "start_time": "2022-06-30T02:39:28.038107",
     "status": "completed"
    },
    "tags": []
   },
   "outputs": [],
   "source": [
    "import numpy as np\n",
    "import pandas as pd\n",
    "import seaborn as sns\n",
    "import matplotlib.pyplot as plt \n",
    "import scipy.stats\n",
    "from math import sqrt\n",
    "import statsmodels.api as sm\n",
    "import os\n"
   ]
  },
  {
   "cell_type": "markdown",
   "id": "71b726b8",
   "metadata": {
    "papermill": {
     "duration": 0.008743,
     "end_time": "2022-06-30T02:39:30.026666",
     "exception": false,
     "start_time": "2022-06-30T02:39:30.017923",
     "status": "completed"
    },
    "tags": []
   },
   "source": [
    "## read dataset"
   ]
  },
  {
   "cell_type": "code",
   "execution_count": 2,
   "id": "e2517d75",
   "metadata": {
    "execution": {
     "iopub.execute_input": "2022-06-30T02:39:30.046973Z",
     "iopub.status.busy": "2022-06-30T02:39:30.046017Z",
     "iopub.status.idle": "2022-06-30T02:39:30.063947Z",
     "shell.execute_reply": "2022-06-30T02:39:30.062851Z"
    },
    "papermill": {
     "duration": 0.030751,
     "end_time": "2022-06-30T02:39:30.066474",
     "exception": false,
     "start_time": "2022-06-30T02:39:30.035723",
     "status": "completed"
    },
    "tags": []
   },
   "outputs": [],
   "source": [
    "df = pd.read_csv(\"/kaggle/input/student-mental-health/Student Mental health.csv\")"
   ]
  },
  {
   "cell_type": "code",
   "execution_count": 3,
   "id": "0ad0175d",
   "metadata": {
    "execution": {
     "iopub.execute_input": "2022-06-30T02:39:30.086411Z",
     "iopub.status.busy": "2022-06-30T02:39:30.086008Z",
     "iopub.status.idle": "2022-06-30T02:39:30.117751Z",
     "shell.execute_reply": "2022-06-30T02:39:30.116925Z"
    },
    "papermill": {
     "duration": 0.045014,
     "end_time": "2022-06-30T02:39:30.120691",
     "exception": false,
     "start_time": "2022-06-30T02:39:30.075677",
     "status": "completed"
    },
    "tags": []
   },
   "outputs": [
    {
     "data": {
      "text/html": [
       "<div>\n",
       "<style scoped>\n",
       "    .dataframe tbody tr th:only-of-type {\n",
       "        vertical-align: middle;\n",
       "    }\n",
       "\n",
       "    .dataframe tbody tr th {\n",
       "        vertical-align: top;\n",
       "    }\n",
       "\n",
       "    .dataframe thead th {\n",
       "        text-align: right;\n",
       "    }\n",
       "</style>\n",
       "<table border=\"1\" class=\"dataframe\">\n",
       "  <thead>\n",
       "    <tr style=\"text-align: right;\">\n",
       "      <th></th>\n",
       "      <th>Timestamp</th>\n",
       "      <th>Choose your gender</th>\n",
       "      <th>Age</th>\n",
       "      <th>What is your course?</th>\n",
       "      <th>Your current year of Study</th>\n",
       "      <th>What is your CGPA?</th>\n",
       "      <th>Marital status</th>\n",
       "      <th>Do you have Depression?</th>\n",
       "      <th>Do you have Anxiety?</th>\n",
       "      <th>Do you have Panic attack?</th>\n",
       "      <th>Did you seek any specialist for a treatment?</th>\n",
       "    </tr>\n",
       "  </thead>\n",
       "  <tbody>\n",
       "    <tr>\n",
       "      <th>0</th>\n",
       "      <td>8/7/2020 12:02</td>\n",
       "      <td>Female</td>\n",
       "      <td>18.0</td>\n",
       "      <td>Engineering</td>\n",
       "      <td>year 1</td>\n",
       "      <td>3.00 - 3.49</td>\n",
       "      <td>No</td>\n",
       "      <td>Yes</td>\n",
       "      <td>No</td>\n",
       "      <td>Yes</td>\n",
       "      <td>No</td>\n",
       "    </tr>\n",
       "    <tr>\n",
       "      <th>1</th>\n",
       "      <td>8/7/2020 12:04</td>\n",
       "      <td>Male</td>\n",
       "      <td>21.0</td>\n",
       "      <td>Islamic education</td>\n",
       "      <td>year 2</td>\n",
       "      <td>3.00 - 3.49</td>\n",
       "      <td>No</td>\n",
       "      <td>No</td>\n",
       "      <td>Yes</td>\n",
       "      <td>No</td>\n",
       "      <td>No</td>\n",
       "    </tr>\n",
       "    <tr>\n",
       "      <th>2</th>\n",
       "      <td>8/7/2020 12:05</td>\n",
       "      <td>Male</td>\n",
       "      <td>19.0</td>\n",
       "      <td>BIT</td>\n",
       "      <td>Year 1</td>\n",
       "      <td>3.00 - 3.49</td>\n",
       "      <td>No</td>\n",
       "      <td>Yes</td>\n",
       "      <td>Yes</td>\n",
       "      <td>Yes</td>\n",
       "      <td>No</td>\n",
       "    </tr>\n",
       "    <tr>\n",
       "      <th>3</th>\n",
       "      <td>8/7/2020 12:06</td>\n",
       "      <td>Female</td>\n",
       "      <td>22.0</td>\n",
       "      <td>Laws</td>\n",
       "      <td>year 3</td>\n",
       "      <td>3.00 - 3.49</td>\n",
       "      <td>Yes</td>\n",
       "      <td>Yes</td>\n",
       "      <td>No</td>\n",
       "      <td>No</td>\n",
       "      <td>No</td>\n",
       "    </tr>\n",
       "    <tr>\n",
       "      <th>4</th>\n",
       "      <td>8/7/2020 12:13</td>\n",
       "      <td>Male</td>\n",
       "      <td>23.0</td>\n",
       "      <td>Mathemathics</td>\n",
       "      <td>year 4</td>\n",
       "      <td>3.00 - 3.49</td>\n",
       "      <td>No</td>\n",
       "      <td>No</td>\n",
       "      <td>No</td>\n",
       "      <td>No</td>\n",
       "      <td>No</td>\n",
       "    </tr>\n",
       "    <tr>\n",
       "      <th>...</th>\n",
       "      <td>...</td>\n",
       "      <td>...</td>\n",
       "      <td>...</td>\n",
       "      <td>...</td>\n",
       "      <td>...</td>\n",
       "      <td>...</td>\n",
       "      <td>...</td>\n",
       "      <td>...</td>\n",
       "      <td>...</td>\n",
       "      <td>...</td>\n",
       "      <td>...</td>\n",
       "    </tr>\n",
       "    <tr>\n",
       "      <th>96</th>\n",
       "      <td>13/07/2020 19:56:49</td>\n",
       "      <td>Female</td>\n",
       "      <td>21.0</td>\n",
       "      <td>BCS</td>\n",
       "      <td>year 1</td>\n",
       "      <td>3.50 - 4.00</td>\n",
       "      <td>No</td>\n",
       "      <td>No</td>\n",
       "      <td>Yes</td>\n",
       "      <td>No</td>\n",
       "      <td>No</td>\n",
       "    </tr>\n",
       "    <tr>\n",
       "      <th>97</th>\n",
       "      <td>13/07/2020 21:21:42</td>\n",
       "      <td>Male</td>\n",
       "      <td>18.0</td>\n",
       "      <td>Engineering</td>\n",
       "      <td>Year 2</td>\n",
       "      <td>3.00 - 3.49</td>\n",
       "      <td>No</td>\n",
       "      <td>Yes</td>\n",
       "      <td>Yes</td>\n",
       "      <td>No</td>\n",
       "      <td>No</td>\n",
       "    </tr>\n",
       "    <tr>\n",
       "      <th>98</th>\n",
       "      <td>13/07/2020 21:22:56</td>\n",
       "      <td>Female</td>\n",
       "      <td>19.0</td>\n",
       "      <td>Nursing</td>\n",
       "      <td>Year 3</td>\n",
       "      <td>3.50 - 4.00</td>\n",
       "      <td>Yes</td>\n",
       "      <td>Yes</td>\n",
       "      <td>No</td>\n",
       "      <td>Yes</td>\n",
       "      <td>No</td>\n",
       "    </tr>\n",
       "    <tr>\n",
       "      <th>99</th>\n",
       "      <td>13/07/2020 21:23:57</td>\n",
       "      <td>Female</td>\n",
       "      <td>23.0</td>\n",
       "      <td>Pendidikan Islam</td>\n",
       "      <td>year 4</td>\n",
       "      <td>3.50 - 4.00</td>\n",
       "      <td>No</td>\n",
       "      <td>No</td>\n",
       "      <td>No</td>\n",
       "      <td>No</td>\n",
       "      <td>No</td>\n",
       "    </tr>\n",
       "    <tr>\n",
       "      <th>100</th>\n",
       "      <td>18/07/2020 20:16:21</td>\n",
       "      <td>Male</td>\n",
       "      <td>20.0</td>\n",
       "      <td>Biomedical science</td>\n",
       "      <td>Year 2</td>\n",
       "      <td>3.00 - 3.49</td>\n",
       "      <td>No</td>\n",
       "      <td>No</td>\n",
       "      <td>No</td>\n",
       "      <td>No</td>\n",
       "      <td>No</td>\n",
       "    </tr>\n",
       "  </tbody>\n",
       "</table>\n",
       "<p>101 rows × 11 columns</p>\n",
       "</div>"
      ],
      "text/plain": [
       "               Timestamp Choose your gender   Age What is your course?  \\\n",
       "0         8/7/2020 12:02             Female  18.0          Engineering   \n",
       "1         8/7/2020 12:04               Male  21.0    Islamic education   \n",
       "2         8/7/2020 12:05               Male  19.0                  BIT   \n",
       "3         8/7/2020 12:06             Female  22.0                 Laws   \n",
       "4         8/7/2020 12:13               Male  23.0         Mathemathics   \n",
       "..                   ...                ...   ...                  ...   \n",
       "96   13/07/2020 19:56:49             Female  21.0                  BCS   \n",
       "97   13/07/2020 21:21:42               Male  18.0          Engineering   \n",
       "98   13/07/2020 21:22:56             Female  19.0             Nursing    \n",
       "99   13/07/2020 21:23:57             Female  23.0     Pendidikan Islam   \n",
       "100  18/07/2020 20:16:21               Male  20.0   Biomedical science   \n",
       "\n",
       "    Your current year of Study What is your CGPA? Marital status  \\\n",
       "0                       year 1        3.00 - 3.49             No   \n",
       "1                       year 2        3.00 - 3.49             No   \n",
       "2                       Year 1        3.00 - 3.49             No   \n",
       "3                       year 3        3.00 - 3.49            Yes   \n",
       "4                       year 4        3.00 - 3.49             No   \n",
       "..                         ...                ...            ...   \n",
       "96                      year 1        3.50 - 4.00             No   \n",
       "97                      Year 2        3.00 - 3.49             No   \n",
       "98                      Year 3        3.50 - 4.00            Yes   \n",
       "99                      year 4        3.50 - 4.00             No   \n",
       "100                     Year 2        3.00 - 3.49             No   \n",
       "\n",
       "    Do you have Depression? Do you have Anxiety? Do you have Panic attack?  \\\n",
       "0                       Yes                   No                       Yes   \n",
       "1                        No                  Yes                        No   \n",
       "2                       Yes                  Yes                       Yes   \n",
       "3                       Yes                   No                        No   \n",
       "4                        No                   No                        No   \n",
       "..                      ...                  ...                       ...   \n",
       "96                       No                  Yes                        No   \n",
       "97                      Yes                  Yes                        No   \n",
       "98                      Yes                   No                       Yes   \n",
       "99                       No                   No                        No   \n",
       "100                      No                   No                        No   \n",
       "\n",
       "    Did you seek any specialist for a treatment?  \n",
       "0                                             No  \n",
       "1                                             No  \n",
       "2                                             No  \n",
       "3                                             No  \n",
       "4                                             No  \n",
       "..                                           ...  \n",
       "96                                            No  \n",
       "97                                            No  \n",
       "98                                            No  \n",
       "99                                            No  \n",
       "100                                           No  \n",
       "\n",
       "[101 rows x 11 columns]"
      ]
     },
     "execution_count": 3,
     "metadata": {},
     "output_type": "execute_result"
    }
   ],
   "source": [
    "df"
   ]
  },
  {
   "cell_type": "code",
   "execution_count": null,
   "id": "70129098",
   "metadata": {
    "papermill": {
     "duration": 0.009194,
     "end_time": "2022-06-30T02:39:30.139388",
     "exception": false,
     "start_time": "2022-06-30T02:39:30.130194",
     "status": "completed"
    },
    "tags": []
   },
   "outputs": [],
   "source": []
  },
  {
   "cell_type": "markdown",
   "id": "f81e90d3",
   "metadata": {
    "papermill": {
     "duration": 0.009056,
     "end_time": "2022-06-30T02:39:30.157823",
     "exception": false,
     "start_time": "2022-06-30T02:39:30.148767",
     "status": "completed"
    },
    "tags": []
   },
   "source": [
    "### Exploratory Data Analysis¶\n"
   ]
  },
  {
   "cell_type": "markdown",
   "id": "9f4a8fc7",
   "metadata": {
    "papermill": {
     "duration": 0.009072,
     "end_time": "2022-06-30T02:39:30.176483",
     "exception": false,
     "start_time": "2022-06-30T02:39:30.167411",
     "status": "completed"
    },
    "tags": []
   },
   "source": []
  },
  {
   "cell_type": "code",
   "execution_count": 4,
   "id": "7e31f1a5",
   "metadata": {
    "execution": {
     "iopub.execute_input": "2022-06-30T02:39:30.197811Z",
     "iopub.status.busy": "2022-06-30T02:39:30.197136Z",
     "iopub.status.idle": "2022-06-30T02:39:30.203319Z",
     "shell.execute_reply": "2022-06-30T02:39:30.202222Z"
    },
    "papermill": {
     "duration": 0.01974,
     "end_time": "2022-06-30T02:39:30.205634",
     "exception": false,
     "start_time": "2022-06-30T02:39:30.185894",
     "status": "completed"
    },
    "tags": []
   },
   "outputs": [
    {
     "data": {
      "text/plain": [
       "(101, 11)"
      ]
     },
     "execution_count": 4,
     "metadata": {},
     "output_type": "execute_result"
    }
   ],
   "source": [
    "df.shape"
   ]
  },
  {
   "cell_type": "code",
   "execution_count": 5,
   "id": "c4c89de3",
   "metadata": {
    "execution": {
     "iopub.execute_input": "2022-06-30T02:39:30.226831Z",
     "iopub.status.busy": "2022-06-30T02:39:30.226169Z",
     "iopub.status.idle": "2022-06-30T02:39:30.237235Z",
     "shell.execute_reply": "2022-06-30T02:39:30.236046Z"
    },
    "papermill": {
     "duration": 0.024112,
     "end_time": "2022-06-30T02:39:30.239307",
     "exception": false,
     "start_time": "2022-06-30T02:39:30.215195",
     "status": "completed"
    },
    "tags": []
   },
   "outputs": [],
   "source": [
    "df.set_index('Timestamp',inplace=True)"
   ]
  },
  {
   "cell_type": "code",
   "execution_count": 6,
   "id": "47304e68",
   "metadata": {
    "execution": {
     "iopub.execute_input": "2022-06-30T02:39:30.261227Z",
     "iopub.status.busy": "2022-06-30T02:39:30.260462Z",
     "iopub.status.idle": "2022-06-30T02:39:30.282482Z",
     "shell.execute_reply": "2022-06-30T02:39:30.281644Z"
    },
    "papermill": {
     "duration": 0.035449,
     "end_time": "2022-06-30T02:39:30.284601",
     "exception": false,
     "start_time": "2022-06-30T02:39:30.249152",
     "status": "completed"
    },
    "tags": []
   },
   "outputs": [
    {
     "data": {
      "text/html": [
       "<div>\n",
       "<style scoped>\n",
       "    .dataframe tbody tr th:only-of-type {\n",
       "        vertical-align: middle;\n",
       "    }\n",
       "\n",
       "    .dataframe tbody tr th {\n",
       "        vertical-align: top;\n",
       "    }\n",
       "\n",
       "    .dataframe thead th {\n",
       "        text-align: right;\n",
       "    }\n",
       "</style>\n",
       "<table border=\"1\" class=\"dataframe\">\n",
       "  <thead>\n",
       "    <tr style=\"text-align: right;\">\n",
       "      <th></th>\n",
       "      <th>Age</th>\n",
       "    </tr>\n",
       "  </thead>\n",
       "  <tbody>\n",
       "    <tr>\n",
       "      <th>count</th>\n",
       "      <td>100.00000</td>\n",
       "    </tr>\n",
       "    <tr>\n",
       "      <th>mean</th>\n",
       "      <td>20.53000</td>\n",
       "    </tr>\n",
       "    <tr>\n",
       "      <th>std</th>\n",
       "      <td>2.49628</td>\n",
       "    </tr>\n",
       "    <tr>\n",
       "      <th>min</th>\n",
       "      <td>18.00000</td>\n",
       "    </tr>\n",
       "    <tr>\n",
       "      <th>25%</th>\n",
       "      <td>18.00000</td>\n",
       "    </tr>\n",
       "    <tr>\n",
       "      <th>50%</th>\n",
       "      <td>19.00000</td>\n",
       "    </tr>\n",
       "    <tr>\n",
       "      <th>75%</th>\n",
       "      <td>23.00000</td>\n",
       "    </tr>\n",
       "    <tr>\n",
       "      <th>max</th>\n",
       "      <td>24.00000</td>\n",
       "    </tr>\n",
       "  </tbody>\n",
       "</table>\n",
       "</div>"
      ],
      "text/plain": [
       "             Age\n",
       "count  100.00000\n",
       "mean    20.53000\n",
       "std      2.49628\n",
       "min     18.00000\n",
       "25%     18.00000\n",
       "50%     19.00000\n",
       "75%     23.00000\n",
       "max     24.00000"
      ]
     },
     "execution_count": 6,
     "metadata": {},
     "output_type": "execute_result"
    }
   ],
   "source": [
    "df.describe()"
   ]
  },
  {
   "cell_type": "code",
   "execution_count": 7,
   "id": "84ab1a45",
   "metadata": {
    "execution": {
     "iopub.execute_input": "2022-06-30T02:39:30.306761Z",
     "iopub.status.busy": "2022-06-30T02:39:30.306052Z",
     "iopub.status.idle": "2022-06-30T02:39:30.325208Z",
     "shell.execute_reply": "2022-06-30T02:39:30.324070Z"
    },
    "papermill": {
     "duration": 0.033169,
     "end_time": "2022-06-30T02:39:30.327714",
     "exception": false,
     "start_time": "2022-06-30T02:39:30.294545",
     "status": "completed"
    },
    "tags": []
   },
   "outputs": [
    {
     "data": {
      "text/html": [
       "<div>\n",
       "<style scoped>\n",
       "    .dataframe tbody tr th:only-of-type {\n",
       "        vertical-align: middle;\n",
       "    }\n",
       "\n",
       "    .dataframe tbody tr th {\n",
       "        vertical-align: top;\n",
       "    }\n",
       "\n",
       "    .dataframe thead th {\n",
       "        text-align: right;\n",
       "    }\n",
       "</style>\n",
       "<table border=\"1\" class=\"dataframe\">\n",
       "  <thead>\n",
       "    <tr style=\"text-align: right;\">\n",
       "      <th></th>\n",
       "      <th>Choose your gender</th>\n",
       "      <th>Age</th>\n",
       "      <th>What is your course?</th>\n",
       "      <th>Your current year of Study</th>\n",
       "      <th>What is your CGPA?</th>\n",
       "      <th>Marital status</th>\n",
       "      <th>Do you have Depression?</th>\n",
       "      <th>Do you have Anxiety?</th>\n",
       "      <th>Do you have Panic attack?</th>\n",
       "      <th>Did you seek any specialist for a treatment?</th>\n",
       "    </tr>\n",
       "    <tr>\n",
       "      <th>Timestamp</th>\n",
       "      <th></th>\n",
       "      <th></th>\n",
       "      <th></th>\n",
       "      <th></th>\n",
       "      <th></th>\n",
       "      <th></th>\n",
       "      <th></th>\n",
       "      <th></th>\n",
       "      <th></th>\n",
       "      <th></th>\n",
       "    </tr>\n",
       "  </thead>\n",
       "  <tbody>\n",
       "    <tr>\n",
       "      <th>8/7/2020 12:02</th>\n",
       "      <td>Female</td>\n",
       "      <td>18.0</td>\n",
       "      <td>Engineering</td>\n",
       "      <td>year 1</td>\n",
       "      <td>3.00 - 3.49</td>\n",
       "      <td>No</td>\n",
       "      <td>Yes</td>\n",
       "      <td>No</td>\n",
       "      <td>Yes</td>\n",
       "      <td>No</td>\n",
       "    </tr>\n",
       "    <tr>\n",
       "      <th>8/7/2020 12:04</th>\n",
       "      <td>Male</td>\n",
       "      <td>21.0</td>\n",
       "      <td>Islamic education</td>\n",
       "      <td>year 2</td>\n",
       "      <td>3.00 - 3.49</td>\n",
       "      <td>No</td>\n",
       "      <td>No</td>\n",
       "      <td>Yes</td>\n",
       "      <td>No</td>\n",
       "      <td>No</td>\n",
       "    </tr>\n",
       "    <tr>\n",
       "      <th>8/7/2020 12:05</th>\n",
       "      <td>Male</td>\n",
       "      <td>19.0</td>\n",
       "      <td>BIT</td>\n",
       "      <td>Year 1</td>\n",
       "      <td>3.00 - 3.49</td>\n",
       "      <td>No</td>\n",
       "      <td>Yes</td>\n",
       "      <td>Yes</td>\n",
       "      <td>Yes</td>\n",
       "      <td>No</td>\n",
       "    </tr>\n",
       "    <tr>\n",
       "      <th>8/7/2020 12:06</th>\n",
       "      <td>Female</td>\n",
       "      <td>22.0</td>\n",
       "      <td>Laws</td>\n",
       "      <td>year 3</td>\n",
       "      <td>3.00 - 3.49</td>\n",
       "      <td>Yes</td>\n",
       "      <td>Yes</td>\n",
       "      <td>No</td>\n",
       "      <td>No</td>\n",
       "      <td>No</td>\n",
       "    </tr>\n",
       "    <tr>\n",
       "      <th>8/7/2020 12:13</th>\n",
       "      <td>Male</td>\n",
       "      <td>23.0</td>\n",
       "      <td>Mathemathics</td>\n",
       "      <td>year 4</td>\n",
       "      <td>3.00 - 3.49</td>\n",
       "      <td>No</td>\n",
       "      <td>No</td>\n",
       "      <td>No</td>\n",
       "      <td>No</td>\n",
       "      <td>No</td>\n",
       "    </tr>\n",
       "    <tr>\n",
       "      <th>8/7/2020 12:31</th>\n",
       "      <td>Male</td>\n",
       "      <td>19.0</td>\n",
       "      <td>Engineering</td>\n",
       "      <td>Year 2</td>\n",
       "      <td>3.50 - 4.00</td>\n",
       "      <td>No</td>\n",
       "      <td>No</td>\n",
       "      <td>No</td>\n",
       "      <td>Yes</td>\n",
       "      <td>No</td>\n",
       "    </tr>\n",
       "    <tr>\n",
       "      <th>8/7/2020 12:32</th>\n",
       "      <td>Female</td>\n",
       "      <td>23.0</td>\n",
       "      <td>Pendidikan islam</td>\n",
       "      <td>year 2</td>\n",
       "      <td>3.50 - 4.00</td>\n",
       "      <td>Yes</td>\n",
       "      <td>Yes</td>\n",
       "      <td>No</td>\n",
       "      <td>Yes</td>\n",
       "      <td>No</td>\n",
       "    </tr>\n",
       "    <tr>\n",
       "      <th>8/7/2020 12:33</th>\n",
       "      <td>Female</td>\n",
       "      <td>18.0</td>\n",
       "      <td>BCS</td>\n",
       "      <td>year 1</td>\n",
       "      <td>3.50 - 4.00</td>\n",
       "      <td>No</td>\n",
       "      <td>No</td>\n",
       "      <td>Yes</td>\n",
       "      <td>No</td>\n",
       "      <td>No</td>\n",
       "    </tr>\n",
       "    <tr>\n",
       "      <th>8/7/2020 12:35</th>\n",
       "      <td>Female</td>\n",
       "      <td>19.0</td>\n",
       "      <td>Human Resources</td>\n",
       "      <td>Year 2</td>\n",
       "      <td>2.50 - 2.99</td>\n",
       "      <td>No</td>\n",
       "      <td>No</td>\n",
       "      <td>No</td>\n",
       "      <td>No</td>\n",
       "      <td>No</td>\n",
       "    </tr>\n",
       "    <tr>\n",
       "      <th>8/7/2020 12:39</th>\n",
       "      <td>Male</td>\n",
       "      <td>18.0</td>\n",
       "      <td>Irkhs</td>\n",
       "      <td>year 1</td>\n",
       "      <td>3.50 - 4.00</td>\n",
       "      <td>No</td>\n",
       "      <td>No</td>\n",
       "      <td>Yes</td>\n",
       "      <td>Yes</td>\n",
       "      <td>No</td>\n",
       "    </tr>\n",
       "  </tbody>\n",
       "</table>\n",
       "</div>"
      ],
      "text/plain": [
       "               Choose your gender   Age What is your course?  \\\n",
       "Timestamp                                                      \n",
       "8/7/2020 12:02             Female  18.0          Engineering   \n",
       "8/7/2020 12:04               Male  21.0    Islamic education   \n",
       "8/7/2020 12:05               Male  19.0                  BIT   \n",
       "8/7/2020 12:06             Female  22.0                 Laws   \n",
       "8/7/2020 12:13               Male  23.0         Mathemathics   \n",
       "8/7/2020 12:31               Male  19.0          Engineering   \n",
       "8/7/2020 12:32             Female  23.0     Pendidikan islam   \n",
       "8/7/2020 12:33             Female  18.0                  BCS   \n",
       "8/7/2020 12:35             Female  19.0      Human Resources   \n",
       "8/7/2020 12:39               Male  18.0                Irkhs   \n",
       "\n",
       "               Your current year of Study What is your CGPA? Marital status  \\\n",
       "Timestamp                                                                     \n",
       "8/7/2020 12:02                     year 1        3.00 - 3.49             No   \n",
       "8/7/2020 12:04                     year 2        3.00 - 3.49             No   \n",
       "8/7/2020 12:05                     Year 1        3.00 - 3.49             No   \n",
       "8/7/2020 12:06                     year 3        3.00 - 3.49            Yes   \n",
       "8/7/2020 12:13                     year 4        3.00 - 3.49             No   \n",
       "8/7/2020 12:31                     Year 2        3.50 - 4.00             No   \n",
       "8/7/2020 12:32                     year 2       3.50 - 4.00             Yes   \n",
       "8/7/2020 12:33                     year 1        3.50 - 4.00             No   \n",
       "8/7/2020 12:35                     Year 2        2.50 - 2.99             No   \n",
       "8/7/2020 12:39                     year 1        3.50 - 4.00             No   \n",
       "\n",
       "               Do you have Depression? Do you have Anxiety?  \\\n",
       "Timestamp                                                     \n",
       "8/7/2020 12:02                     Yes                   No   \n",
       "8/7/2020 12:04                      No                  Yes   \n",
       "8/7/2020 12:05                     Yes                  Yes   \n",
       "8/7/2020 12:06                     Yes                   No   \n",
       "8/7/2020 12:13                      No                   No   \n",
       "8/7/2020 12:31                      No                   No   \n",
       "8/7/2020 12:32                     Yes                   No   \n",
       "8/7/2020 12:33                      No                  Yes   \n",
       "8/7/2020 12:35                      No                   No   \n",
       "8/7/2020 12:39                      No                  Yes   \n",
       "\n",
       "               Do you have Panic attack?  \\\n",
       "Timestamp                                  \n",
       "8/7/2020 12:02                       Yes   \n",
       "8/7/2020 12:04                        No   \n",
       "8/7/2020 12:05                       Yes   \n",
       "8/7/2020 12:06                        No   \n",
       "8/7/2020 12:13                        No   \n",
       "8/7/2020 12:31                       Yes   \n",
       "8/7/2020 12:32                       Yes   \n",
       "8/7/2020 12:33                        No   \n",
       "8/7/2020 12:35                        No   \n",
       "8/7/2020 12:39                       Yes   \n",
       "\n",
       "               Did you seek any specialist for a treatment?  \n",
       "Timestamp                                                    \n",
       "8/7/2020 12:02                                           No  \n",
       "8/7/2020 12:04                                           No  \n",
       "8/7/2020 12:05                                           No  \n",
       "8/7/2020 12:06                                           No  \n",
       "8/7/2020 12:13                                           No  \n",
       "8/7/2020 12:31                                           No  \n",
       "8/7/2020 12:32                                           No  \n",
       "8/7/2020 12:33                                           No  \n",
       "8/7/2020 12:35                                           No  \n",
       "8/7/2020 12:39                                           No  "
      ]
     },
     "execution_count": 7,
     "metadata": {},
     "output_type": "execute_result"
    }
   ],
   "source": [
    "df.head(10)"
   ]
  },
  {
   "cell_type": "markdown",
   "id": "63a2c47f",
   "metadata": {
    "papermill": {
     "duration": 0.00969,
     "end_time": "2022-06-30T02:39:30.347861",
     "exception": false,
     "start_time": "2022-06-30T02:39:30.338171",
     "status": "completed"
    },
    "tags": []
   },
   "source": [
    "### missing value"
   ]
  },
  {
   "cell_type": "code",
   "execution_count": 8,
   "id": "e7bb1d28",
   "metadata": {
    "collapsed": true,
    "execution": {
     "iopub.execute_input": "2022-06-30T02:39:30.369803Z",
     "iopub.status.busy": "2022-06-30T02:39:30.369404Z",
     "iopub.status.idle": "2022-06-30T02:39:30.377526Z",
     "shell.execute_reply": "2022-06-30T02:39:30.376723Z"
    },
    "jupyter": {
     "outputs_hidden": true
    },
    "papermill": {
     "duration": 0.021725,
     "end_time": "2022-06-30T02:39:30.379725",
     "exception": false,
     "start_time": "2022-06-30T02:39:30.358000",
     "status": "completed"
    },
    "tags": []
   },
   "outputs": [
    {
     "data": {
      "text/plain": [
       "Choose your gender                              0\n",
       "Age                                             1\n",
       "What is your course?                            0\n",
       "Your current year of Study                      0\n",
       "What is your CGPA?                              0\n",
       "Marital status                                  0\n",
       "Do you have Depression?                         0\n",
       "Do you have Anxiety?                            0\n",
       "Do you have Panic attack?                       0\n",
       "Did you seek any specialist for a treatment?    0\n",
       "dtype: int64"
      ]
     },
     "execution_count": 8,
     "metadata": {},
     "output_type": "execute_result"
    }
   ],
   "source": [
    "df.isnull().sum()"
   ]
  },
  {
   "cell_type": "code",
   "execution_count": 9,
   "id": "131f1a5d",
   "metadata": {
    "execution": {
     "iopub.execute_input": "2022-06-30T02:39:30.402287Z",
     "iopub.status.busy": "2022-06-30T02:39:30.401624Z",
     "iopub.status.idle": "2022-06-30T02:39:30.407267Z",
     "shell.execute_reply": "2022-06-30T02:39:30.406184Z"
    },
    "papermill": {
     "duration": 0.020002,
     "end_time": "2022-06-30T02:39:30.410001",
     "exception": false,
     "start_time": "2022-06-30T02:39:30.389999",
     "status": "completed"
    },
    "tags": []
   },
   "outputs": [],
   "source": [
    "df['Age']=df['Age'].fillna(int(df['Age'].mean()))"
   ]
  },
  {
   "cell_type": "code",
   "execution_count": 10,
   "id": "7be65da1",
   "metadata": {
    "collapsed": true,
    "execution": {
     "iopub.execute_input": "2022-06-30T02:39:30.432632Z",
     "iopub.status.busy": "2022-06-30T02:39:30.431828Z",
     "iopub.status.idle": "2022-06-30T02:39:30.441428Z",
     "shell.execute_reply": "2022-06-30T02:39:30.440505Z"
    },
    "jupyter": {
     "outputs_hidden": true
    },
    "papermill": {
     "duration": 0.023582,
     "end_time": "2022-06-30T02:39:30.443727",
     "exception": false,
     "start_time": "2022-06-30T02:39:30.420145",
     "status": "completed"
    },
    "tags": []
   },
   "outputs": [
    {
     "data": {
      "text/plain": [
       "Choose your gender                              0\n",
       "Age                                             0\n",
       "What is your course?                            0\n",
       "Your current year of Study                      0\n",
       "What is your CGPA?                              0\n",
       "Marital status                                  0\n",
       "Do you have Depression?                         0\n",
       "Do you have Anxiety?                            0\n",
       "Do you have Panic attack?                       0\n",
       "Did you seek any specialist for a treatment?    0\n",
       "dtype: int64"
      ]
     },
     "execution_count": 10,
     "metadata": {},
     "output_type": "execute_result"
    }
   ],
   "source": [
    "df.isnull().sum()"
   ]
  },
  {
   "cell_type": "markdown",
   "id": "46c32c92",
   "metadata": {
    "papermill": {
     "duration": 0.010034,
     "end_time": "2022-06-30T02:39:30.464233",
     "exception": false,
     "start_time": "2022-06-30T02:39:30.454199",
     "status": "completed"
    },
    "tags": []
   },
   "source": [
    "### find non duplicated courses in dataset"
   ]
  },
  {
   "cell_type": "code",
   "execution_count": 11,
   "id": "8b592909",
   "metadata": {
    "execution": {
     "iopub.execute_input": "2022-06-30T02:39:30.487403Z",
     "iopub.status.busy": "2022-06-30T02:39:30.486640Z",
     "iopub.status.idle": "2022-06-30T02:39:30.494713Z",
     "shell.execute_reply": "2022-06-30T02:39:30.493656Z"
    },
    "papermill": {
     "duration": 0.022495,
     "end_time": "2022-06-30T02:39:30.497188",
     "exception": false,
     "start_time": "2022-06-30T02:39:30.474693",
     "status": "completed"
    },
    "tags": []
   },
   "outputs": [
    {
     "data": {
      "text/plain": [
       "array(['Engineering', 'Islamic education', 'BIT', 'Laws', 'Mathemathics',\n",
       "       'Pendidikan islam', 'BCS', 'Human Resources', 'Irkhs',\n",
       "       'Psychology', 'KENMS', 'Accounting ', 'ENM', 'Marine science',\n",
       "       'KOE', 'Banking Studies', 'Business Administration', 'Law',\n",
       "       'KIRKHS', 'Usuluddin ', 'TAASL', 'Engine', 'ALA',\n",
       "       'Biomedical science', 'koe', 'Kirkhs', 'BENL', 'Benl', 'IT', 'CTS',\n",
       "       'engin', 'Econs', 'MHSC', 'Malcom', 'Kop', 'Human Sciences ',\n",
       "       'Biotechnology', 'Communication ', 'Diploma Nursing',\n",
       "       'Pendidikan Islam ', 'Radiography', 'psychology', 'Fiqh fatwa ',\n",
       "       'DIPLOMA TESL', 'Koe', 'Fiqh', 'Islamic Education', 'Nursing ',\n",
       "       'Pendidikan Islam'], dtype=object)"
      ]
     },
     "execution_count": 11,
     "metadata": {},
     "output_type": "execute_result"
    }
   ],
   "source": [
    "arr = df[\"What is your course?\"].unique()\n",
    "arr"
   ]
  },
  {
   "cell_type": "markdown",
   "id": "6d77a40b",
   "metadata": {
    "papermill": {
     "duration": 0.01024,
     "end_time": "2022-06-30T02:39:30.517807",
     "exception": false,
     "start_time": "2022-06-30T02:39:30.507567",
     "status": "completed"
    },
    "tags": []
   },
   "source": [
    "### make some visualization to find answers"
   ]
  },
  {
   "cell_type": "code",
   "execution_count": 12,
   "id": "c10ecdcf",
   "metadata": {
    "execution": {
     "iopub.execute_input": "2022-06-30T02:39:30.541005Z",
     "iopub.status.busy": "2022-06-30T02:39:30.540252Z",
     "iopub.status.idle": "2022-06-30T02:39:30.898745Z",
     "shell.execute_reply": "2022-06-30T02:39:30.897508Z"
    },
    "papermill": {
     "duration": 0.372928,
     "end_time": "2022-06-30T02:39:30.901154",
     "exception": false,
     "start_time": "2022-06-30T02:39:30.528226",
     "status": "completed"
    },
    "tags": []
   },
   "outputs": [
    {
     "data": {
      "text/plain": [
       "<seaborn.axisgrid.FacetGrid at 0x7efc42388950>"
      ]
     },
     "execution_count": 12,
     "metadata": {},
     "output_type": "execute_result"
    },
    {
     "data": {
      "image/png": "[encoded data removed]",
      "text/plain": [
       "<Figure size 477x360 with 1 Axes>"
      ]
     },
     "metadata": {
      "needs_background": "light"
     },
     "output_type": "display_data"
    }
   ],
   "source": [
    "sns.catplot(x='Choose your gender',hue='Do you have Anxiety?',kind='count',data=df)"
   ]
  },
  {
   "cell_type": "code",
   "execution_count": 13,
   "id": "4fcb23d0",
   "metadata": {
    "execution": {
     "iopub.execute_input": "2022-06-30T02:39:30.925594Z",
     "iopub.status.busy": "2022-06-30T02:39:30.924447Z",
     "iopub.status.idle": "2022-06-30T02:39:31.216784Z",
     "shell.execute_reply": "2022-06-30T02:39:31.215618Z"
    },
    "papermill": {
     "duration": 0.307158,
     "end_time": "2022-06-30T02:39:31.219214",
     "exception": false,
     "start_time": "2022-06-30T02:39:30.912056",
     "status": "completed"
    },
    "tags": []
   },
   "outputs": [
    {
     "data": {
      "text/plain": [
       "<seaborn.axisgrid.FacetGrid at 0x7efc42335dd0>"
      ]
     },
     "execution_count": 13,
     "metadata": {},
     "output_type": "execute_result"
    },
    {
     "data": {
      "image/png": "[encoded data removed]",
      "text/plain": [
       "<Figure size 495x360 with 1 Axes>"
      ]
     },
     "metadata": {
      "needs_background": "light"
     },
     "output_type": "display_data"
    }
   ],
   "source": [
    "sns.catplot(x='Choose your gender',hue='Do you have Depression?',kind='count',data=df)"
   ]
  },
  {
   "cell_type": "code",
   "execution_count": 14,
   "id": "2aa94983",
   "metadata": {
    "execution": {
     "iopub.execute_input": "2022-06-30T02:39:31.243607Z",
     "iopub.status.busy": "2022-06-30T02:39:31.243186Z",
     "iopub.status.idle": "2022-06-30T02:39:31.561383Z",
     "shell.execute_reply": "2022-06-30T02:39:31.560611Z"
    },
    "papermill": {
     "duration": 0.333249,
     "end_time": "2022-06-30T02:39:31.563733",
     "exception": false,
     "start_time": "2022-06-30T02:39:31.230484",
     "status": "completed"
    },
    "tags": []
   },
   "outputs": [
    {
     "data": {
      "text/plain": [
       "<seaborn.axisgrid.FacetGrid at 0x7efc422d5110>"
      ]
     },
     "execution_count": 14,
     "metadata": {},
     "output_type": "execute_result"
    },
    {
     "data": {
      "image/png": "[encoded data removed]",
      "text/plain": [
       "<Figure size 499.875x360 with 1 Axes>"
      ]
     },
     "metadata": {
      "needs_background": "light"
     },
     "output_type": "display_data"
    }
   ],
   "source": [
    "sns.catplot(x='Choose your gender',hue='Do you have Panic attack?',kind='count',data=df)"
   ]
  },
  {
   "cell_type": "code",
   "execution_count": 15,
   "id": "700058e1",
   "metadata": {
    "execution": {
     "iopub.execute_input": "2022-06-30T02:39:31.588893Z",
     "iopub.status.busy": "2022-06-30T02:39:31.588388Z",
     "iopub.status.idle": "2022-06-30T02:39:31.911723Z",
     "shell.execute_reply": "2022-06-30T02:39:31.910409Z"
    },
    "papermill": {
     "duration": 0.33917,
     "end_time": "2022-06-30T02:39:31.914383",
     "exception": false,
     "start_time": "2022-06-30T02:39:31.575213",
     "status": "completed"
    },
    "tags": []
   },
   "outputs": [
    {
     "data": {
      "text/plain": [
       "<seaborn.axisgrid.FacetGrid at 0x7efc43c19850>"
      ]
     },
     "execution_count": 15,
     "metadata": {},
     "output_type": "execute_result"
    },
    {
     "data": {
      "image/png": "[encoded data removed]",
      "text/plain": [
       "<Figure size 588.75x360 with 1 Axes>"
      ]
     },
     "metadata": {
      "needs_background": "light"
     },
     "output_type": "display_data"
    }
   ],
   "source": [
    "sns.catplot(x='Choose your gender',hue='Did you seek any specialist for a treatment?',kind='count',data=df)"
   ]
  },
  {
   "cell_type": "markdown",
   "id": "82404410",
   "metadata": {
    "papermill": {
     "duration": 0.011657,
     "end_time": "2022-06-30T02:39:31.938433",
     "exception": false,
     "start_time": "2022-06-30T02:39:31.926776",
     "status": "completed"
    },
    "tags": []
   },
   "source": []
  },
  {
   "cell_type": "code",
   "execution_count": 16,
   "id": "dfbdf40d",
   "metadata": {
    "execution": {
     "iopub.execute_input": "2022-06-30T02:39:31.964970Z",
     "iopub.status.busy": "2022-06-30T02:39:31.963880Z",
     "iopub.status.idle": "2022-06-30T02:39:32.132925Z",
     "shell.execute_reply": "2022-06-30T02:39:32.132058Z"
    },
    "papermill": {
     "duration": 0.185141,
     "end_time": "2022-06-30T02:39:32.135408",
     "exception": false,
     "start_time": "2022-06-30T02:39:31.950267",
     "status": "completed"
    },
    "tags": []
   },
   "outputs": [
    {
     "data": {
      "text/plain": [
       "<AxesSubplot:xlabel='Marital status', ylabel='count'>"
      ]
     },
     "execution_count": 16,
     "metadata": {},
     "output_type": "execute_result"
    },
    {
     "data": {
      "image/png": "[encoded data removed]",
      "text/plain": [
       "<Figure size 432x288 with 1 Axes>"
      ]
     },
     "metadata": {
      "needs_background": "light"
     },
     "output_type": "display_data"
    }
   ],
   "source": [
    " sns.countplot(x=\"Marital status\",data=df)"
   ]
  },
  {
   "cell_type": "markdown",
   "id": "0aca1cec",
   "metadata": {
    "papermill": {
     "duration": 0.012146,
     "end_time": "2022-06-30T02:39:32.160845",
     "exception": false,
     "start_time": "2022-06-30T02:39:32.148699",
     "status": "completed"
    },
    "tags": []
   },
   "source": [
    "### so in this figures we see the female more senstive than male and have alot of Depression and the most of students are single "
   ]
  },
  {
   "cell_type": "code",
   "execution_count": 17,
   "id": "859f7d00",
   "metadata": {
    "execution": {
     "iopub.execute_input": "2022-06-30T02:39:32.188552Z",
     "iopub.status.busy": "2022-06-30T02:39:32.187349Z",
     "iopub.status.idle": "2022-06-30T02:39:32.450860Z",
     "shell.execute_reply": "2022-06-30T02:39:32.450063Z"
    },
    "papermill": {
     "duration": 0.279443,
     "end_time": "2022-06-30T02:39:32.453076",
     "exception": false,
     "start_time": "2022-06-30T02:39:32.173633",
     "status": "completed"
    },
    "tags": []
   },
   "outputs": [
    {
     "data": {
      "text/plain": [
       "<AxesSubplot:xlabel='Age', ylabel='count'>"
      ]
     },
     "execution_count": 17,
     "metadata": {},
     "output_type": "execute_result"
    },
    {
     "data": {
      "image/png": "[encoded data removed]",
      "text/plain": [
       "<Figure size 432x288 with 1 Axes>"
      ]
     },
     "metadata": {
      "needs_background": "light"
     },
     "output_type": "display_data"
    }
   ],
   "source": [
    " sns.countplot(x=\"Age\", hue='Do you have Anxiety?',data=df)"
   ]
  },
  {
   "cell_type": "code",
   "execution_count": 18,
   "id": "036e3020",
   "metadata": {
    "execution": {
     "iopub.execute_input": "2022-06-30T02:39:32.482035Z",
     "iopub.status.busy": "2022-06-30T02:39:32.480955Z",
     "iopub.status.idle": "2022-06-30T02:39:32.715317Z",
     "shell.execute_reply": "2022-06-30T02:39:32.714149Z"
    },
    "papermill": {
     "duration": 0.251336,
     "end_time": "2022-06-30T02:39:32.717855",
     "exception": false,
     "start_time": "2022-06-30T02:39:32.466519",
     "status": "completed"
    },
    "tags": []
   },
   "outputs": [
    {
     "data": {
      "text/plain": [
       "<AxesSubplot:xlabel='Your current year of Study', ylabel='count'>"
      ]
     },
     "execution_count": 18,
     "metadata": {},
     "output_type": "execute_result"
    },
    {
     "data": {
      "image/png": "[encoded data removed]",
      "text/plain": [
       "<Figure size 432x288 with 1 Axes>"
      ]
     },
     "metadata": {
      "needs_background": "light"
     },
     "output_type": "display_data"
    }
   ],
   "source": [
    " sns.countplot(x=\"Your current year of Study\", hue='Do you have Depression?',data=df)"
   ]
  },
  {
   "cell_type": "markdown",
   "id": "676dbbf5",
   "metadata": {
    "papermill": {
     "duration": 0.012872,
     "end_time": "2022-06-30T02:39:32.743939",
     "exception": false,
     "start_time": "2022-06-30T02:39:32.731067",
     "status": "completed"
    },
    "tags": []
   },
   "source": [
    "### A lot of depression and anxiety come in the first year and his age is 18, which means that the student is afraid of the unknown and doubts the extent of his ability to choose his field of study."
   ]
  },
  {
   "cell_type": "code",
   "execution_count": 19,
   "id": "f2bcf3e7",
   "metadata": {
    "execution": {
     "iopub.execute_input": "2022-06-30T02:39:32.772784Z",
     "iopub.status.busy": "2022-06-30T02:39:32.772076Z",
     "iopub.status.idle": "2022-06-30T02:39:32.970996Z",
     "shell.execute_reply": "2022-06-30T02:39:32.969803Z"
    },
    "papermill": {
     "duration": 0.215898,
     "end_time": "2022-06-30T02:39:32.973516",
     "exception": false,
     "start_time": "2022-06-30T02:39:32.757618",
     "status": "completed"
    },
    "tags": []
   },
   "outputs": [
    {
     "data": {
      "text/plain": [
       "<AxesSubplot:xlabel='What is your CGPA?', ylabel='count'>"
      ]
     },
     "execution_count": 19,
     "metadata": {},
     "output_type": "execute_result"
    },
    {
     "data": {
      "image/png": "[encoded data removed]",
      "text/plain": [
       "<Figure size 432x288 with 1 Axes>"
      ]
     },
     "metadata": {
      "needs_background": "light"
     },
     "output_type": "display_data"
    }
   ],
   "source": [
    " sns.countplot(x=\"What is your CGPA?\", hue='Do you have Depression?',data=df)"
   ]
  },
  {
   "cell_type": "markdown",
   "id": "5d8f71fd",
   "metadata": {
    "papermill": {
     "duration": 0.013645,
     "end_time": "2022-06-30T02:39:33.000757",
     "exception": false,
     "start_time": "2022-06-30T02:39:32.987112",
     "status": "completed"
    },
    "tags": []
   },
   "source": [
    "### but the most of students have a high GPA which mean the Depression has a little effect on GPA"
   ]
  },
  {
   "cell_type": "code",
   "execution_count": 20,
   "id": "0e72ac34",
   "metadata": {
    "execution": {
     "iopub.execute_input": "2022-06-30T02:39:33.033993Z",
     "iopub.status.busy": "2022-06-30T02:39:33.033562Z",
     "iopub.status.idle": "2022-06-30T02:39:34.332488Z",
     "shell.execute_reply": "2022-06-30T02:39:34.331379Z"
    },
    "papermill": {
     "duration": 1.317072,
     "end_time": "2022-06-30T02:39:34.335147",
     "exception": false,
     "start_time": "2022-06-30T02:39:33.018075",
     "status": "completed"
    },
    "tags": []
   },
   "outputs": [
    {
     "data": {
      "image/png": "[encoded data removed]",
      "text/plain": [
       "<Figure size 1080x576 with 1 Axes>"
      ]
     },
     "metadata": {},
     "output_type": "display_data"
    }
   ],
   "source": [
    "sns.set(rc = {'figure.figsize':(15,8)})\n",
    "yr=sns.countplot(x='What is your course?',hue='Do you have Depression?',data=df)\n",
    "yr.set_xticklabels(yr.get_xticklabels(),rotation=90);"
   ]
  },
  {
   "cell_type": "markdown",
   "id": "c6aabaee",
   "metadata": {
    "papermill": {
     "duration": 0.014251,
     "end_time": "2022-06-30T02:39:34.364075",
     "exception": false,
     "start_time": "2022-06-30T02:39:34.349824",
     "status": "completed"
    },
    "tags": []
   },
   "source": [
    "### clearly in this viz the most study field has alot of Depression is Engineering "
   ]
  },
  {
   "cell_type": "code",
   "execution_count": null,
   "id": "94aa3d0c",
   "metadata": {
    "papermill": {
     "duration": 0.014106,
     "end_time": "2022-06-30T02:39:34.392725",
     "exception": false,
     "start_time": "2022-06-30T02:39:34.378619",
     "status": "completed"
    },
    "tags": []
   },
   "outputs": [],
   "source": []
  },
  {
   "cell_type": "markdown",
   "id": "6a03284c",
   "metadata": {
    "papermill": {
     "duration": 0.014437,
     "end_time": "2022-06-30T02:39:34.421661",
     "exception": false,
     "start_time": "2022-06-30T02:39:34.407224",
     "status": "completed"
    },
    "tags": []
   },
   "source": [
    "### Therefore, females are more sensitive than males, and students have more depression in the first year. To solve this problem, the field of study must be clearly defined for the student to have confidence in his choice and provide psychological support to students more in the first year and those of young ages and give support to whoes study Engineering"
   ]
  },
  {
   "cell_type": "markdown",
   "id": "827a11eb",
   "metadata": {
    "papermill": {
     "duration": 0.014485,
     "end_time": "2022-06-30T02:39:34.450773",
     "exception": false,
     "start_time": "2022-06-30T02:39:34.436288",
     "status": "completed"
    },
    "tags": []
   },
   "source": []
  }
 ],
 "metadata": {
  "kernelspec": {
   "display_name": "Python 3",
   "language": "python",
   "name": "python3"
  },
  "language_info": {
   "codemirror_mode": {
    "name": "ipython",
    "version": 3
   },
   "file_extension": ".py",
   "mimetype": "text/x-python",
   "name": "python",
   "nbconvert_exporter": "python",
   "pygments_lexer": "ipython3",
   "version": "3.7.12"
  },
  "papermill": {
   "default_parameters": {},
   "duration": 17.415361,
   "end_time": "2022-06-30T02:39:35.287256",
   "environment_variables": {},
   "exception": null,
   "input_path": "__notebook__.ipynb",
   "output_path": "__notebook__.ipynb",
   "parameters": {},
   "start_time": "2022-06-30T02:39:17.871895",
   "version": "2.3.4"
  }
 },
 "nbformat": 4,
 "nbformat_minor": 5
}
