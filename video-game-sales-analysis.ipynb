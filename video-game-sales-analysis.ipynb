{
 "cells": [
  {
   "cell_type": "markdown",
   "id": "40e5fbf0",
   "metadata": {
    "papermill": {
     "duration": 0.010413,
     "end_time": "2022-07-04T09:26:30.628624",
     "exception": false,
     "start_time": "2022-07-04T09:26:30.618211",
     "status": "completed"
    },
    "tags": []
   },
   "source": [
    " #  video game sales analysis"
   ]
  },
  {
   "cell_type": "markdown",
   "id": "f942b9d5",
   "metadata": {
    "papermill": {
     "duration": 0.00956,
     "end_time": "2022-07-04T09:26:30.647986",
     "exception": false,
     "start_time": "2022-07-04T09:26:30.638426",
     "status": "completed"
    },
    "tags": []
   },
   "source": []
  },
  {
   "cell_type": "code",
   "execution_count": 1,
   "id": "c3abcb0f",
   "metadata": {
    "execution": {
     "iopub.execute_input": "2022-07-04T09:26:30.669538Z",
     "iopub.status.busy": "2022-07-04T09:26:30.668903Z",
     "iopub.status.idle": "2022-07-04T09:26:32.888909Z",
     "shell.execute_reply": "2022-07-04T09:26:32.887744Z"
    },
    "papermill": {
     "duration": 2.234406,
     "end_time": "2022-07-04T09:26:32.891868",
     "exception": false,
     "start_time": "2022-07-04T09:26:30.657462",
     "status": "completed"
    },
    "tags": []
   },
   "outputs": [],
   "source": [
    "import numpy as np\n",
    "import pandas as pd\n",
    "import seaborn as sns\n",
    "import matplotlib.pyplot as plt \n",
    "import scipy.stats\n",
    "from math import sqrt\n",
    "import statsmodels.api as sm\n",
    "import os\n"
   ]
  },
  {
   "cell_type": "code",
   "execution_count": 2,
   "id": "c59de511",
   "metadata": {
    "execution": {
     "iopub.execute_input": "2022-07-04T09:26:32.913255Z",
     "iopub.status.busy": "2022-07-04T09:26:32.912608Z",
     "iopub.status.idle": "2022-07-04T09:26:32.994061Z",
     "shell.execute_reply": "2022-07-04T09:26:32.993200Z"
    },
    "papermill": {
     "duration": 0.094887,
     "end_time": "2022-07-04T09:26:32.996645",
     "exception": false,
     "start_time": "2022-07-04T09:26:32.901758",
     "status": "completed"
    },
    "tags": []
   },
   "outputs": [],
   "source": [
    "df = pd.read_csv(\"/kaggle/input/videogamesales/vgsales.csv\")"
   ]
  },
  {
   "cell_type": "code",
   "execution_count": 3,
   "id": "7c16f78a",
   "metadata": {
    "execution": {
     "iopub.execute_input": "2022-07-04T09:26:33.019407Z",
     "iopub.status.busy": "2022-07-04T09:26:33.018476Z",
     "iopub.status.idle": "2022-07-04T09:26:33.057077Z",
     "shell.execute_reply": "2022-07-04T09:26:33.055642Z"
    },
    "papermill": {
     "duration": 0.052686,
     "end_time": "2022-07-04T09:26:33.059306",
     "exception": false,
     "start_time": "2022-07-04T09:26:33.006620",
     "status": "completed"
    },
    "tags": []
   },
   "outputs": [
    {
     "data": {
      "text/html": [
       "<div>\n",
       "<style scoped>\n",
       "    .dataframe tbody tr th:only-of-type {\n",
       "        vertical-align: middle;\n",
       "    }\n",
       "\n",
       "    .dataframe tbody tr th {\n",
       "        vertical-align: top;\n",
       "    }\n",
       "\n",
       "    .dataframe thead th {\n",
       "        text-align: right;\n",
       "    }\n",
       "</style>\n",
       "<table border=\"1\" class=\"dataframe\">\n",
       "  <thead>\n",
       "    <tr style=\"text-align: right;\">\n",
       "      <th></th>\n",
       "      <th>Rank</th>\n",
       "      <th>Name</th>\n",
       "      <th>Platform</th>\n",
       "      <th>Year</th>\n",
       "      <th>Genre</th>\n",
       "      <th>Publisher</th>\n",
       "      <th>NA_Sales</th>\n",
       "      <th>EU_Sales</th>\n",
       "      <th>JP_Sales</th>\n",
       "      <th>Other_Sales</th>\n",
       "      <th>Global_Sales</th>\n",
       "    </tr>\n",
       "  </thead>\n",
       "  <tbody>\n",
       "    <tr>\n",
       "      <th>0</th>\n",
       "      <td>1</td>\n",
       "      <td>Wii Sports</td>\n",
       "      <td>Wii</td>\n",
       "      <td>2006.0</td>\n",
       "      <td>Sports</td>\n",
       "      <td>Nintendo</td>\n",
       "      <td>41.49</td>\n",
       "      <td>29.02</td>\n",
       "      <td>3.77</td>\n",
       "      <td>8.46</td>\n",
       "      <td>82.74</td>\n",
       "    </tr>\n",
       "    <tr>\n",
       "      <th>1</th>\n",
       "      <td>2</td>\n",
       "      <td>Super Mario Bros.</td>\n",
       "      <td>NES</td>\n",
       "      <td>1985.0</td>\n",
       "      <td>Platform</td>\n",
       "      <td>Nintendo</td>\n",
       "      <td>29.08</td>\n",
       "      <td>3.58</td>\n",
       "      <td>6.81</td>\n",
       "      <td>0.77</td>\n",
       "      <td>40.24</td>\n",
       "    </tr>\n",
       "    <tr>\n",
       "      <th>2</th>\n",
       "      <td>3</td>\n",
       "      <td>Mario Kart Wii</td>\n",
       "      <td>Wii</td>\n",
       "      <td>2008.0</td>\n",
       "      <td>Racing</td>\n",
       "      <td>Nintendo</td>\n",
       "      <td>15.85</td>\n",
       "      <td>12.88</td>\n",
       "      <td>3.79</td>\n",
       "      <td>3.31</td>\n",
       "      <td>35.82</td>\n",
       "    </tr>\n",
       "    <tr>\n",
       "      <th>3</th>\n",
       "      <td>4</td>\n",
       "      <td>Wii Sports Resort</td>\n",
       "      <td>Wii</td>\n",
       "      <td>2009.0</td>\n",
       "      <td>Sports</td>\n",
       "      <td>Nintendo</td>\n",
       "      <td>15.75</td>\n",
       "      <td>11.01</td>\n",
       "      <td>3.28</td>\n",
       "      <td>2.96</td>\n",
       "      <td>33.00</td>\n",
       "    </tr>\n",
       "    <tr>\n",
       "      <th>4</th>\n",
       "      <td>5</td>\n",
       "      <td>Pokemon Red/Pokemon Blue</td>\n",
       "      <td>GB</td>\n",
       "      <td>1996.0</td>\n",
       "      <td>Role-Playing</td>\n",
       "      <td>Nintendo</td>\n",
       "      <td>11.27</td>\n",
       "      <td>8.89</td>\n",
       "      <td>10.22</td>\n",
       "      <td>1.00</td>\n",
       "      <td>31.37</td>\n",
       "    </tr>\n",
       "    <tr>\n",
       "      <th>...</th>\n",
       "      <td>...</td>\n",
       "      <td>...</td>\n",
       "      <td>...</td>\n",
       "      <td>...</td>\n",
       "      <td>...</td>\n",
       "      <td>...</td>\n",
       "      <td>...</td>\n",
       "      <td>...</td>\n",
       "      <td>...</td>\n",
       "      <td>...</td>\n",
       "      <td>...</td>\n",
       "    </tr>\n",
       "    <tr>\n",
       "      <th>16593</th>\n",
       "      <td>16596</td>\n",
       "      <td>Woody Woodpecker in Crazy Castle 5</td>\n",
       "      <td>GBA</td>\n",
       "      <td>2002.0</td>\n",
       "      <td>Platform</td>\n",
       "      <td>Kemco</td>\n",
       "      <td>0.01</td>\n",
       "      <td>0.00</td>\n",
       "      <td>0.00</td>\n",
       "      <td>0.00</td>\n",
       "      <td>0.01</td>\n",
       "    </tr>\n",
       "    <tr>\n",
       "      <th>16594</th>\n",
       "      <td>16597</td>\n",
       "      <td>Men in Black II: Alien Escape</td>\n",
       "      <td>GC</td>\n",
       "      <td>2003.0</td>\n",
       "      <td>Shooter</td>\n",
       "      <td>Infogrames</td>\n",
       "      <td>0.01</td>\n",
       "      <td>0.00</td>\n",
       "      <td>0.00</td>\n",
       "      <td>0.00</td>\n",
       "      <td>0.01</td>\n",
       "    </tr>\n",
       "    <tr>\n",
       "      <th>16595</th>\n",
       "      <td>16598</td>\n",
       "      <td>SCORE International Baja 1000: The Official Game</td>\n",
       "      <td>PS2</td>\n",
       "      <td>2008.0</td>\n",
       "      <td>Racing</td>\n",
       "      <td>Activision</td>\n",
       "      <td>0.00</td>\n",
       "      <td>0.00</td>\n",
       "      <td>0.00</td>\n",
       "      <td>0.00</td>\n",
       "      <td>0.01</td>\n",
       "    </tr>\n",
       "    <tr>\n",
       "      <th>16596</th>\n",
       "      <td>16599</td>\n",
       "      <td>Know How 2</td>\n",
       "      <td>DS</td>\n",
       "      <td>2010.0</td>\n",
       "      <td>Puzzle</td>\n",
       "      <td>7G//AMES</td>\n",
       "      <td>0.00</td>\n",
       "      <td>0.01</td>\n",
       "      <td>0.00</td>\n",
       "      <td>0.00</td>\n",
       "      <td>0.01</td>\n",
       "    </tr>\n",
       "    <tr>\n",
       "      <th>16597</th>\n",
       "      <td>16600</td>\n",
       "      <td>Spirits &amp; Spells</td>\n",
       "      <td>GBA</td>\n",
       "      <td>2003.0</td>\n",
       "      <td>Platform</td>\n",
       "      <td>Wanadoo</td>\n",
       "      <td>0.01</td>\n",
       "      <td>0.00</td>\n",
       "      <td>0.00</td>\n",
       "      <td>0.00</td>\n",
       "      <td>0.01</td>\n",
       "    </tr>\n",
       "  </tbody>\n",
       "</table>\n",
       "<p>16598 rows × 11 columns</p>\n",
       "</div>"
      ],
      "text/plain": [
       "        Rank                                              Name Platform  \\\n",
       "0          1                                        Wii Sports      Wii   \n",
       "1          2                                 Super Mario Bros.      NES   \n",
       "2          3                                    Mario Kart Wii      Wii   \n",
       "3          4                                 Wii Sports Resort      Wii   \n",
       "4          5                          Pokemon Red/Pokemon Blue       GB   \n",
       "...      ...                                               ...      ...   \n",
       "16593  16596                Woody Woodpecker in Crazy Castle 5      GBA   \n",
       "16594  16597                     Men in Black II: Alien Escape       GC   \n",
       "16595  16598  SCORE International Baja 1000: The Official Game      PS2   \n",
       "16596  16599                                        Know How 2       DS   \n",
       "16597  16600                                  Spirits & Spells      GBA   \n",
       "\n",
       "         Year         Genre   Publisher  NA_Sales  EU_Sales  JP_Sales  \\\n",
       "0      2006.0        Sports    Nintendo     41.49     29.02      3.77   \n",
       "1      1985.0      Platform    Nintendo     29.08      3.58      6.81   \n",
       "2      2008.0        Racing    Nintendo     15.85     12.88      3.79   \n",
       "3      2009.0        Sports    Nintendo     15.75     11.01      3.28   \n",
       "4      1996.0  Role-Playing    Nintendo     11.27      8.89     10.22   \n",
       "...       ...           ...         ...       ...       ...       ...   \n",
       "16593  2002.0      Platform       Kemco      0.01      0.00      0.00   \n",
       "16594  2003.0       Shooter  Infogrames      0.01      0.00      0.00   \n",
       "16595  2008.0        Racing  Activision      0.00      0.00      0.00   \n",
       "16596  2010.0        Puzzle    7G//AMES      0.00      0.01      0.00   \n",
       "16597  2003.0      Platform     Wanadoo      0.01      0.00      0.00   \n",
       "\n",
       "       Other_Sales  Global_Sales  \n",
       "0             8.46         82.74  \n",
       "1             0.77         40.24  \n",
       "2             3.31         35.82  \n",
       "3             2.96         33.00  \n",
       "4             1.00         31.37  \n",
       "...            ...           ...  \n",
       "16593         0.00          0.01  \n",
       "16594         0.00          0.01  \n",
       "16595         0.00          0.01  \n",
       "16596         0.00          0.01  \n",
       "16597         0.00          0.01  \n",
       "\n",
       "[16598 rows x 11 columns]"
      ]
     },
     "execution_count": 3,
     "metadata": {},
     "output_type": "execute_result"
    }
   ],
   "source": [
    "df"
   ]
  },
  {
   "cell_type": "markdown",
   "id": "04761a50",
   "metadata": {
    "papermill": {
     "duration": 0.009869,
     "end_time": "2022-07-04T09:26:33.079488",
     "exception": false,
     "start_time": "2022-07-04T09:26:33.069619",
     "status": "completed"
    },
    "tags": []
   },
   "source": [
    "# Exploratory Data Analysis¶\n"
   ]
  },
  {
   "cell_type": "code",
   "execution_count": 4,
   "id": "4aa76811",
   "metadata": {
    "execution": {
     "iopub.execute_input": "2022-07-04T09:26:33.101090Z",
     "iopub.status.busy": "2022-07-04T09:26:33.100694Z",
     "iopub.status.idle": "2022-07-04T09:26:33.122776Z",
     "shell.execute_reply": "2022-07-04T09:26:33.122031Z"
    },
    "papermill": {
     "duration": 0.035405,
     "end_time": "2022-07-04T09:26:33.124904",
     "exception": false,
     "start_time": "2022-07-04T09:26:33.089499",
     "status": "completed"
    },
    "tags": []
   },
   "outputs": [
    {
     "data": {
      "text/html": [
       "<div>\n",
       "<style scoped>\n",
       "    .dataframe tbody tr th:only-of-type {\n",
       "        vertical-align: middle;\n",
       "    }\n",
       "\n",
       "    .dataframe tbody tr th {\n",
       "        vertical-align: top;\n",
       "    }\n",
       "\n",
       "    .dataframe thead th {\n",
       "        text-align: right;\n",
       "    }\n",
       "</style>\n",
       "<table border=\"1\" class=\"dataframe\">\n",
       "  <thead>\n",
       "    <tr style=\"text-align: right;\">\n",
       "      <th></th>\n",
       "      <th>Rank</th>\n",
       "      <th>Name</th>\n",
       "      <th>Platform</th>\n",
       "      <th>Year</th>\n",
       "      <th>Genre</th>\n",
       "      <th>Publisher</th>\n",
       "      <th>NA_Sales</th>\n",
       "      <th>EU_Sales</th>\n",
       "      <th>JP_Sales</th>\n",
       "      <th>Other_Sales</th>\n",
       "      <th>Global_Sales</th>\n",
       "    </tr>\n",
       "  </thead>\n",
       "  <tbody>\n",
       "    <tr>\n",
       "      <th>0</th>\n",
       "      <td>1</td>\n",
       "      <td>Wii Sports</td>\n",
       "      <td>Wii</td>\n",
       "      <td>2006.0</td>\n",
       "      <td>Sports</td>\n",
       "      <td>Nintendo</td>\n",
       "      <td>41.49</td>\n",
       "      <td>29.02</td>\n",
       "      <td>3.77</td>\n",
       "      <td>8.46</td>\n",
       "      <td>82.74</td>\n",
       "    </tr>\n",
       "    <tr>\n",
       "      <th>1</th>\n",
       "      <td>2</td>\n",
       "      <td>Super Mario Bros.</td>\n",
       "      <td>NES</td>\n",
       "      <td>1985.0</td>\n",
       "      <td>Platform</td>\n",
       "      <td>Nintendo</td>\n",
       "      <td>29.08</td>\n",
       "      <td>3.58</td>\n",
       "      <td>6.81</td>\n",
       "      <td>0.77</td>\n",
       "      <td>40.24</td>\n",
       "    </tr>\n",
       "    <tr>\n",
       "      <th>2</th>\n",
       "      <td>3</td>\n",
       "      <td>Mario Kart Wii</td>\n",
       "      <td>Wii</td>\n",
       "      <td>2008.0</td>\n",
       "      <td>Racing</td>\n",
       "      <td>Nintendo</td>\n",
       "      <td>15.85</td>\n",
       "      <td>12.88</td>\n",
       "      <td>3.79</td>\n",
       "      <td>3.31</td>\n",
       "      <td>35.82</td>\n",
       "    </tr>\n",
       "    <tr>\n",
       "      <th>3</th>\n",
       "      <td>4</td>\n",
       "      <td>Wii Sports Resort</td>\n",
       "      <td>Wii</td>\n",
       "      <td>2009.0</td>\n",
       "      <td>Sports</td>\n",
       "      <td>Nintendo</td>\n",
       "      <td>15.75</td>\n",
       "      <td>11.01</td>\n",
       "      <td>3.28</td>\n",
       "      <td>2.96</td>\n",
       "      <td>33.00</td>\n",
       "    </tr>\n",
       "    <tr>\n",
       "      <th>4</th>\n",
       "      <td>5</td>\n",
       "      <td>Pokemon Red/Pokemon Blue</td>\n",
       "      <td>GB</td>\n",
       "      <td>1996.0</td>\n",
       "      <td>Role-Playing</td>\n",
       "      <td>Nintendo</td>\n",
       "      <td>11.27</td>\n",
       "      <td>8.89</td>\n",
       "      <td>10.22</td>\n",
       "      <td>1.00</td>\n",
       "      <td>31.37</td>\n",
       "    </tr>\n",
       "    <tr>\n",
       "      <th>5</th>\n",
       "      <td>6</td>\n",
       "      <td>Tetris</td>\n",
       "      <td>GB</td>\n",
       "      <td>1989.0</td>\n",
       "      <td>Puzzle</td>\n",
       "      <td>Nintendo</td>\n",
       "      <td>23.20</td>\n",
       "      <td>2.26</td>\n",
       "      <td>4.22</td>\n",
       "      <td>0.58</td>\n",
       "      <td>30.26</td>\n",
       "    </tr>\n",
       "    <tr>\n",
       "      <th>6</th>\n",
       "      <td>7</td>\n",
       "      <td>New Super Mario Bros.</td>\n",
       "      <td>DS</td>\n",
       "      <td>2006.0</td>\n",
       "      <td>Platform</td>\n",
       "      <td>Nintendo</td>\n",
       "      <td>11.38</td>\n",
       "      <td>9.23</td>\n",
       "      <td>6.50</td>\n",
       "      <td>2.90</td>\n",
       "      <td>30.01</td>\n",
       "    </tr>\n",
       "    <tr>\n",
       "      <th>7</th>\n",
       "      <td>8</td>\n",
       "      <td>Wii Play</td>\n",
       "      <td>Wii</td>\n",
       "      <td>2006.0</td>\n",
       "      <td>Misc</td>\n",
       "      <td>Nintendo</td>\n",
       "      <td>14.03</td>\n",
       "      <td>9.20</td>\n",
       "      <td>2.93</td>\n",
       "      <td>2.85</td>\n",
       "      <td>29.02</td>\n",
       "    </tr>\n",
       "    <tr>\n",
       "      <th>8</th>\n",
       "      <td>9</td>\n",
       "      <td>New Super Mario Bros. Wii</td>\n",
       "      <td>Wii</td>\n",
       "      <td>2009.0</td>\n",
       "      <td>Platform</td>\n",
       "      <td>Nintendo</td>\n",
       "      <td>14.59</td>\n",
       "      <td>7.06</td>\n",
       "      <td>4.70</td>\n",
       "      <td>2.26</td>\n",
       "      <td>28.62</td>\n",
       "    </tr>\n",
       "    <tr>\n",
       "      <th>9</th>\n",
       "      <td>10</td>\n",
       "      <td>Duck Hunt</td>\n",
       "      <td>NES</td>\n",
       "      <td>1984.0</td>\n",
       "      <td>Shooter</td>\n",
       "      <td>Nintendo</td>\n",
       "      <td>26.93</td>\n",
       "      <td>0.63</td>\n",
       "      <td>0.28</td>\n",
       "      <td>0.47</td>\n",
       "      <td>28.31</td>\n",
       "    </tr>\n",
       "  </tbody>\n",
       "</table>\n",
       "</div>"
      ],
      "text/plain": [
       "   Rank                       Name Platform    Year         Genre Publisher  \\\n",
       "0     1                 Wii Sports      Wii  2006.0        Sports  Nintendo   \n",
       "1     2          Super Mario Bros.      NES  1985.0      Platform  Nintendo   \n",
       "2     3             Mario Kart Wii      Wii  2008.0        Racing  Nintendo   \n",
       "3     4          Wii Sports Resort      Wii  2009.0        Sports  Nintendo   \n",
       "4     5   Pokemon Red/Pokemon Blue       GB  1996.0  Role-Playing  Nintendo   \n",
       "5     6                     Tetris       GB  1989.0        Puzzle  Nintendo   \n",
       "6     7      New Super Mario Bros.       DS  2006.0      Platform  Nintendo   \n",
       "7     8                   Wii Play      Wii  2006.0          Misc  Nintendo   \n",
       "8     9  New Super Mario Bros. Wii      Wii  2009.0      Platform  Nintendo   \n",
       "9    10                  Duck Hunt      NES  1984.0       Shooter  Nintendo   \n",
       "\n",
       "   NA_Sales  EU_Sales  JP_Sales  Other_Sales  Global_Sales  \n",
       "0     41.49     29.02      3.77         8.46         82.74  \n",
       "1     29.08      3.58      6.81         0.77         40.24  \n",
       "2     15.85     12.88      3.79         3.31         35.82  \n",
       "3     15.75     11.01      3.28         2.96         33.00  \n",
       "4     11.27      8.89     10.22         1.00         31.37  \n",
       "5     23.20      2.26      4.22         0.58         30.26  \n",
       "6     11.38      9.23      6.50         2.90         30.01  \n",
       "7     14.03      9.20      2.93         2.85         29.02  \n",
       "8     14.59      7.06      4.70         2.26         28.62  \n",
       "9     26.93      0.63      0.28         0.47         28.31  "
      ]
     },
     "execution_count": 4,
     "metadata": {},
     "output_type": "execute_result"
    }
   ],
   "source": [
    "df.head(10)"
   ]
  },
  {
   "cell_type": "code",
   "execution_count": 5,
   "id": "c745240b",
   "metadata": {
    "execution": {
     "iopub.execute_input": "2022-07-04T09:26:33.147778Z",
     "iopub.status.busy": "2022-07-04T09:26:33.146798Z",
     "iopub.status.idle": "2022-07-04T09:26:33.153085Z",
     "shell.execute_reply": "2022-07-04T09:26:33.152238Z"
    },
    "papermill": {
     "duration": 0.020067,
     "end_time": "2022-07-04T09:26:33.155302",
     "exception": false,
     "start_time": "2022-07-04T09:26:33.135235",
     "status": "completed"
    },
    "tags": []
   },
   "outputs": [
    {
     "data": {
      "text/plain": [
       "(16598, 11)"
      ]
     },
     "execution_count": 5,
     "metadata": {},
     "output_type": "execute_result"
    }
   ],
   "source": [
    "df.shape"
   ]
  },
  {
   "cell_type": "code",
   "execution_count": 6,
   "id": "3443e030",
   "metadata": {
    "execution": {
     "iopub.execute_input": "2022-07-04T09:26:33.178779Z",
     "iopub.status.busy": "2022-07-04T09:26:33.178389Z",
     "iopub.status.idle": "2022-07-04T09:26:33.185194Z",
     "shell.execute_reply": "2022-07-04T09:26:33.184069Z"
    },
    "papermill": {
     "duration": 0.021387,
     "end_time": "2022-07-04T09:26:33.188094",
     "exception": false,
     "start_time": "2022-07-04T09:26:33.166707",
     "status": "completed"
    },
    "tags": []
   },
   "outputs": [
    {
     "name": "stdout",
     "output_type": "stream",
     "text": [
      "Rank              int64\n",
      "Name             object\n",
      "Platform         object\n",
      "Year            float64\n",
      "Genre            object\n",
      "Publisher        object\n",
      "NA_Sales        float64\n",
      "EU_Sales        float64\n",
      "JP_Sales        float64\n",
      "Other_Sales     float64\n",
      "Global_Sales    float64\n",
      "dtype: object\n"
     ]
    }
   ],
   "source": [
    "print(df.dtypes)"
   ]
  },
  {
   "cell_type": "code",
   "execution_count": 7,
   "id": "1d0081b7",
   "metadata": {
    "execution": {
     "iopub.execute_input": "2022-07-04T09:26:33.212577Z",
     "iopub.status.busy": "2022-07-04T09:26:33.211273Z",
     "iopub.status.idle": "2022-07-04T09:26:33.260568Z",
     "shell.execute_reply": "2022-07-04T09:26:33.259234Z"
    },
    "papermill": {
     "duration": 0.06383,
     "end_time": "2022-07-04T09:26:33.263123",
     "exception": false,
     "start_time": "2022-07-04T09:26:33.199293",
     "status": "completed"
    },
    "tags": []
   },
   "outputs": [
    {
     "data": {
      "text/html": [
       "<div>\n",
       "<style scoped>\n",
       "    .dataframe tbody tr th:only-of-type {\n",
       "        vertical-align: middle;\n",
       "    }\n",
       "\n",
       "    .dataframe tbody tr th {\n",
       "        vertical-align: top;\n",
       "    }\n",
       "\n",
       "    .dataframe thead th {\n",
       "        text-align: right;\n",
       "    }\n",
       "</style>\n",
       "<table border=\"1\" class=\"dataframe\">\n",
       "  <thead>\n",
       "    <tr style=\"text-align: right;\">\n",
       "      <th></th>\n",
       "      <th>Rank</th>\n",
       "      <th>Year</th>\n",
       "      <th>NA_Sales</th>\n",
       "      <th>EU_Sales</th>\n",
       "      <th>JP_Sales</th>\n",
       "      <th>Other_Sales</th>\n",
       "      <th>Global_Sales</th>\n",
       "    </tr>\n",
       "  </thead>\n",
       "  <tbody>\n",
       "    <tr>\n",
       "      <th>count</th>\n",
       "      <td>16598.000000</td>\n",
       "      <td>16327.000000</td>\n",
       "      <td>16598.000000</td>\n",
       "      <td>16598.000000</td>\n",
       "      <td>16598.000000</td>\n",
       "      <td>16598.000000</td>\n",
       "      <td>16598.000000</td>\n",
       "    </tr>\n",
       "    <tr>\n",
       "      <th>mean</th>\n",
       "      <td>8300.605254</td>\n",
       "      <td>2006.406443</td>\n",
       "      <td>0.264667</td>\n",
       "      <td>0.146652</td>\n",
       "      <td>0.077782</td>\n",
       "      <td>0.048063</td>\n",
       "      <td>0.537441</td>\n",
       "    </tr>\n",
       "    <tr>\n",
       "      <th>std</th>\n",
       "      <td>4791.853933</td>\n",
       "      <td>5.828981</td>\n",
       "      <td>0.816683</td>\n",
       "      <td>0.505351</td>\n",
       "      <td>0.309291</td>\n",
       "      <td>0.188588</td>\n",
       "      <td>1.555028</td>\n",
       "    </tr>\n",
       "    <tr>\n",
       "      <th>min</th>\n",
       "      <td>1.000000</td>\n",
       "      <td>1980.000000</td>\n",
       "      <td>0.000000</td>\n",
       "      <td>0.000000</td>\n",
       "      <td>0.000000</td>\n",
       "      <td>0.000000</td>\n",
       "      <td>0.010000</td>\n",
       "    </tr>\n",
       "    <tr>\n",
       "      <th>25%</th>\n",
       "      <td>4151.250000</td>\n",
       "      <td>2003.000000</td>\n",
       "      <td>0.000000</td>\n",
       "      <td>0.000000</td>\n",
       "      <td>0.000000</td>\n",
       "      <td>0.000000</td>\n",
       "      <td>0.060000</td>\n",
       "    </tr>\n",
       "    <tr>\n",
       "      <th>50%</th>\n",
       "      <td>8300.500000</td>\n",
       "      <td>2007.000000</td>\n",
       "      <td>0.080000</td>\n",
       "      <td>0.020000</td>\n",
       "      <td>0.000000</td>\n",
       "      <td>0.010000</td>\n",
       "      <td>0.170000</td>\n",
       "    </tr>\n",
       "    <tr>\n",
       "      <th>75%</th>\n",
       "      <td>12449.750000</td>\n",
       "      <td>2010.000000</td>\n",
       "      <td>0.240000</td>\n",
       "      <td>0.110000</td>\n",
       "      <td>0.040000</td>\n",
       "      <td>0.040000</td>\n",
       "      <td>0.470000</td>\n",
       "    </tr>\n",
       "    <tr>\n",
       "      <th>max</th>\n",
       "      <td>16600.000000</td>\n",
       "      <td>2020.000000</td>\n",
       "      <td>41.490000</td>\n",
       "      <td>29.020000</td>\n",
       "      <td>10.220000</td>\n",
       "      <td>10.570000</td>\n",
       "      <td>82.740000</td>\n",
       "    </tr>\n",
       "  </tbody>\n",
       "</table>\n",
       "</div>"
      ],
      "text/plain": [
       "               Rank          Year      NA_Sales      EU_Sales      JP_Sales  \\\n",
       "count  16598.000000  16327.000000  16598.000000  16598.000000  16598.000000   \n",
       "mean    8300.605254   2006.406443      0.264667      0.146652      0.077782   \n",
       "std     4791.853933      5.828981      0.816683      0.505351      0.309291   \n",
       "min        1.000000   1980.000000      0.000000      0.000000      0.000000   \n",
       "25%     4151.250000   2003.000000      0.000000      0.000000      0.000000   \n",
       "50%     8300.500000   2007.000000      0.080000      0.020000      0.000000   \n",
       "75%    12449.750000   2010.000000      0.240000      0.110000      0.040000   \n",
       "max    16600.000000   2020.000000     41.490000     29.020000     10.220000   \n",
       "\n",
       "        Other_Sales  Global_Sales  \n",
       "count  16598.000000  16598.000000  \n",
       "mean       0.048063      0.537441  \n",
       "std        0.188588      1.555028  \n",
       "min        0.000000      0.010000  \n",
       "25%        0.000000      0.060000  \n",
       "50%        0.010000      0.170000  \n",
       "75%        0.040000      0.470000  \n",
       "max       10.570000     82.740000  "
      ]
     },
     "execution_count": 7,
     "metadata": {},
     "output_type": "execute_result"
    }
   ],
   "source": [
    "df.describe()"
   ]
  },
  {
   "cell_type": "code",
   "execution_count": 8,
   "id": "5048439b",
   "metadata": {
    "execution": {
     "iopub.execute_input": "2022-07-04T09:26:33.287613Z",
     "iopub.status.busy": "2022-07-04T09:26:33.286751Z",
     "iopub.status.idle": "2022-07-04T09:26:33.302287Z",
     "shell.execute_reply": "2022-07-04T09:26:33.301087Z"
    },
    "papermill": {
     "duration": 0.030655,
     "end_time": "2022-07-04T09:26:33.304788",
     "exception": false,
     "start_time": "2022-07-04T09:26:33.274133",
     "status": "completed"
    },
    "tags": []
   },
   "outputs": [
    {
     "data": {
      "text/plain": [
       "Genre\n",
       "Platform        0.504571\n",
       "Shooter         0.444733\n",
       "Sports          0.291283\n",
       "Racing          0.287766\n",
       "Action          0.264726\n",
       "Fighting        0.263667\n",
       "Misc            0.235906\n",
       "Role-Playing    0.219946\n",
       "Puzzle          0.212680\n",
       "Simulation      0.211430\n",
       "Strategy        0.100881\n",
       "Adventure       0.082271\n",
       "Name: NA_Sales, dtype: float64"
      ]
     },
     "execution_count": 8,
     "metadata": {},
     "output_type": "execute_result"
    }
   ],
   "source": [
    "df.groupby('Genre')['NA_Sales'].agg(np.mean).sort_values(ascending=False)\n"
   ]
  },
  {
   "cell_type": "markdown",
   "id": "2ca3abc8",
   "metadata": {
    "papermill": {
     "duration": 0.010537,
     "end_time": "2022-07-04T09:26:33.326644",
     "exception": false,
     "start_time": "2022-07-04T09:26:33.316107",
     "status": "completed"
    },
    "tags": []
   },
   "source": [
    "### So it is the most profitable type of game in North America is (Platform)"
   ]
  },
  {
   "cell_type": "code",
   "execution_count": 9,
   "id": "23fc0f3c",
   "metadata": {
    "execution": {
     "iopub.execute_input": "2022-07-04T09:26:33.349724Z",
     "iopub.status.busy": "2022-07-04T09:26:33.349355Z",
     "iopub.status.idle": "2022-07-04T09:26:33.361675Z",
     "shell.execute_reply": "2022-07-04T09:26:33.360748Z"
    },
    "papermill": {
     "duration": 0.026505,
     "end_time": "2022-07-04T09:26:33.363883",
     "exception": false,
     "start_time": "2022-07-04T09:26:33.337378",
     "status": "completed"
    },
    "tags": []
   },
   "outputs": [
    {
     "data": {
      "text/plain": [
       "Genre\n",
       "Shooter         0.239137\n",
       "Platform        0.227573\n",
       "Racing          0.190865\n",
       "Sports          0.160635\n",
       "Action          0.158323\n",
       "Simulation      0.130773\n",
       "Role-Playing    0.126384\n",
       "Misc            0.124198\n",
       "Fighting        0.119481\n",
       "Puzzle          0.087251\n",
       "Strategy        0.066579\n",
       "Adventure       0.049868\n",
       "Name: EU_Sales, dtype: float64"
      ]
     },
     "execution_count": 9,
     "metadata": {},
     "output_type": "execute_result"
    }
   ],
   "source": [
    "df.groupby('Genre')['EU_Sales'].agg(np.mean).sort_values(ascending=False)\n"
   ]
  },
  {
   "cell_type": "markdown",
   "id": "4bfd0793",
   "metadata": {
    "papermill": {
     "duration": 0.010843,
     "end_time": "2022-07-04T09:26:33.386076",
     "exception": false,
     "start_time": "2022-07-04T09:26:33.375233",
     "status": "completed"
    },
    "tags": []
   },
   "source": [
    "### and it is the most profitable type of game in Europe is (Shooter)"
   ]
  },
  {
   "cell_type": "code",
   "execution_count": 10,
   "id": "f4709714",
   "metadata": {
    "execution": {
     "iopub.execute_input": "2022-07-04T09:26:33.410250Z",
     "iopub.status.busy": "2022-07-04T09:26:33.409615Z",
     "iopub.status.idle": "2022-07-04T09:26:33.421091Z",
     "shell.execute_reply": "2022-07-04T09:26:33.419955Z"
    },
    "papermill": {
     "duration": 0.025966,
     "end_time": "2022-07-04T09:26:33.423295",
     "exception": false,
     "start_time": "2022-07-04T09:26:33.397329",
     "status": "completed"
    },
    "tags": []
   },
   "outputs": [
    {
     "data": {
      "text/plain": [
       "Genre\n",
       "Role-Playing    0.236767\n",
       "Platform        0.147596\n",
       "Fighting        0.103007\n",
       "Puzzle          0.098471\n",
       "Simulation      0.073472\n",
       "Strategy        0.072628\n",
       "Misc            0.061967\n",
       "Sports          0.057702\n",
       "Action          0.048236\n",
       "Racing          0.045388\n",
       "Adventure       0.040490\n",
       "Shooter         0.029221\n",
       "Name: JP_Sales, dtype: float64"
      ]
     },
     "execution_count": 10,
     "metadata": {},
     "output_type": "execute_result"
    }
   ],
   "source": [
    "df.groupby('Genre')['JP_Sales'].agg(np.mean).sort_values(ascending=False)\n"
   ]
  },
  {
   "cell_type": "markdown",
   "id": "d83ced4a",
   "metadata": {
    "papermill": {
     "duration": 0.010575,
     "end_time": "2022-07-04T09:26:33.444872",
     "exception": false,
     "start_time": "2022-07-04T09:26:33.434297",
     "status": "completed"
    },
    "tags": []
   },
   "source": [
    "### the most profitable type of game in Japan is (Role-Playing)"
   ]
  },
  {
   "cell_type": "code",
   "execution_count": 11,
   "id": "0576a144",
   "metadata": {
    "execution": {
     "iopub.execute_input": "2022-07-04T09:26:33.468886Z",
     "iopub.status.busy": "2022-07-04T09:26:33.468296Z",
     "iopub.status.idle": "2022-07-04T09:26:33.475764Z",
     "shell.execute_reply": "2022-07-04T09:26:33.474549Z"
    },
    "papermill": {
     "duration": 0.022198,
     "end_time": "2022-07-04T09:26:33.478073",
     "exception": false,
     "start_time": "2022-07-04T09:26:33.455875",
     "status": "completed"
    },
    "tags": []
   },
   "outputs": [
    {
     "data": {
      "text/plain": [
       "0.26466742981082064"
      ]
     },
     "execution_count": 11,
     "metadata": {},
     "output_type": "execute_result"
    }
   ],
   "source": [
    "df['NA_Sales'].mean()"
   ]
  },
  {
   "cell_type": "code",
   "execution_count": 12,
   "id": "3a575cca",
   "metadata": {
    "execution": {
     "iopub.execute_input": "2022-07-04T09:26:33.502762Z",
     "iopub.status.busy": "2022-07-04T09:26:33.501675Z",
     "iopub.status.idle": "2022-07-04T09:26:33.509874Z",
     "shell.execute_reply": "2022-07-04T09:26:33.508624Z"
    },
    "papermill": {
     "duration": 0.022986,
     "end_time": "2022-07-04T09:26:33.512319",
     "exception": false,
     "start_time": "2022-07-04T09:26:33.489333",
     "status": "completed"
    },
    "tags": []
   },
   "outputs": [
    {
     "data": {
      "text/plain": [
       "0.14665200626581515"
      ]
     },
     "execution_count": 12,
     "metadata": {},
     "output_type": "execute_result"
    }
   ],
   "source": [
    "df['EU_Sales'].mean()"
   ]
  },
  {
   "cell_type": "code",
   "execution_count": 13,
   "id": "eed9fdbb",
   "metadata": {
    "execution": {
     "iopub.execute_input": "2022-07-04T09:26:33.536751Z",
     "iopub.status.busy": "2022-07-04T09:26:33.536291Z",
     "iopub.status.idle": "2022-07-04T09:26:33.544279Z",
     "shell.execute_reply": "2022-07-04T09:26:33.543352Z"
    },
    "papermill": {
     "duration": 0.022908,
     "end_time": "2022-07-04T09:26:33.546651",
     "exception": false,
     "start_time": "2022-07-04T09:26:33.523743",
     "status": "completed"
    },
    "tags": []
   },
   "outputs": [
    {
     "data": {
      "text/plain": [
       "0.077781660441017"
      ]
     },
     "execution_count": 13,
     "metadata": {},
     "output_type": "execute_result"
    }
   ],
   "source": [
    " df['JP_Sales'].mean()"
   ]
  },
  {
   "cell_type": "markdown",
   "id": "5abd88bd",
   "metadata": {
    "papermill": {
     "duration": 0.010915,
     "end_time": "2022-07-04T09:26:33.568890",
     "exception": false,
     "start_time": "2022-07-04T09:26:33.557975",
     "status": "completed"
    },
    "tags": []
   },
   "source": [
    "### The most profitable region in gaming is north america"
   ]
  },
  {
   "cell_type": "code",
   "execution_count": 14,
   "id": "d3660ca0",
   "metadata": {
    "execution": {
     "iopub.execute_input": "2022-07-04T09:26:33.593186Z",
     "iopub.status.busy": "2022-07-04T09:26:33.592792Z",
     "iopub.status.idle": "2022-07-04T09:26:33.889429Z",
     "shell.execute_reply": "2022-07-04T09:26:33.888216Z"
    },
    "papermill": {
     "duration": 0.312053,
     "end_time": "2022-07-04T09:26:33.892176",
     "exception": false,
     "start_time": "2022-07-04T09:26:33.580123",
     "status": "completed"
    },
    "tags": []
   },
   "outputs": [
    {
     "data": {
      "image/png": "[encoded data removed]",
      "text/plain": [
       "<Figure size 1080x576 with 1 Axes>"
      ]
     },
     "metadata": {},
     "output_type": "display_data"
    }
   ],
   "source": [
    "sns.set(rc = {'figure.figsize':(15,8)})\n",
    "plot = sns.barplot(x = 'Genre', y = 'Global_Sales', data = df, ci = None)\n",
    "plot.set_xticklabels(plot.get_xticklabels(),rotation=90);"
   ]
  },
  {
   "cell_type": "markdown",
   "id": "97baba7f",
   "metadata": {
    "papermill": {
     "duration": 0.012677,
     "end_time": "2022-07-04T09:26:33.917185",
     "exception": false,
     "start_time": "2022-07-04T09:26:33.904508",
     "status": "completed"
    },
    "tags": []
   },
   "source": [
    "### so in this fhgure we notice the platform is the most genre profitable"
   ]
  },
  {
   "cell_type": "code",
   "execution_count": 15,
   "id": "f3baae40",
   "metadata": {
    "execution": {
     "iopub.execute_input": "2022-07-04T09:26:33.943999Z",
     "iopub.status.busy": "2022-07-04T09:26:33.943065Z",
     "iopub.status.idle": "2022-07-04T09:26:34.349494Z",
     "shell.execute_reply": "2022-07-04T09:26:34.348046Z"
    },
    "papermill": {
     "duration": 0.422642,
     "end_time": "2022-07-04T09:26:34.352287",
     "exception": false,
     "start_time": "2022-07-04T09:26:33.929645",
     "status": "completed"
    },
    "tags": []
   },
   "outputs": [
    {
     "data": {
      "image/png": "[encoded data removed]",
      "text/plain": [
       "<Figure size 1080x576 with 1 Axes>"
      ]
     },
     "metadata": {},
     "output_type": "display_data"
    }
   ],
   "source": [
    "sns.set(rc = {'figure.figsize':(15,8)})\n",
    "plot = sns.barplot(x = 'Platform', y = 'Global_Sales', data = df, ci = None)\n",
    "plot.set_xticklabels(plot.get_xticklabels(),rotation=90);"
   ]
  },
  {
   "cell_type": "markdown",
   "id": "923da1d5",
   "metadata": {
    "papermill": {
     "duration": 0.012298,
     "end_time": "2022-07-04T09:26:34.377043",
     "exception": false,
     "start_time": "2022-07-04T09:26:34.364745",
     "status": "completed"
    },
    "tags": []
   },
   "source": [
    "### and the most platform profitable is Gb"
   ]
  },
  {
   "cell_type": "code",
   "execution_count": 16,
   "id": "d7337e0e",
   "metadata": {
    "execution": {
     "iopub.execute_input": "2022-07-04T09:26:34.405793Z",
     "iopub.status.busy": "2022-07-04T09:26:34.405098Z",
     "iopub.status.idle": "2022-07-04T09:26:34.417706Z",
     "shell.execute_reply": "2022-07-04T09:26:34.416212Z"
    },
    "papermill": {
     "duration": 0.029314,
     "end_time": "2022-07-04T09:26:34.420398",
     "exception": false,
     "start_time": "2022-07-04T09:26:34.391084",
     "status": "completed"
    },
    "tags": []
   },
   "outputs": [
    {
     "data": {
      "text/plain": [
       "Genre\n",
       "Adventure       11532.787714\n",
       "Strategy        10071.897210\n",
       "Puzzle           9627.381443\n",
       "Simulation       8626.085352\n",
       "Misc             8561.847039\n",
       "Role-Playing     8086.174731\n",
       "Action           7973.879071\n",
       "Racing           7961.515612\n",
       "Fighting         7646.511792\n",
       "Sports           7425.026428\n",
       "Shooter          7369.367939\n",
       "Platform         6927.251693\n",
       "Name: Rank, dtype: float64"
      ]
     },
     "execution_count": 16,
     "metadata": {},
     "output_type": "execute_result"
    }
   ],
   "source": [
    "df.groupby('Genre')['Rank'].agg(np.mean).sort_values(ascending=False)\n"
   ]
  },
  {
   "cell_type": "markdown",
   "id": "2628b1ff",
   "metadata": {
    "papermill": {
     "duration": 0.01199,
     "end_time": "2022-07-04T09:26:34.444914",
     "exception": false,
     "start_time": "2022-07-04T09:26:34.432924",
     "status": "completed"
    },
    "tags": []
   },
   "source": [
    "### so the Adventure has a higher rank from players"
   ]
  },
  {
   "cell_type": "code",
   "execution_count": 17,
   "id": "3ebe15c9",
   "metadata": {
    "execution": {
     "iopub.execute_input": "2022-07-04T09:26:34.471904Z",
     "iopub.status.busy": "2022-07-04T09:26:34.471234Z",
     "iopub.status.idle": "2022-07-04T09:26:34.775323Z",
     "shell.execute_reply": "2022-07-04T09:26:34.774388Z"
    },
    "papermill": {
     "duration": 0.320002,
     "end_time": "2022-07-04T09:26:34.777571",
     "exception": false,
     "start_time": "2022-07-04T09:26:34.457569",
     "status": "completed"
    },
    "tags": []
   },
   "outputs": [
    {
     "data": {
      "image/png": "[encoded data removed]",
      "text/plain": [
       "<Figure size 1080x576 with 1 Axes>"
      ]
     },
     "metadata": {},
     "output_type": "display_data"
    }
   ],
   "source": [
    "sns.set(rc = {'figure.figsize':(15,8)})\n",
    "plot = sns.barplot(x = 'Genre', y = 'Rank', data = df, ci = None)\n",
    "plot.set_xticklabels(plot.get_xticklabels(),rotation=90);"
   ]
  },
  {
   "cell_type": "code",
   "execution_count": 18,
   "id": "d4a71804",
   "metadata": {
    "execution": {
     "iopub.execute_input": "2022-07-04T09:26:34.805222Z",
     "iopub.status.busy": "2022-07-04T09:26:34.804547Z",
     "iopub.status.idle": "2022-07-04T09:26:34.815975Z",
     "shell.execute_reply": "2022-07-04T09:26:34.814670Z"
    },
    "papermill": {
     "duration": 0.028546,
     "end_time": "2022-07-04T09:26:34.818943",
     "exception": false,
     "start_time": "2022-07-04T09:26:34.790397",
     "status": "completed"
    },
    "tags": []
   },
   "outputs": [
    {
     "data": {
      "text/plain": [
       "Platform\n",
       "PCFX    14559.000000\n",
       "3DO     14372.666667\n",
       "GG      13527.000000\n",
       "TG16    12381.500000\n",
       "PSV     11458.210654\n",
       "PC      11438.319792\n",
       "NG      10665.666667\n",
       "PSP     10399.873866\n",
       "SCD     10171.833333\n",
       "DS       9637.462321\n",
       "SAT      9333.936416\n",
       "3DS      9160.400786\n",
       "DC       8771.423077\n",
       "XB       8761.257282\n",
       "GBA      8682.176399\n",
       "GC       8664.390288\n",
       "WS       7878.833333\n",
       "WiiU     7756.237762\n",
       "Wii      7730.774340\n",
       "PS4      7625.562500\n",
       "PS2      7477.633966\n",
       "XOne     7397.061033\n",
       "GEN      7037.740741\n",
       "PS       6958.221572\n",
       "PS3      6793.054929\n",
       "X360     6692.528063\n",
       "N64      6530.373041\n",
       "SNES     6346.460251\n",
       "2600     4403.496241\n",
       "GB       3392.030612\n",
       "NES      1906.438776\n",
       "Name: Rank, dtype: float64"
      ]
     },
     "execution_count": 18,
     "metadata": {},
     "output_type": "execute_result"
    }
   ],
   "source": [
    "df.groupby('Platform')['Rank'].agg(np.mean).sort_values(ascending=False)\n"
   ]
  },
  {
   "cell_type": "markdown",
   "id": "73529917",
   "metadata": {
    "papermill": {
     "duration": 0.01288,
     "end_time": "2022-07-04T09:26:34.845356",
     "exception": false,
     "start_time": "2022-07-04T09:26:34.832476",
     "status": "completed"
    },
    "tags": []
   },
   "source": [
    "### so the pcfx platform has a higher rank from players"
   ]
  },
  {
   "cell_type": "code",
   "execution_count": 19,
   "id": "7d48a9f3",
   "metadata": {
    "execution": {
     "iopub.execute_input": "2022-07-04T09:26:34.873582Z",
     "iopub.status.busy": "2022-07-04T09:26:34.873203Z",
     "iopub.status.idle": "2022-07-04T09:26:35.333826Z",
     "shell.execute_reply": "2022-07-04T09:26:35.332506Z"
    },
    "papermill": {
     "duration": 0.477718,
     "end_time": "2022-07-04T09:26:35.336284",
     "exception": false,
     "start_time": "2022-07-04T09:26:34.858566",
     "status": "completed"
    },
    "tags": []
   },
   "outputs": [
    {
     "data": {
      "image/png": "[encoded data removed]",
      "text/plain": [
       "<Figure size 1080x576 with 1 Axes>"
      ]
     },
     "metadata": {},
     "output_type": "display_data"
    }
   ],
   "source": [
    "sns.set(rc = {'figure.figsize':(15,8)})\n",
    "plot = sns.barplot(x = 'Platform', y = 'Rank', data = df, ci = None)\n",
    "plot.set_xticklabels(plot.get_xticklabels(),rotation=90);"
   ]
  },
  {
   "cell_type": "markdown",
   "id": "c1265476",
   "metadata": {
    "papermill": {
     "duration": 0.013855,
     "end_time": "2022-07-04T09:26:35.364099",
     "exception": false,
     "start_time": "2022-07-04T09:26:35.350244",
     "status": "completed"
    },
    "tags": []
   },
   "source": []
  },
  {
   "cell_type": "code",
   "execution_count": 20,
   "id": "0c22a2e3",
   "metadata": {
    "execution": {
     "iopub.execute_input": "2022-07-04T09:26:35.392969Z",
     "iopub.status.busy": "2022-07-04T09:26:35.392607Z",
     "iopub.status.idle": "2022-07-04T09:26:35.403739Z",
     "shell.execute_reply": "2022-07-04T09:26:35.402481Z"
    },
    "papermill": {
     "duration": 0.028275,
     "end_time": "2022-07-04T09:26:35.406007",
     "exception": false,
     "start_time": "2022-07-04T09:26:35.377732",
     "status": "completed"
    },
    "tags": []
   },
   "outputs": [
    {
     "data": {
      "text/plain": [
       "DS      2163\n",
       "PS2     2161\n",
       "PS3     1329\n",
       "Wii     1325\n",
       "X360    1265\n",
       "PSP     1213\n",
       "PS      1196\n",
       "PC       960\n",
       "XB       824\n",
       "GBA      822\n",
       "GC       556\n",
       "3DS      509\n",
       "PSV      413\n",
       "PS4      336\n",
       "N64      319\n",
       "SNES     239\n",
       "XOne     213\n",
       "SAT      173\n",
       "WiiU     143\n",
       "2600     133\n",
       "NES       98\n",
       "GB        98\n",
       "DC        52\n",
       "GEN       27\n",
       "NG        12\n",
       "SCD        6\n",
       "WS         6\n",
       "3DO        3\n",
       "TG16       2\n",
       "GG         1\n",
       "PCFX       1\n",
       "Name: Platform, dtype: int64"
      ]
     },
     "execution_count": 20,
     "metadata": {},
     "output_type": "execute_result"
    }
   ],
   "source": [
    "total = df[\"Platform\"].value_counts()\n",
    "total"
   ]
  },
  {
   "cell_type": "markdown",
   "id": "c2d0514c",
   "metadata": {
    "papermill": {
     "duration": 0.013483,
     "end_time": "2022-07-04T09:26:35.433755",
     "exception": false,
     "start_time": "2022-07-04T09:26:35.420272",
     "status": "completed"
    },
    "tags": []
   },
   "source": [
    "### the DS is the platform that has a  high variety of games"
   ]
  },
  {
   "cell_type": "code",
   "execution_count": 21,
   "id": "6cdadbbc",
   "metadata": {
    "execution": {
     "iopub.execute_input": "2022-07-04T09:26:35.463339Z",
     "iopub.status.busy": "2022-07-04T09:26:35.462932Z",
     "iopub.status.idle": "2022-07-04T09:26:35.919817Z",
     "shell.execute_reply": "2022-07-04T09:26:35.918361Z"
    },
    "papermill": {
     "duration": 0.474921,
     "end_time": "2022-07-04T09:26:35.922484",
     "exception": false,
     "start_time": "2022-07-04T09:26:35.447563",
     "status": "completed"
    },
    "tags": []
   },
   "outputs": [
    {
     "data": {
      "image/png": "[encoded data removed]",
      "text/plain": [
       "<Figure size 1080x576 with 1 Axes>"
      ]
     },
     "metadata": {},
     "output_type": "display_data"
    }
   ],
   "source": [
    "plot=sns.countplot(x='Platform',data=df)\n",
    "plot.set_xticklabels(plot.get_xticklabels(),rotation=90);"
   ]
  },
  {
   "cell_type": "code",
   "execution_count": 22,
   "id": "141be0ea",
   "metadata": {
    "execution": {
     "iopub.execute_input": "2022-07-04T09:26:35.957891Z",
     "iopub.status.busy": "2022-07-04T09:26:35.957494Z",
     "iopub.status.idle": "2022-07-04T09:26:35.972850Z",
     "shell.execute_reply": "2022-07-04T09:26:35.971874Z"
    },
    "papermill": {
     "duration": 0.037803,
     "end_time": "2022-07-04T09:26:35.975551",
     "exception": false,
     "start_time": "2022-07-04T09:26:35.937748",
     "status": "completed"
    },
    "tags": []
   },
   "outputs": [
    {
     "data": {
      "text/plain": [
       "Platform\n",
       "PS2     1255.64\n",
       "X360     979.96\n",
       "PS3      957.84\n",
       "Wii      926.71\n",
       "DS       822.49\n",
       "PS       730.66\n",
       "GBA      318.50\n",
       "PSP      296.28\n",
       "PS4      278.10\n",
       "PC       258.82\n",
       "XB       258.26\n",
       "GB       255.45\n",
       "NES      251.07\n",
       "3DS      247.46\n",
       "N64      218.88\n",
       "SNES     200.05\n",
       "GC       199.36\n",
       "XOne     141.06\n",
       "2600      97.08\n",
       "WiiU      81.86\n",
       "PSV       61.93\n",
       "SAT       33.59\n",
       "GEN       28.36\n",
       "DC        15.97\n",
       "SCD        1.87\n",
       "NG         1.44\n",
       "WS         1.42\n",
       "TG16       0.16\n",
       "3DO        0.10\n",
       "GG         0.04\n",
       "PCFX       0.03\n",
       "Name: Global_Sales, dtype: float64"
      ]
     },
     "execution_count": 22,
     "metadata": {},
     "output_type": "execute_result"
    }
   ],
   "source": [
    "df.groupby('Platform')['Global_Sales'].agg(np.sum).sort_values(ascending=False)\n"
   ]
  },
  {
   "cell_type": "markdown",
   "id": "836463f2",
   "metadata": {
    "papermill": {
     "duration": 0.014104,
     "end_time": "2022-07-04T09:26:36.004806",
     "exception": false,
     "start_time": "2022-07-04T09:26:35.990702",
     "status": "completed"
    },
    "tags": []
   },
   "source": [
    "### the ps2 platform has a high profitable in global sales"
   ]
  },
  {
   "cell_type": "code",
   "execution_count": 23,
   "id": "aa8bb61e",
   "metadata": {
    "execution": {
     "iopub.execute_input": "2022-07-04T09:26:36.036958Z",
     "iopub.status.busy": "2022-07-04T09:26:36.035812Z",
     "iopub.status.idle": "2022-07-04T09:26:36.499350Z",
     "shell.execute_reply": "2022-07-04T09:26:36.498111Z"
    },
    "papermill": {
     "duration": 0.482158,
     "end_time": "2022-07-04T09:26:36.501969",
     "exception": false,
     "start_time": "2022-07-04T09:26:36.019811",
     "status": "completed"
    },
    "tags": []
   },
   "outputs": [
    {
     "data": {
      "image/png": "[encoded data removed]",
      "text/plain": [
       "<Figure size 1080x576 with 1 Axes>"
      ]
     },
     "metadata": {},
     "output_type": "display_data"
    }
   ],
   "source": [
    "sns.set(rc = {'figure.figsize':(15,8)})\n",
    "plot = sns.barplot(x = 'Platform', y = 'Other_Sales', data = df, ci = None)\n",
    "plot.set_xticklabels(plot.get_xticklabels(),rotation=90);"
   ]
  },
  {
   "cell_type": "markdown",
   "id": "0542b76a",
   "metadata": {
    "papermill": {
     "duration": 0.014637,
     "end_time": "2022-07-04T09:26:36.531594",
     "exception": false,
     "start_time": "2022-07-04T09:26:36.516957",
     "status": "completed"
    },
    "tags": []
   },
   "source": [
    "### the ps4 platform has a high profitable in other sales"
   ]
  },
  {
   "cell_type": "markdown",
   "id": "ac004d92",
   "metadata": {
    "papermill": {
     "duration": 0.014709,
     "end_time": "2022-07-04T09:26:36.561349",
     "exception": false,
     "start_time": "2022-07-04T09:26:36.546640",
     "status": "completed"
    },
    "tags": []
   },
   "source": []
  },
  {
   "cell_type": "code",
   "execution_count": null,
   "id": "b753c700",
   "metadata": {
    "papermill": {
     "duration": 0.014384,
     "end_time": "2022-07-04T09:26:36.590499",
     "exception": false,
     "start_time": "2022-07-04T09:26:36.576115",
     "status": "completed"
    },
    "tags": []
   },
   "outputs": [],
   "source": []
  }
 ],
 "metadata": {
  "kernelspec": {
   "display_name": "Python 3",
   "language": "python",
   "name": "python3"
  },
  "language_info": {
   "codemirror_mode": {
    "name": "ipython",
    "version": 3
   },
   "file_extension": ".py",
   "mimetype": "text/x-python",
   "name": "python",
   "nbconvert_exporter": "python",
   "pygments_lexer": "ipython3",
   "version": "3.7.12"
  },
  "papermill": {
   "default_parameters": {},
   "duration": 17.515152,
   "end_time": "2022-07-04T09:26:37.428776",
   "environment_variables": {},
   "exception": null,
   "input_path": "__notebook__.ipynb",
   "output_path": "__notebook__.ipynb",
   "parameters": {},
   "start_time": "2022-07-04T09:26:19.913624",
   "version": "2.3.4"
  }
 },
 "nbformat": 4,
 "nbformat_minor": 5
}
