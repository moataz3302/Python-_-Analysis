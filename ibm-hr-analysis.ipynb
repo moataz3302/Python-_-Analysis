{
 "cells": [
  {
   "cell_type": "code",
   "execution_count": null,
   "id": "fe4d73a8",
   "metadata": {
    "papermill": {
     "duration": 0.009781,
     "end_time": "2022-07-13T04:00:01.028852",
     "exception": false,
     "start_time": "2022-07-13T04:00:01.019071",
     "status": "completed"
    },
    "tags": []
   },
   "outputs": [],
   "source": []
  },
  {
   "cell_type": "markdown",
   "id": "bae6a62f",
   "metadata": {
    "papermill": {
     "duration": 0.008363,
     "end_time": "2022-07-13T04:00:01.046228",
     "exception": false,
     "start_time": "2022-07-13T04:00:01.037865",
     "status": "completed"
    },
    "tags": []
   },
   "source": []
  },
  {
   "cell_type": "code",
   "execution_count": 1,
   "id": "22b8e5b1",
   "metadata": {
    "execution": {
     "iopub.execute_input": "2022-07-13T04:00:01.066657Z",
     "iopub.status.busy": "2022-07-13T04:00:01.066223Z",
     "iopub.status.idle": "2022-07-13T04:00:02.839505Z",
     "shell.execute_reply": "2022-07-13T04:00:02.838304Z"
    },
    "papermill": {
     "duration": 1.786287,
     "end_time": "2022-07-13T04:00:02.841918",
     "exception": false,
     "start_time": "2022-07-13T04:00:01.055631",
     "status": "completed"
    },
    "tags": []
   },
   "outputs": [],
   "source": [
    "import numpy as np\n",
    "import pandas as pd\n",
    "import seaborn as sns\n",
    "import matplotlib.pyplot as plt \n",
    "import scipy.stats\n",
    "from math import sqrt\n",
    "import statsmodels.api as sm\n",
    "import os\n"
   ]
  },
  {
   "cell_type": "markdown",
   "id": "9da3af9b",
   "metadata": {
    "papermill": {
     "duration": 0.009056,
     "end_time": "2022-07-13T04:00:02.860333",
     "exception": false,
     "start_time": "2022-07-13T04:00:02.851277",
     "status": "completed"
    },
    "tags": []
   },
   "source": [
    "### read dataset"
   ]
  },
  {
   "cell_type": "code",
   "execution_count": 2,
   "id": "b4e1fadc",
   "metadata": {
    "execution": {
     "iopub.execute_input": "2022-07-13T04:00:02.881051Z",
     "iopub.status.busy": "2022-07-13T04:00:02.879968Z",
     "iopub.status.idle": "2022-07-13T04:00:02.910475Z",
     "shell.execute_reply": "2022-07-13T04:00:02.909174Z"
    },
    "papermill": {
     "duration": 0.042989,
     "end_time": "2022-07-13T04:00:02.912839",
     "exception": false,
     "start_time": "2022-07-13T04:00:02.869850",
     "status": "completed"
    },
    "tags": []
   },
   "outputs": [],
   "source": [
    "df_ibm= pd.read_csv(\"/kaggle/input/ibm-hr-analytics-attrition-dataset/WA_Fn-UseC_-HR-Employee-Attrition.csv\")"
   ]
  },
  {
   "cell_type": "code",
   "execution_count": 3,
   "id": "41141258",
   "metadata": {
    "execution": {
     "iopub.execute_input": "2022-07-13T04:00:02.934128Z",
     "iopub.status.busy": "2022-07-13T04:00:02.932799Z",
     "iopub.status.idle": "2022-07-13T04:00:02.970055Z",
     "shell.execute_reply": "2022-07-13T04:00:02.969030Z"
    },
    "papermill": {
     "duration": 0.050035,
     "end_time": "2022-07-13T04:00:02.972272",
     "exception": false,
     "start_time": "2022-07-13T04:00:02.922237",
     "status": "completed"
    },
    "tags": []
   },
   "outputs": [
    {
     "data": {
      "text/html": [
       "<div>\n",
       "<style scoped>\n",
       "    .dataframe tbody tr th:only-of-type {\n",
       "        vertical-align: middle;\n",
       "    }\n",
       "\n",
       "    .dataframe tbody tr th {\n",
       "        vertical-align: top;\n",
       "    }\n",
       "\n",
       "    .dataframe thead th {\n",
       "        text-align: right;\n",
       "    }\n",
       "</style>\n",
       "<table border=\"1\" class=\"dataframe\">\n",
       "  <thead>\n",
       "    <tr style=\"text-align: right;\">\n",
       "      <th></th>\n",
       "      <th>Age</th>\n",
       "      <th>Attrition</th>\n",
       "      <th>BusinessTravel</th>\n",
       "      <th>DailyRate</th>\n",
       "      <th>Department</th>\n",
       "      <th>DistanceFromHome</th>\n",
       "      <th>Education</th>\n",
       "      <th>EducationField</th>\n",
       "      <th>EmployeeCount</th>\n",
       "      <th>EmployeeNumber</th>\n",
       "      <th>...</th>\n",
       "      <th>RelationshipSatisfaction</th>\n",
       "      <th>StandardHours</th>\n",
       "      <th>StockOptionLevel</th>\n",
       "      <th>TotalWorkingYears</th>\n",
       "      <th>TrainingTimesLastYear</th>\n",
       "      <th>WorkLifeBalance</th>\n",
       "      <th>YearsAtCompany</th>\n",
       "      <th>YearsInCurrentRole</th>\n",
       "      <th>YearsSinceLastPromotion</th>\n",
       "      <th>YearsWithCurrManager</th>\n",
       "    </tr>\n",
       "  </thead>\n",
       "  <tbody>\n",
       "    <tr>\n",
       "      <th>0</th>\n",
       "      <td>41</td>\n",
       "      <td>Yes</td>\n",
       "      <td>Travel_Rarely</td>\n",
       "      <td>1102</td>\n",
       "      <td>Sales</td>\n",
       "      <td>1</td>\n",
       "      <td>2</td>\n",
       "      <td>Life Sciences</td>\n",
       "      <td>1</td>\n",
       "      <td>1</td>\n",
       "      <td>...</td>\n",
       "      <td>1</td>\n",
       "      <td>80</td>\n",
       "      <td>0</td>\n",
       "      <td>8</td>\n",
       "      <td>0</td>\n",
       "      <td>1</td>\n",
       "      <td>6</td>\n",
       "      <td>4</td>\n",
       "      <td>0</td>\n",
       "      <td>5</td>\n",
       "    </tr>\n",
       "    <tr>\n",
       "      <th>1</th>\n",
       "      <td>49</td>\n",
       "      <td>No</td>\n",
       "      <td>Travel_Frequently</td>\n",
       "      <td>279</td>\n",
       "      <td>Research &amp; Development</td>\n",
       "      <td>8</td>\n",
       "      <td>1</td>\n",
       "      <td>Life Sciences</td>\n",
       "      <td>1</td>\n",
       "      <td>2</td>\n",
       "      <td>...</td>\n",
       "      <td>4</td>\n",
       "      <td>80</td>\n",
       "      <td>1</td>\n",
       "      <td>10</td>\n",
       "      <td>3</td>\n",
       "      <td>3</td>\n",
       "      <td>10</td>\n",
       "      <td>7</td>\n",
       "      <td>1</td>\n",
       "      <td>7</td>\n",
       "    </tr>\n",
       "    <tr>\n",
       "      <th>2</th>\n",
       "      <td>37</td>\n",
       "      <td>Yes</td>\n",
       "      <td>Travel_Rarely</td>\n",
       "      <td>1373</td>\n",
       "      <td>Research &amp; Development</td>\n",
       "      <td>2</td>\n",
       "      <td>2</td>\n",
       "      <td>Other</td>\n",
       "      <td>1</td>\n",
       "      <td>4</td>\n",
       "      <td>...</td>\n",
       "      <td>2</td>\n",
       "      <td>80</td>\n",
       "      <td>0</td>\n",
       "      <td>7</td>\n",
       "      <td>3</td>\n",
       "      <td>3</td>\n",
       "      <td>0</td>\n",
       "      <td>0</td>\n",
       "      <td>0</td>\n",
       "      <td>0</td>\n",
       "    </tr>\n",
       "    <tr>\n",
       "      <th>3</th>\n",
       "      <td>33</td>\n",
       "      <td>No</td>\n",
       "      <td>Travel_Frequently</td>\n",
       "      <td>1392</td>\n",
       "      <td>Research &amp; Development</td>\n",
       "      <td>3</td>\n",
       "      <td>4</td>\n",
       "      <td>Life Sciences</td>\n",
       "      <td>1</td>\n",
       "      <td>5</td>\n",
       "      <td>...</td>\n",
       "      <td>3</td>\n",
       "      <td>80</td>\n",
       "      <td>0</td>\n",
       "      <td>8</td>\n",
       "      <td>3</td>\n",
       "      <td>3</td>\n",
       "      <td>8</td>\n",
       "      <td>7</td>\n",
       "      <td>3</td>\n",
       "      <td>0</td>\n",
       "    </tr>\n",
       "    <tr>\n",
       "      <th>4</th>\n",
       "      <td>27</td>\n",
       "      <td>No</td>\n",
       "      <td>Travel_Rarely</td>\n",
       "      <td>591</td>\n",
       "      <td>Research &amp; Development</td>\n",
       "      <td>2</td>\n",
       "      <td>1</td>\n",
       "      <td>Medical</td>\n",
       "      <td>1</td>\n",
       "      <td>7</td>\n",
       "      <td>...</td>\n",
       "      <td>4</td>\n",
       "      <td>80</td>\n",
       "      <td>1</td>\n",
       "      <td>6</td>\n",
       "      <td>3</td>\n",
       "      <td>3</td>\n",
       "      <td>2</td>\n",
       "      <td>2</td>\n",
       "      <td>2</td>\n",
       "      <td>2</td>\n",
       "    </tr>\n",
       "    <tr>\n",
       "      <th>...</th>\n",
       "      <td>...</td>\n",
       "      <td>...</td>\n",
       "      <td>...</td>\n",
       "      <td>...</td>\n",
       "      <td>...</td>\n",
       "      <td>...</td>\n",
       "      <td>...</td>\n",
       "      <td>...</td>\n",
       "      <td>...</td>\n",
       "      <td>...</td>\n",
       "      <td>...</td>\n",
       "      <td>...</td>\n",
       "      <td>...</td>\n",
       "      <td>...</td>\n",
       "      <td>...</td>\n",
       "      <td>...</td>\n",
       "      <td>...</td>\n",
       "      <td>...</td>\n",
       "      <td>...</td>\n",
       "      <td>...</td>\n",
       "      <td>...</td>\n",
       "    </tr>\n",
       "    <tr>\n",
       "      <th>1465</th>\n",
       "      <td>36</td>\n",
       "      <td>No</td>\n",
       "      <td>Travel_Frequently</td>\n",
       "      <td>884</td>\n",
       "      <td>Research &amp; Development</td>\n",
       "      <td>23</td>\n",
       "      <td>2</td>\n",
       "      <td>Medical</td>\n",
       "      <td>1</td>\n",
       "      <td>2061</td>\n",
       "      <td>...</td>\n",
       "      <td>3</td>\n",
       "      <td>80</td>\n",
       "      <td>1</td>\n",
       "      <td>17</td>\n",
       "      <td>3</td>\n",
       "      <td>3</td>\n",
       "      <td>5</td>\n",
       "      <td>2</td>\n",
       "      <td>0</td>\n",
       "      <td>3</td>\n",
       "    </tr>\n",
       "    <tr>\n",
       "      <th>1466</th>\n",
       "      <td>39</td>\n",
       "      <td>No</td>\n",
       "      <td>Travel_Rarely</td>\n",
       "      <td>613</td>\n",
       "      <td>Research &amp; Development</td>\n",
       "      <td>6</td>\n",
       "      <td>1</td>\n",
       "      <td>Medical</td>\n",
       "      <td>1</td>\n",
       "      <td>2062</td>\n",
       "      <td>...</td>\n",
       "      <td>1</td>\n",
       "      <td>80</td>\n",
       "      <td>1</td>\n",
       "      <td>9</td>\n",
       "      <td>5</td>\n",
       "      <td>3</td>\n",
       "      <td>7</td>\n",
       "      <td>7</td>\n",
       "      <td>1</td>\n",
       "      <td>7</td>\n",
       "    </tr>\n",
       "    <tr>\n",
       "      <th>1467</th>\n",
       "      <td>27</td>\n",
       "      <td>No</td>\n",
       "      <td>Travel_Rarely</td>\n",
       "      <td>155</td>\n",
       "      <td>Research &amp; Development</td>\n",
       "      <td>4</td>\n",
       "      <td>3</td>\n",
       "      <td>Life Sciences</td>\n",
       "      <td>1</td>\n",
       "      <td>2064</td>\n",
       "      <td>...</td>\n",
       "      <td>2</td>\n",
       "      <td>80</td>\n",
       "      <td>1</td>\n",
       "      <td>6</td>\n",
       "      <td>0</td>\n",
       "      <td>3</td>\n",
       "      <td>6</td>\n",
       "      <td>2</td>\n",
       "      <td>0</td>\n",
       "      <td>3</td>\n",
       "    </tr>\n",
       "    <tr>\n",
       "      <th>1468</th>\n",
       "      <td>49</td>\n",
       "      <td>No</td>\n",
       "      <td>Travel_Frequently</td>\n",
       "      <td>1023</td>\n",
       "      <td>Sales</td>\n",
       "      <td>2</td>\n",
       "      <td>3</td>\n",
       "      <td>Medical</td>\n",
       "      <td>1</td>\n",
       "      <td>2065</td>\n",
       "      <td>...</td>\n",
       "      <td>4</td>\n",
       "      <td>80</td>\n",
       "      <td>0</td>\n",
       "      <td>17</td>\n",
       "      <td>3</td>\n",
       "      <td>2</td>\n",
       "      <td>9</td>\n",
       "      <td>6</td>\n",
       "      <td>0</td>\n",
       "      <td>8</td>\n",
       "    </tr>\n",
       "    <tr>\n",
       "      <th>1469</th>\n",
       "      <td>34</td>\n",
       "      <td>No</td>\n",
       "      <td>Travel_Rarely</td>\n",
       "      <td>628</td>\n",
       "      <td>Research &amp; Development</td>\n",
       "      <td>8</td>\n",
       "      <td>3</td>\n",
       "      <td>Medical</td>\n",
       "      <td>1</td>\n",
       "      <td>2068</td>\n",
       "      <td>...</td>\n",
       "      <td>1</td>\n",
       "      <td>80</td>\n",
       "      <td>0</td>\n",
       "      <td>6</td>\n",
       "      <td>3</td>\n",
       "      <td>4</td>\n",
       "      <td>4</td>\n",
       "      <td>3</td>\n",
       "      <td>1</td>\n",
       "      <td>2</td>\n",
       "    </tr>\n",
       "  </tbody>\n",
       "</table>\n",
       "<p>1470 rows × 35 columns</p>\n",
       "</div>"
      ],
      "text/plain": [
       "      Age Attrition     BusinessTravel  DailyRate              Department  \\\n",
       "0      41       Yes      Travel_Rarely       1102                   Sales   \n",
       "1      49        No  Travel_Frequently        279  Research & Development   \n",
       "2      37       Yes      Travel_Rarely       1373  Research & Development   \n",
       "3      33        No  Travel_Frequently       1392  Research & Development   \n",
       "4      27        No      Travel_Rarely        591  Research & Development   \n",
       "...   ...       ...                ...        ...                     ...   \n",
       "1465   36        No  Travel_Frequently        884  Research & Development   \n",
       "1466   39        No      Travel_Rarely        613  Research & Development   \n",
       "1467   27        No      Travel_Rarely        155  Research & Development   \n",
       "1468   49        No  Travel_Frequently       1023                   Sales   \n",
       "1469   34        No      Travel_Rarely        628  Research & Development   \n",
       "\n",
       "      DistanceFromHome  Education EducationField  EmployeeCount  \\\n",
       "0                    1          2  Life Sciences              1   \n",
       "1                    8          1  Life Sciences              1   \n",
       "2                    2          2          Other              1   \n",
       "3                    3          4  Life Sciences              1   \n",
       "4                    2          1        Medical              1   \n",
       "...                ...        ...            ...            ...   \n",
       "1465                23          2        Medical              1   \n",
       "1466                 6          1        Medical              1   \n",
       "1467                 4          3  Life Sciences              1   \n",
       "1468                 2          3        Medical              1   \n",
       "1469                 8          3        Medical              1   \n",
       "\n",
       "      EmployeeNumber  ...  RelationshipSatisfaction StandardHours  \\\n",
       "0                  1  ...                         1            80   \n",
       "1                  2  ...                         4            80   \n",
       "2                  4  ...                         2            80   \n",
       "3                  5  ...                         3            80   \n",
       "4                  7  ...                         4            80   \n",
       "...              ...  ...                       ...           ...   \n",
       "1465            2061  ...                         3            80   \n",
       "1466            2062  ...                         1            80   \n",
       "1467            2064  ...                         2            80   \n",
       "1468            2065  ...                         4            80   \n",
       "1469            2068  ...                         1            80   \n",
       "\n",
       "      StockOptionLevel  TotalWorkingYears  TrainingTimesLastYear  \\\n",
       "0                    0                  8                      0   \n",
       "1                    1                 10                      3   \n",
       "2                    0                  7                      3   \n",
       "3                    0                  8                      3   \n",
       "4                    1                  6                      3   \n",
       "...                ...                ...                    ...   \n",
       "1465                 1                 17                      3   \n",
       "1466                 1                  9                      5   \n",
       "1467                 1                  6                      0   \n",
       "1468                 0                 17                      3   \n",
       "1469                 0                  6                      3   \n",
       "\n",
       "     WorkLifeBalance  YearsAtCompany YearsInCurrentRole  \\\n",
       "0                  1               6                  4   \n",
       "1                  3              10                  7   \n",
       "2                  3               0                  0   \n",
       "3                  3               8                  7   \n",
       "4                  3               2                  2   \n",
       "...              ...             ...                ...   \n",
       "1465               3               5                  2   \n",
       "1466               3               7                  7   \n",
       "1467               3               6                  2   \n",
       "1468               2               9                  6   \n",
       "1469               4               4                  3   \n",
       "\n",
       "      YearsSinceLastPromotion  YearsWithCurrManager  \n",
       "0                           0                     5  \n",
       "1                           1                     7  \n",
       "2                           0                     0  \n",
       "3                           3                     0  \n",
       "4                           2                     2  \n",
       "...                       ...                   ...  \n",
       "1465                        0                     3  \n",
       "1466                        1                     7  \n",
       "1467                        0                     3  \n",
       "1468                        0                     8  \n",
       "1469                        1                     2  \n",
       "\n",
       "[1470 rows x 35 columns]"
      ]
     },
     "execution_count": 3,
     "metadata": {},
     "output_type": "execute_result"
    }
   ],
   "source": [
    "df_ibm"
   ]
  },
  {
   "cell_type": "markdown",
   "id": "b626c1a3",
   "metadata": {
    "papermill": {
     "duration": 0.014709,
     "end_time": "2022-07-13T04:00:03.001960",
     "exception": false,
     "start_time": "2022-07-13T04:00:02.987251",
     "status": "completed"
    },
    "tags": []
   },
   "source": [
    "# **Exploratory Data Analysis**¶¶\n"
   ]
  },
  {
   "cell_type": "code",
   "execution_count": 4,
   "id": "7691c6b2",
   "metadata": {
    "execution": {
     "iopub.execute_input": "2022-07-13T04:00:03.034840Z",
     "iopub.status.busy": "2022-07-13T04:00:03.034091Z",
     "iopub.status.idle": "2022-07-13T04:00:03.038969Z",
     "shell.execute_reply": "2022-07-13T04:00:03.038151Z"
    },
    "papermill": {
     "duration": 0.023343,
     "end_time": "2022-07-13T04:00:03.041282",
     "exception": false,
     "start_time": "2022-07-13T04:00:03.017939",
     "status": "completed"
    },
    "tags": []
   },
   "outputs": [
    {
     "data": {
      "text/plain": [
       "(1470, 35)"
      ]
     },
     "execution_count": 4,
     "metadata": {},
     "output_type": "execute_result"
    }
   ],
   "source": [
    "df_ibm.shape"
   ]
  },
  {
   "cell_type": "code",
   "execution_count": 5,
   "id": "75ab84a6",
   "metadata": {
    "execution": {
     "iopub.execute_input": "2022-07-13T04:00:03.073958Z",
     "iopub.status.busy": "2022-07-13T04:00:03.073526Z",
     "iopub.status.idle": "2022-07-13T04:00:03.142490Z",
     "shell.execute_reply": "2022-07-13T04:00:03.141463Z"
    },
    "papermill": {
     "duration": 0.087977,
     "end_time": "2022-07-13T04:00:03.144754",
     "exception": false,
     "start_time": "2022-07-13T04:00:03.056777",
     "status": "completed"
    },
    "tags": []
   },
   "outputs": [
    {
     "data": {
      "text/html": [
       "<div>\n",
       "<style scoped>\n",
       "    .dataframe tbody tr th:only-of-type {\n",
       "        vertical-align: middle;\n",
       "    }\n",
       "\n",
       "    .dataframe tbody tr th {\n",
       "        vertical-align: top;\n",
       "    }\n",
       "\n",
       "    .dataframe thead th {\n",
       "        text-align: right;\n",
       "    }\n",
       "</style>\n",
       "<table border=\"1\" class=\"dataframe\">\n",
       "  <thead>\n",
       "    <tr style=\"text-align: right;\">\n",
       "      <th></th>\n",
       "      <th>Age</th>\n",
       "      <th>DailyRate</th>\n",
       "      <th>DistanceFromHome</th>\n",
       "      <th>Education</th>\n",
       "      <th>EmployeeCount</th>\n",
       "      <th>EmployeeNumber</th>\n",
       "      <th>EnvironmentSatisfaction</th>\n",
       "      <th>HourlyRate</th>\n",
       "      <th>JobInvolvement</th>\n",
       "      <th>JobLevel</th>\n",
       "      <th>...</th>\n",
       "      <th>RelationshipSatisfaction</th>\n",
       "      <th>StandardHours</th>\n",
       "      <th>StockOptionLevel</th>\n",
       "      <th>TotalWorkingYears</th>\n",
       "      <th>TrainingTimesLastYear</th>\n",
       "      <th>WorkLifeBalance</th>\n",
       "      <th>YearsAtCompany</th>\n",
       "      <th>YearsInCurrentRole</th>\n",
       "      <th>YearsSinceLastPromotion</th>\n",
       "      <th>YearsWithCurrManager</th>\n",
       "    </tr>\n",
       "  </thead>\n",
       "  <tbody>\n",
       "    <tr>\n",
       "      <th>count</th>\n",
       "      <td>1470.000000</td>\n",
       "      <td>1470.000000</td>\n",
       "      <td>1470.000000</td>\n",
       "      <td>1470.000000</td>\n",
       "      <td>1470.0</td>\n",
       "      <td>1470.000000</td>\n",
       "      <td>1470.000000</td>\n",
       "      <td>1470.000000</td>\n",
       "      <td>1470.000000</td>\n",
       "      <td>1470.000000</td>\n",
       "      <td>...</td>\n",
       "      <td>1470.000000</td>\n",
       "      <td>1470.0</td>\n",
       "      <td>1470.000000</td>\n",
       "      <td>1470.000000</td>\n",
       "      <td>1470.000000</td>\n",
       "      <td>1470.000000</td>\n",
       "      <td>1470.000000</td>\n",
       "      <td>1470.000000</td>\n",
       "      <td>1470.000000</td>\n",
       "      <td>1470.000000</td>\n",
       "    </tr>\n",
       "    <tr>\n",
       "      <th>mean</th>\n",
       "      <td>36.923810</td>\n",
       "      <td>802.485714</td>\n",
       "      <td>9.192517</td>\n",
       "      <td>2.912925</td>\n",
       "      <td>1.0</td>\n",
       "      <td>1024.865306</td>\n",
       "      <td>2.721769</td>\n",
       "      <td>65.891156</td>\n",
       "      <td>2.729932</td>\n",
       "      <td>2.063946</td>\n",
       "      <td>...</td>\n",
       "      <td>2.712245</td>\n",
       "      <td>80.0</td>\n",
       "      <td>0.793878</td>\n",
       "      <td>11.279592</td>\n",
       "      <td>2.799320</td>\n",
       "      <td>2.761224</td>\n",
       "      <td>7.008163</td>\n",
       "      <td>4.229252</td>\n",
       "      <td>2.187755</td>\n",
       "      <td>4.123129</td>\n",
       "    </tr>\n",
       "    <tr>\n",
       "      <th>std</th>\n",
       "      <td>9.135373</td>\n",
       "      <td>403.509100</td>\n",
       "      <td>8.106864</td>\n",
       "      <td>1.024165</td>\n",
       "      <td>0.0</td>\n",
       "      <td>602.024335</td>\n",
       "      <td>1.093082</td>\n",
       "      <td>20.329428</td>\n",
       "      <td>0.711561</td>\n",
       "      <td>1.106940</td>\n",
       "      <td>...</td>\n",
       "      <td>1.081209</td>\n",
       "      <td>0.0</td>\n",
       "      <td>0.852077</td>\n",
       "      <td>7.780782</td>\n",
       "      <td>1.289271</td>\n",
       "      <td>0.706476</td>\n",
       "      <td>6.126525</td>\n",
       "      <td>3.623137</td>\n",
       "      <td>3.222430</td>\n",
       "      <td>3.568136</td>\n",
       "    </tr>\n",
       "    <tr>\n",
       "      <th>min</th>\n",
       "      <td>18.000000</td>\n",
       "      <td>102.000000</td>\n",
       "      <td>1.000000</td>\n",
       "      <td>1.000000</td>\n",
       "      <td>1.0</td>\n",
       "      <td>1.000000</td>\n",
       "      <td>1.000000</td>\n",
       "      <td>30.000000</td>\n",
       "      <td>1.000000</td>\n",
       "      <td>1.000000</td>\n",
       "      <td>...</td>\n",
       "      <td>1.000000</td>\n",
       "      <td>80.0</td>\n",
       "      <td>0.000000</td>\n",
       "      <td>0.000000</td>\n",
       "      <td>0.000000</td>\n",
       "      <td>1.000000</td>\n",
       "      <td>0.000000</td>\n",
       "      <td>0.000000</td>\n",
       "      <td>0.000000</td>\n",
       "      <td>0.000000</td>\n",
       "    </tr>\n",
       "    <tr>\n",
       "      <th>25%</th>\n",
       "      <td>30.000000</td>\n",
       "      <td>465.000000</td>\n",
       "      <td>2.000000</td>\n",
       "      <td>2.000000</td>\n",
       "      <td>1.0</td>\n",
       "      <td>491.250000</td>\n",
       "      <td>2.000000</td>\n",
       "      <td>48.000000</td>\n",
       "      <td>2.000000</td>\n",
       "      <td>1.000000</td>\n",
       "      <td>...</td>\n",
       "      <td>2.000000</td>\n",
       "      <td>80.0</td>\n",
       "      <td>0.000000</td>\n",
       "      <td>6.000000</td>\n",
       "      <td>2.000000</td>\n",
       "      <td>2.000000</td>\n",
       "      <td>3.000000</td>\n",
       "      <td>2.000000</td>\n",
       "      <td>0.000000</td>\n",
       "      <td>2.000000</td>\n",
       "    </tr>\n",
       "    <tr>\n",
       "      <th>50%</th>\n",
       "      <td>36.000000</td>\n",
       "      <td>802.000000</td>\n",
       "      <td>7.000000</td>\n",
       "      <td>3.000000</td>\n",
       "      <td>1.0</td>\n",
       "      <td>1020.500000</td>\n",
       "      <td>3.000000</td>\n",
       "      <td>66.000000</td>\n",
       "      <td>3.000000</td>\n",
       "      <td>2.000000</td>\n",
       "      <td>...</td>\n",
       "      <td>3.000000</td>\n",
       "      <td>80.0</td>\n",
       "      <td>1.000000</td>\n",
       "      <td>10.000000</td>\n",
       "      <td>3.000000</td>\n",
       "      <td>3.000000</td>\n",
       "      <td>5.000000</td>\n",
       "      <td>3.000000</td>\n",
       "      <td>1.000000</td>\n",
       "      <td>3.000000</td>\n",
       "    </tr>\n",
       "    <tr>\n",
       "      <th>75%</th>\n",
       "      <td>43.000000</td>\n",
       "      <td>1157.000000</td>\n",
       "      <td>14.000000</td>\n",
       "      <td>4.000000</td>\n",
       "      <td>1.0</td>\n",
       "      <td>1555.750000</td>\n",
       "      <td>4.000000</td>\n",
       "      <td>83.750000</td>\n",
       "      <td>3.000000</td>\n",
       "      <td>3.000000</td>\n",
       "      <td>...</td>\n",
       "      <td>4.000000</td>\n",
       "      <td>80.0</td>\n",
       "      <td>1.000000</td>\n",
       "      <td>15.000000</td>\n",
       "      <td>3.000000</td>\n",
       "      <td>3.000000</td>\n",
       "      <td>9.000000</td>\n",
       "      <td>7.000000</td>\n",
       "      <td>3.000000</td>\n",
       "      <td>7.000000</td>\n",
       "    </tr>\n",
       "    <tr>\n",
       "      <th>max</th>\n",
       "      <td>60.000000</td>\n",
       "      <td>1499.000000</td>\n",
       "      <td>29.000000</td>\n",
       "      <td>5.000000</td>\n",
       "      <td>1.0</td>\n",
       "      <td>2068.000000</td>\n",
       "      <td>4.000000</td>\n",
       "      <td>100.000000</td>\n",
       "      <td>4.000000</td>\n",
       "      <td>5.000000</td>\n",
       "      <td>...</td>\n",
       "      <td>4.000000</td>\n",
       "      <td>80.0</td>\n",
       "      <td>3.000000</td>\n",
       "      <td>40.000000</td>\n",
       "      <td>6.000000</td>\n",
       "      <td>4.000000</td>\n",
       "      <td>40.000000</td>\n",
       "      <td>18.000000</td>\n",
       "      <td>15.000000</td>\n",
       "      <td>17.000000</td>\n",
       "    </tr>\n",
       "  </tbody>\n",
       "</table>\n",
       "<p>8 rows × 26 columns</p>\n",
       "</div>"
      ],
      "text/plain": [
       "               Age    DailyRate  DistanceFromHome    Education  EmployeeCount  \\\n",
       "count  1470.000000  1470.000000       1470.000000  1470.000000         1470.0   \n",
       "mean     36.923810   802.485714          9.192517     2.912925            1.0   \n",
       "std       9.135373   403.509100          8.106864     1.024165            0.0   \n",
       "min      18.000000   102.000000          1.000000     1.000000            1.0   \n",
       "25%      30.000000   465.000000          2.000000     2.000000            1.0   \n",
       "50%      36.000000   802.000000          7.000000     3.000000            1.0   \n",
       "75%      43.000000  1157.000000         14.000000     4.000000            1.0   \n",
       "max      60.000000  1499.000000         29.000000     5.000000            1.0   \n",
       "\n",
       "       EmployeeNumber  EnvironmentSatisfaction   HourlyRate  JobInvolvement  \\\n",
       "count     1470.000000              1470.000000  1470.000000     1470.000000   \n",
       "mean      1024.865306                 2.721769    65.891156        2.729932   \n",
       "std        602.024335                 1.093082    20.329428        0.711561   \n",
       "min          1.000000                 1.000000    30.000000        1.000000   \n",
       "25%        491.250000                 2.000000    48.000000        2.000000   \n",
       "50%       1020.500000                 3.000000    66.000000        3.000000   \n",
       "75%       1555.750000                 4.000000    83.750000        3.000000   \n",
       "max       2068.000000                 4.000000   100.000000        4.000000   \n",
       "\n",
       "          JobLevel  ...  RelationshipSatisfaction  StandardHours  \\\n",
       "count  1470.000000  ...               1470.000000         1470.0   \n",
       "mean      2.063946  ...                  2.712245           80.0   \n",
       "std       1.106940  ...                  1.081209            0.0   \n",
       "min       1.000000  ...                  1.000000           80.0   \n",
       "25%       1.000000  ...                  2.000000           80.0   \n",
       "50%       2.000000  ...                  3.000000           80.0   \n",
       "75%       3.000000  ...                  4.000000           80.0   \n",
       "max       5.000000  ...                  4.000000           80.0   \n",
       "\n",
       "       StockOptionLevel  TotalWorkingYears  TrainingTimesLastYear  \\\n",
       "count       1470.000000        1470.000000            1470.000000   \n",
       "mean           0.793878          11.279592               2.799320   \n",
       "std            0.852077           7.780782               1.289271   \n",
       "min            0.000000           0.000000               0.000000   \n",
       "25%            0.000000           6.000000               2.000000   \n",
       "50%            1.000000          10.000000               3.000000   \n",
       "75%            1.000000          15.000000               3.000000   \n",
       "max            3.000000          40.000000               6.000000   \n",
       "\n",
       "       WorkLifeBalance  YearsAtCompany  YearsInCurrentRole  \\\n",
       "count      1470.000000     1470.000000         1470.000000   \n",
       "mean          2.761224        7.008163            4.229252   \n",
       "std           0.706476        6.126525            3.623137   \n",
       "min           1.000000        0.000000            0.000000   \n",
       "25%           2.000000        3.000000            2.000000   \n",
       "50%           3.000000        5.000000            3.000000   \n",
       "75%           3.000000        9.000000            7.000000   \n",
       "max           4.000000       40.000000           18.000000   \n",
       "\n",
       "       YearsSinceLastPromotion  YearsWithCurrManager  \n",
       "count              1470.000000           1470.000000  \n",
       "mean                  2.187755              4.123129  \n",
       "std                   3.222430              3.568136  \n",
       "min                   0.000000              0.000000  \n",
       "25%                   0.000000              2.000000  \n",
       "50%                   1.000000              3.000000  \n",
       "75%                   3.000000              7.000000  \n",
       "max                  15.000000             17.000000  \n",
       "\n",
       "[8 rows x 26 columns]"
      ]
     },
     "execution_count": 5,
     "metadata": {},
     "output_type": "execute_result"
    }
   ],
   "source": [
    "df_ibm.describe()"
   ]
  },
  {
   "cell_type": "code",
   "execution_count": 6,
   "id": "dfdef806",
   "metadata": {
    "execution": {
     "iopub.execute_input": "2022-07-13T04:00:03.166755Z",
     "iopub.status.busy": "2022-07-13T04:00:03.165743Z",
     "iopub.status.idle": "2022-07-13T04:00:03.177087Z",
     "shell.execute_reply": "2022-07-13T04:00:03.176057Z"
    },
    "papermill": {
     "duration": 0.024649,
     "end_time": "2022-07-13T04:00:03.179517",
     "exception": false,
     "start_time": "2022-07-13T04:00:03.154868",
     "status": "completed"
    },
    "tags": []
   },
   "outputs": [
    {
     "data": {
      "text/plain": [
       "Age                         0\n",
       "Attrition                   0\n",
       "BusinessTravel              0\n",
       "DailyRate                   0\n",
       "Department                  0\n",
       "DistanceFromHome            0\n",
       "Education                   0\n",
       "EducationField              0\n",
       "EmployeeCount               0\n",
       "EmployeeNumber              0\n",
       "EnvironmentSatisfaction     0\n",
       "Gender                      0\n",
       "HourlyRate                  0\n",
       "JobInvolvement              0\n",
       "JobLevel                    0\n",
       "JobRole                     0\n",
       "JobSatisfaction             0\n",
       "MaritalStatus               0\n",
       "MonthlyIncome               0\n",
       "MonthlyRate                 0\n",
       "NumCompaniesWorked          0\n",
       "Over18                      0\n",
       "OverTime                    0\n",
       "PercentSalaryHike           0\n",
       "PerformanceRating           0\n",
       "RelationshipSatisfaction    0\n",
       "StandardHours               0\n",
       "StockOptionLevel            0\n",
       "TotalWorkingYears           0\n",
       "TrainingTimesLastYear       0\n",
       "WorkLifeBalance             0\n",
       "YearsAtCompany              0\n",
       "YearsInCurrentRole          0\n",
       "YearsSinceLastPromotion     0\n",
       "YearsWithCurrManager        0\n",
       "dtype: int64"
      ]
     },
     "execution_count": 6,
     "metadata": {},
     "output_type": "execute_result"
    }
   ],
   "source": [
    "df_ibm.isnull().sum()"
   ]
  },
  {
   "cell_type": "code",
   "execution_count": 7,
   "id": "41553bc3",
   "metadata": {
    "execution": {
     "iopub.execute_input": "2022-07-13T04:00:03.200995Z",
     "iopub.status.busy": "2022-07-13T04:00:03.200607Z",
     "iopub.status.idle": "2022-07-13T04:00:03.210865Z",
     "shell.execute_reply": "2022-07-13T04:00:03.209631Z"
    },
    "papermill": {
     "duration": 0.023047,
     "end_time": "2022-07-13T04:00:03.212550",
     "exception": false,
     "start_time": "2022-07-13T04:00:03.189503",
     "status": "completed"
    },
    "tags": []
   },
   "outputs": [
    {
     "data": {
      "text/plain": [
       "Age\n",
       "35     78\n",
       "34     77\n",
       "36     69\n",
       "31     69\n",
       "29     68\n",
       "32     61\n",
       "30     60\n",
       "38     58\n",
       "33     58\n",
       "40     57\n",
       "37     50\n",
       "27     48\n",
       "28     48\n",
       "42     46\n",
       "39     42\n",
       "45     41\n",
       "41     40\n",
       "26     39\n",
       "44     33\n",
       "46     33\n",
       "43     32\n",
       "50     30\n",
       "24     26\n",
       "25     26\n",
       "47     24\n",
       "49     24\n",
       "55     22\n",
       "53     19\n",
       "48     19\n",
       "51     19\n",
       "52     18\n",
       "54     18\n",
       "22     16\n",
       "56     14\n",
       "23     14\n",
       "58     14\n",
       "21     13\n",
       "20     11\n",
       "59     10\n",
       "19      9\n",
       "18      8\n",
       "60      5\n",
       "57      4\n",
       "dtype: int64"
      ]
     },
     "execution_count": 7,
     "metadata": {},
     "output_type": "execute_result"
    }
   ],
   "source": [
    "df_ibm[['Age']].value_counts().sort_values(ascending=False)  "
   ]
  },
  {
   "cell_type": "markdown",
   "id": "c2a1dfdb",
   "metadata": {
    "papermill": {
     "duration": 0.0099,
     "end_time": "2022-07-13T04:00:03.232396",
     "exception": false,
     "start_time": "2022-07-13T04:00:03.222496",
     "status": "completed"
    },
    "tags": []
   },
   "source": [
    "### so the most ages works in company is 35 years old"
   ]
  },
  {
   "cell_type": "code",
   "execution_count": 8,
   "id": "0e786094",
   "metadata": {
    "execution": {
     "iopub.execute_input": "2022-07-13T04:00:03.253925Z",
     "iopub.status.busy": "2022-07-13T04:00:03.253348Z",
     "iopub.status.idle": "2022-07-13T04:00:03.261368Z",
     "shell.execute_reply": "2022-07-13T04:00:03.259625Z"
    },
    "papermill": {
     "duration": 0.022077,
     "end_time": "2022-07-13T04:00:03.264094",
     "exception": false,
     "start_time": "2022-07-13T04:00:03.242017",
     "status": "completed"
    },
    "tags": []
   },
   "outputs": [
    {
     "name": "stdout",
     "output_type": "stream",
     "text": [
      "Age                          int64\n",
      "Attrition                   object\n",
      "BusinessTravel              object\n",
      "DailyRate                    int64\n",
      "Department                  object\n",
      "DistanceFromHome             int64\n",
      "Education                    int64\n",
      "EducationField              object\n",
      "EmployeeCount                int64\n",
      "EmployeeNumber               int64\n",
      "EnvironmentSatisfaction      int64\n",
      "Gender                      object\n",
      "HourlyRate                   int64\n",
      "JobInvolvement               int64\n",
      "JobLevel                     int64\n",
      "JobRole                     object\n",
      "JobSatisfaction              int64\n",
      "MaritalStatus               object\n",
      "MonthlyIncome                int64\n",
      "MonthlyRate                  int64\n",
      "NumCompaniesWorked           int64\n",
      "Over18                      object\n",
      "OverTime                    object\n",
      "PercentSalaryHike            int64\n",
      "PerformanceRating            int64\n",
      "RelationshipSatisfaction     int64\n",
      "StandardHours                int64\n",
      "StockOptionLevel             int64\n",
      "TotalWorkingYears            int64\n",
      "TrainingTimesLastYear        int64\n",
      "WorkLifeBalance              int64\n",
      "YearsAtCompany               int64\n",
      "YearsInCurrentRole           int64\n",
      "YearsSinceLastPromotion      int64\n",
      "YearsWithCurrManager         int64\n",
      "dtype: object\n"
     ]
    }
   ],
   "source": [
    "print(df_ibm.dtypes)"
   ]
  },
  {
   "cell_type": "code",
   "execution_count": 9,
   "id": "2c1f4729",
   "metadata": {
    "execution": {
     "iopub.execute_input": "2022-07-13T04:00:03.298831Z",
     "iopub.status.busy": "2022-07-13T04:00:03.298469Z",
     "iopub.status.idle": "2022-07-13T04:00:03.312709Z",
     "shell.execute_reply": "2022-07-13T04:00:03.311745Z"
    },
    "papermill": {
     "duration": 0.034043,
     "end_time": "2022-07-13T04:00:03.314909",
     "exception": false,
     "start_time": "2022-07-13T04:00:03.280866",
     "status": "completed"
    },
    "tags": []
   },
   "outputs": [
    {
     "data": {
      "text/plain": [
       "Age                           43\n",
       "Attrition                      2\n",
       "BusinessTravel                 3\n",
       "DailyRate                    886\n",
       "Department                     3\n",
       "DistanceFromHome              29\n",
       "Education                      5\n",
       "EducationField                 6\n",
       "EmployeeCount                  1\n",
       "EmployeeNumber              1470\n",
       "EnvironmentSatisfaction        4\n",
       "Gender                         2\n",
       "HourlyRate                    71\n",
       "JobInvolvement                 4\n",
       "JobLevel                       5\n",
       "JobRole                        9\n",
       "JobSatisfaction                4\n",
       "MaritalStatus                  3\n",
       "MonthlyIncome               1349\n",
       "MonthlyRate                 1427\n",
       "NumCompaniesWorked            10\n",
       "Over18                         1\n",
       "OverTime                       2\n",
       "PercentSalaryHike             15\n",
       "PerformanceRating              2\n",
       "RelationshipSatisfaction       4\n",
       "StandardHours                  1\n",
       "StockOptionLevel               4\n",
       "TotalWorkingYears             40\n",
       "TrainingTimesLastYear          7\n",
       "WorkLifeBalance                4\n",
       "YearsAtCompany                37\n",
       "YearsInCurrentRole            19\n",
       "YearsSinceLastPromotion       16\n",
       "YearsWithCurrManager          18\n",
       "dtype: int64"
      ]
     },
     "execution_count": 9,
     "metadata": {},
     "output_type": "execute_result"
    }
   ],
   "source": [
    "df_ibm.nunique()"
   ]
  },
  {
   "cell_type": "markdown",
   "id": "c8694d66",
   "metadata": {
    "papermill": {
     "duration": 0.016072,
     "end_time": "2022-07-13T04:00:03.347359",
     "exception": false,
     "start_time": "2022-07-13T04:00:03.331287",
     "status": "completed"
    },
    "tags": []
   },
   "source": [
    "### so we do this analysis based on Attreation so we convert Attration into dummy variable"
   ]
  },
  {
   "cell_type": "code",
   "execution_count": 10,
   "id": "67edd2e4",
   "metadata": {
    "execution": {
     "iopub.execute_input": "2022-07-13T04:00:03.383008Z",
     "iopub.status.busy": "2022-07-13T04:00:03.382429Z",
     "iopub.status.idle": "2022-07-13T04:00:03.392431Z",
     "shell.execute_reply": "2022-07-13T04:00:03.391398Z"
    },
    "papermill": {
     "duration": 0.02978,
     "end_time": "2022-07-13T04:00:03.394418",
     "exception": false,
     "start_time": "2022-07-13T04:00:03.364638",
     "status": "completed"
    },
    "tags": []
   },
   "outputs": [
    {
     "data": {
      "text/html": [
       "<div>\n",
       "<style scoped>\n",
       "    .dataframe tbody tr th:only-of-type {\n",
       "        vertical-align: middle;\n",
       "    }\n",
       "\n",
       "    .dataframe tbody tr th {\n",
       "        vertical-align: top;\n",
       "    }\n",
       "\n",
       "    .dataframe thead th {\n",
       "        text-align: right;\n",
       "    }\n",
       "</style>\n",
       "<table border=\"1\" class=\"dataframe\">\n",
       "  <thead>\n",
       "    <tr style=\"text-align: right;\">\n",
       "      <th></th>\n",
       "      <th>No</th>\n",
       "      <th>Yes</th>\n",
       "    </tr>\n",
       "  </thead>\n",
       "  <tbody>\n",
       "    <tr>\n",
       "      <th>0</th>\n",
       "      <td>0</td>\n",
       "      <td>1</td>\n",
       "    </tr>\n",
       "    <tr>\n",
       "      <th>1</th>\n",
       "      <td>1</td>\n",
       "      <td>0</td>\n",
       "    </tr>\n",
       "    <tr>\n",
       "      <th>2</th>\n",
       "      <td>0</td>\n",
       "      <td>1</td>\n",
       "    </tr>\n",
       "    <tr>\n",
       "      <th>3</th>\n",
       "      <td>1</td>\n",
       "      <td>0</td>\n",
       "    </tr>\n",
       "    <tr>\n",
       "      <th>4</th>\n",
       "      <td>1</td>\n",
       "      <td>0</td>\n",
       "    </tr>\n",
       "  </tbody>\n",
       "</table>\n",
       "</div>"
      ],
      "text/plain": [
       "   No  Yes\n",
       "0   0    1\n",
       "1   1    0\n",
       "2   0    1\n",
       "3   1    0\n",
       "4   1    0"
      ]
     },
     "execution_count": 10,
     "metadata": {},
     "output_type": "execute_result"
    }
   ],
   "source": [
    "dummy_variable_1 = pd.get_dummies(df_ibm[\"Attrition\"])\n",
    "dummy_variable_1.head()"
   ]
  },
  {
   "cell_type": "code",
   "execution_count": 11,
   "id": "f89a46f4",
   "metadata": {
    "execution": {
     "iopub.execute_input": "2022-07-13T04:00:03.431507Z",
     "iopub.status.busy": "2022-07-13T04:00:03.430528Z",
     "iopub.status.idle": "2022-07-13T04:00:03.441607Z",
     "shell.execute_reply": "2022-07-13T04:00:03.440608Z"
    },
    "papermill": {
     "duration": 0.032221,
     "end_time": "2022-07-13T04:00:03.443654",
     "exception": false,
     "start_time": "2022-07-13T04:00:03.411433",
     "status": "completed"
    },
    "tags": []
   },
   "outputs": [
    {
     "data": {
      "text/html": [
       "<div>\n",
       "<style scoped>\n",
       "    .dataframe tbody tr th:only-of-type {\n",
       "        vertical-align: middle;\n",
       "    }\n",
       "\n",
       "    .dataframe tbody tr th {\n",
       "        vertical-align: top;\n",
       "    }\n",
       "\n",
       "    .dataframe thead th {\n",
       "        text-align: right;\n",
       "    }\n",
       "</style>\n",
       "<table border=\"1\" class=\"dataframe\">\n",
       "  <thead>\n",
       "    <tr style=\"text-align: right;\">\n",
       "      <th></th>\n",
       "      <th>Attrition_No</th>\n",
       "      <th>Attrition_Yes</th>\n",
       "    </tr>\n",
       "  </thead>\n",
       "  <tbody>\n",
       "    <tr>\n",
       "      <th>0</th>\n",
       "      <td>0</td>\n",
       "      <td>1</td>\n",
       "    </tr>\n",
       "    <tr>\n",
       "      <th>1</th>\n",
       "      <td>1</td>\n",
       "      <td>0</td>\n",
       "    </tr>\n",
       "    <tr>\n",
       "      <th>2</th>\n",
       "      <td>0</td>\n",
       "      <td>1</td>\n",
       "    </tr>\n",
       "    <tr>\n",
       "      <th>3</th>\n",
       "      <td>1</td>\n",
       "      <td>0</td>\n",
       "    </tr>\n",
       "    <tr>\n",
       "      <th>4</th>\n",
       "      <td>1</td>\n",
       "      <td>0</td>\n",
       "    </tr>\n",
       "  </tbody>\n",
       "</table>\n",
       "</div>"
      ],
      "text/plain": [
       "   Attrition_No  Attrition_Yes\n",
       "0             0              1\n",
       "1             1              0\n",
       "2             0              1\n",
       "3             1              0\n",
       "4             1              0"
      ]
     },
     "execution_count": 11,
     "metadata": {},
     "output_type": "execute_result"
    }
   ],
   "source": [
    "dummy_variable_1.rename(columns={'No':'Attrition_No', 'Yes':'Attrition_Yes'}, inplace=True)\n",
    "dummy_variable_1.head()"
   ]
  },
  {
   "cell_type": "markdown",
   "id": "b8fdc970",
   "metadata": {
    "papermill": {
     "duration": 0.010357,
     "end_time": "2022-07-13T04:00:03.465597",
     "exception": false,
     "start_time": "2022-07-13T04:00:03.455240",
     "status": "completed"
    },
    "tags": []
   },
   "source": [
    "### add new dummy variable into our original dataframe"
   ]
  },
  {
   "cell_type": "code",
   "execution_count": 12,
   "id": "ea94446e",
   "metadata": {
    "execution": {
     "iopub.execute_input": "2022-07-13T04:00:03.488491Z",
     "iopub.status.busy": "2022-07-13T04:00:03.488113Z",
     "iopub.status.idle": "2022-07-13T04:00:03.499710Z",
     "shell.execute_reply": "2022-07-13T04:00:03.498544Z"
    },
    "papermill": {
     "duration": 0.02556,
     "end_time": "2022-07-13T04:00:03.501684",
     "exception": false,
     "start_time": "2022-07-13T04:00:03.476124",
     "status": "completed"
    },
    "tags": []
   },
   "outputs": [],
   "source": [
    "df_ibm = pd.concat([df_ibm, dummy_variable_1], axis=1)\n",
    "\n",
    "df_ibm.drop(\"Attrition\", axis = 1, inplace=True)"
   ]
  },
  {
   "cell_type": "code",
   "execution_count": 13,
   "id": "94e21972",
   "metadata": {
    "execution": {
     "iopub.execute_input": "2022-07-13T04:00:03.524236Z",
     "iopub.status.busy": "2022-07-13T04:00:03.523867Z",
     "iopub.status.idle": "2022-07-13T04:00:03.541538Z",
     "shell.execute_reply": "2022-07-13T04:00:03.540624Z"
    },
    "papermill": {
     "duration": 0.03083,
     "end_time": "2022-07-13T04:00:03.543083",
     "exception": false,
     "start_time": "2022-07-13T04:00:03.512253",
     "status": "completed"
    },
    "tags": []
   },
   "outputs": [
    {
     "data": {
      "text/html": [
       "<div>\n",
       "<style scoped>\n",
       "    .dataframe tbody tr th:only-of-type {\n",
       "        vertical-align: middle;\n",
       "    }\n",
       "\n",
       "    .dataframe tbody tr th {\n",
       "        vertical-align: top;\n",
       "    }\n",
       "\n",
       "    .dataframe thead th {\n",
       "        text-align: right;\n",
       "    }\n",
       "</style>\n",
       "<table border=\"1\" class=\"dataframe\">\n",
       "  <thead>\n",
       "    <tr style=\"text-align: right;\">\n",
       "      <th></th>\n",
       "      <th>Age</th>\n",
       "      <th>BusinessTravel</th>\n",
       "      <th>DailyRate</th>\n",
       "      <th>Department</th>\n",
       "      <th>DistanceFromHome</th>\n",
       "      <th>Education</th>\n",
       "      <th>EducationField</th>\n",
       "      <th>EmployeeCount</th>\n",
       "      <th>EmployeeNumber</th>\n",
       "      <th>EnvironmentSatisfaction</th>\n",
       "      <th>...</th>\n",
       "      <th>StockOptionLevel</th>\n",
       "      <th>TotalWorkingYears</th>\n",
       "      <th>TrainingTimesLastYear</th>\n",
       "      <th>WorkLifeBalance</th>\n",
       "      <th>YearsAtCompany</th>\n",
       "      <th>YearsInCurrentRole</th>\n",
       "      <th>YearsSinceLastPromotion</th>\n",
       "      <th>YearsWithCurrManager</th>\n",
       "      <th>Attrition_No</th>\n",
       "      <th>Attrition_Yes</th>\n",
       "    </tr>\n",
       "  </thead>\n",
       "  <tbody>\n",
       "    <tr>\n",
       "      <th>0</th>\n",
       "      <td>41</td>\n",
       "      <td>Travel_Rarely</td>\n",
       "      <td>1102</td>\n",
       "      <td>Sales</td>\n",
       "      <td>1</td>\n",
       "      <td>2</td>\n",
       "      <td>Life Sciences</td>\n",
       "      <td>1</td>\n",
       "      <td>1</td>\n",
       "      <td>2</td>\n",
       "      <td>...</td>\n",
       "      <td>0</td>\n",
       "      <td>8</td>\n",
       "      <td>0</td>\n",
       "      <td>1</td>\n",
       "      <td>6</td>\n",
       "      <td>4</td>\n",
       "      <td>0</td>\n",
       "      <td>5</td>\n",
       "      <td>0</td>\n",
       "      <td>1</td>\n",
       "    </tr>\n",
       "    <tr>\n",
       "      <th>1</th>\n",
       "      <td>49</td>\n",
       "      <td>Travel_Frequently</td>\n",
       "      <td>279</td>\n",
       "      <td>Research &amp; Development</td>\n",
       "      <td>8</td>\n",
       "      <td>1</td>\n",
       "      <td>Life Sciences</td>\n",
       "      <td>1</td>\n",
       "      <td>2</td>\n",
       "      <td>3</td>\n",
       "      <td>...</td>\n",
       "      <td>1</td>\n",
       "      <td>10</td>\n",
       "      <td>3</td>\n",
       "      <td>3</td>\n",
       "      <td>10</td>\n",
       "      <td>7</td>\n",
       "      <td>1</td>\n",
       "      <td>7</td>\n",
       "      <td>1</td>\n",
       "      <td>0</td>\n",
       "    </tr>\n",
       "    <tr>\n",
       "      <th>2</th>\n",
       "      <td>37</td>\n",
       "      <td>Travel_Rarely</td>\n",
       "      <td>1373</td>\n",
       "      <td>Research &amp; Development</td>\n",
       "      <td>2</td>\n",
       "      <td>2</td>\n",
       "      <td>Other</td>\n",
       "      <td>1</td>\n",
       "      <td>4</td>\n",
       "      <td>4</td>\n",
       "      <td>...</td>\n",
       "      <td>0</td>\n",
       "      <td>7</td>\n",
       "      <td>3</td>\n",
       "      <td>3</td>\n",
       "      <td>0</td>\n",
       "      <td>0</td>\n",
       "      <td>0</td>\n",
       "      <td>0</td>\n",
       "      <td>0</td>\n",
       "      <td>1</td>\n",
       "    </tr>\n",
       "    <tr>\n",
       "      <th>3</th>\n",
       "      <td>33</td>\n",
       "      <td>Travel_Frequently</td>\n",
       "      <td>1392</td>\n",
       "      <td>Research &amp; Development</td>\n",
       "      <td>3</td>\n",
       "      <td>4</td>\n",
       "      <td>Life Sciences</td>\n",
       "      <td>1</td>\n",
       "      <td>5</td>\n",
       "      <td>4</td>\n",
       "      <td>...</td>\n",
       "      <td>0</td>\n",
       "      <td>8</td>\n",
       "      <td>3</td>\n",
       "      <td>3</td>\n",
       "      <td>8</td>\n",
       "      <td>7</td>\n",
       "      <td>3</td>\n",
       "      <td>0</td>\n",
       "      <td>1</td>\n",
       "      <td>0</td>\n",
       "    </tr>\n",
       "    <tr>\n",
       "      <th>4</th>\n",
       "      <td>27</td>\n",
       "      <td>Travel_Rarely</td>\n",
       "      <td>591</td>\n",
       "      <td>Research &amp; Development</td>\n",
       "      <td>2</td>\n",
       "      <td>1</td>\n",
       "      <td>Medical</td>\n",
       "      <td>1</td>\n",
       "      <td>7</td>\n",
       "      <td>1</td>\n",
       "      <td>...</td>\n",
       "      <td>1</td>\n",
       "      <td>6</td>\n",
       "      <td>3</td>\n",
       "      <td>3</td>\n",
       "      <td>2</td>\n",
       "      <td>2</td>\n",
       "      <td>2</td>\n",
       "      <td>2</td>\n",
       "      <td>1</td>\n",
       "      <td>0</td>\n",
       "    </tr>\n",
       "  </tbody>\n",
       "</table>\n",
       "<p>5 rows × 36 columns</p>\n",
       "</div>"
      ],
      "text/plain": [
       "   Age     BusinessTravel  DailyRate              Department  \\\n",
       "0   41      Travel_Rarely       1102                   Sales   \n",
       "1   49  Travel_Frequently        279  Research & Development   \n",
       "2   37      Travel_Rarely       1373  Research & Development   \n",
       "3   33  Travel_Frequently       1392  Research & Development   \n",
       "4   27      Travel_Rarely        591  Research & Development   \n",
       "\n",
       "   DistanceFromHome  Education EducationField  EmployeeCount  EmployeeNumber  \\\n",
       "0                 1          2  Life Sciences              1               1   \n",
       "1                 8          1  Life Sciences              1               2   \n",
       "2                 2          2          Other              1               4   \n",
       "3                 3          4  Life Sciences              1               5   \n",
       "4                 2          1        Medical              1               7   \n",
       "\n",
       "   EnvironmentSatisfaction  ... StockOptionLevel  TotalWorkingYears  \\\n",
       "0                        2  ...                0                  8   \n",
       "1                        3  ...                1                 10   \n",
       "2                        4  ...                0                  7   \n",
       "3                        4  ...                0                  8   \n",
       "4                        1  ...                1                  6   \n",
       "\n",
       "   TrainingTimesLastYear  WorkLifeBalance YearsAtCompany  YearsInCurrentRole  \\\n",
       "0                      0                1              6                   4   \n",
       "1                      3                3             10                   7   \n",
       "2                      3                3              0                   0   \n",
       "3                      3                3              8                   7   \n",
       "4                      3                3              2                   2   \n",
       "\n",
       "  YearsSinceLastPromotion  YearsWithCurrManager  Attrition_No  Attrition_Yes  \n",
       "0                       0                     5             0              1  \n",
       "1                       1                     7             1              0  \n",
       "2                       0                     0             0              1  \n",
       "3                       3                     0             1              0  \n",
       "4                       2                     2             1              0  \n",
       "\n",
       "[5 rows x 36 columns]"
      ]
     },
     "execution_count": 13,
     "metadata": {},
     "output_type": "execute_result"
    }
   ],
   "source": [
    "df_ibm.head()"
   ]
  },
  {
   "cell_type": "code",
   "execution_count": 14,
   "id": "fa35ea4a",
   "metadata": {
    "execution": {
     "iopub.execute_input": "2022-07-13T04:00:03.566291Z",
     "iopub.status.busy": "2022-07-13T04:00:03.565985Z",
     "iopub.status.idle": "2022-07-13T04:00:03.577762Z",
     "shell.execute_reply": "2022-07-13T04:00:03.576658Z"
    },
    "papermill": {
     "duration": 0.024976,
     "end_time": "2022-07-13T04:00:03.579483",
     "exception": false,
     "start_time": "2022-07-13T04:00:03.554507",
     "status": "completed"
    },
    "tags": []
   },
   "outputs": [
    {
     "data": {
      "text/plain": [
       "Department\n",
       "Sales                     0.206278\n",
       "Human Resources           0.190476\n",
       "Research & Development    0.138398\n",
       "Name: Attrition_Yes, dtype: float64"
      ]
     },
     "execution_count": 14,
     "metadata": {},
     "output_type": "execute_result"
    }
   ],
   "source": [
    "df_ibm.groupby('Department')['Attrition_Yes'].agg(np.mean).sort_values(ascending=False)\n"
   ]
  },
  {
   "cell_type": "code",
   "execution_count": 15,
   "id": "50094e47",
   "metadata": {
    "execution": {
     "iopub.execute_input": "2022-07-13T04:00:03.602243Z",
     "iopub.status.busy": "2022-07-13T04:00:03.601905Z",
     "iopub.status.idle": "2022-07-13T04:00:03.733841Z",
     "shell.execute_reply": "2022-07-13T04:00:03.733057Z"
    },
    "papermill": {
     "duration": 0.146382,
     "end_time": "2022-07-13T04:00:03.736481",
     "exception": false,
     "start_time": "2022-07-13T04:00:03.590099",
     "status": "completed"
    },
    "tags": []
   },
   "outputs": [
    {
     "data": {
      "image/png": "[encoded data removed]",
      "text/plain": [
       "<Figure size 432x288 with 1 Axes>"
      ]
     },
     "metadata": {},
     "output_type": "display_data"
    }
   ],
   "source": [
    "exp_val=[0.206278,0.190476,0.138398]\n",
    "exp_label=['Sales','Human Resources','Research & Development']\n",
    "palette_color = sns.color_palette('bright')\n",
    "plt.pie(exp_val,labels=exp_label,radius=1.5,colors=palette_color,autopct='%0.2f%%');"
   ]
  },
  {
   "cell_type": "markdown",
   "id": "c0d6d773",
   "metadata": {
    "papermill": {
     "duration": 0.021974,
     "end_time": "2022-07-13T04:00:03.781988",
     "exception": false,
     "start_time": "2022-07-13T04:00:03.760014",
     "status": "completed"
    },
    "tags": []
   },
   "source": [
    "### so the **sales department** is the most attration department"
   ]
  },
  {
   "cell_type": "code",
   "execution_count": 16,
   "id": "7e1009bf",
   "metadata": {
    "execution": {
     "iopub.execute_input": "2022-07-13T04:00:03.825533Z",
     "iopub.status.busy": "2022-07-13T04:00:03.825006Z",
     "iopub.status.idle": "2022-07-13T04:00:03.835049Z",
     "shell.execute_reply": "2022-07-13T04:00:03.834256Z"
    },
    "papermill": {
     "duration": 0.032935,
     "end_time": "2022-07-13T04:00:03.837186",
     "exception": false,
     "start_time": "2022-07-13T04:00:03.804251",
     "status": "completed"
    },
    "tags": []
   },
   "outputs": [
    {
     "data": {
      "text/plain": [
       "BusinessTravel\n",
       "Travel_Rarely        1043\n",
       "Travel_Frequently     277\n",
       "Non-Travel            150\n",
       "Name: Age, dtype: int64"
      ]
     },
     "execution_count": 16,
     "metadata": {},
     "output_type": "execute_result"
    }
   ],
   "source": [
    "df_ibm.groupby('BusinessTravel')['Age'].agg(len).sort_values(ascending=False)\n"
   ]
  },
  {
   "cell_type": "markdown",
   "id": "31b35d4a",
   "metadata": {
    "papermill": {
     "duration": 0.017371,
     "end_time": "2022-07-13T04:00:03.872174",
     "exception": false,
     "start_time": "2022-07-13T04:00:03.854803",
     "status": "completed"
    },
    "tags": []
   },
   "source": [
    "### and the most employees in this company travel_Rarely"
   ]
  },
  {
   "cell_type": "code",
   "execution_count": 17,
   "id": "6864c509",
   "metadata": {
    "execution": {
     "iopub.execute_input": "2022-07-13T04:00:03.910345Z",
     "iopub.status.busy": "2022-07-13T04:00:03.909847Z",
     "iopub.status.idle": "2022-07-13T04:00:04.201944Z",
     "shell.execute_reply": "2022-07-13T04:00:04.201309Z"
    },
    "papermill": {
     "duration": 0.313582,
     "end_time": "2022-07-13T04:00:04.203977",
     "exception": false,
     "start_time": "2022-07-13T04:00:03.890395",
     "status": "completed"
    },
    "tags": []
   },
   "outputs": [
    {
     "data": {
      "image/png": "[encoded data removed]",
      "text/plain": [
       "<Figure size 540.725x360 with 1 Axes>"
      ]
     },
     "metadata": {},
     "output_type": "display_data"
    }
   ],
   "source": [
    "sns.set(rc={'figure.figsize':(18,10)})\n",
    "plot=sns.catplot(x='BusinessTravel',hue='Department',kind='count',data=df_ibm)\n"
   ]
  },
  {
   "cell_type": "code",
   "execution_count": 18,
   "id": "fd43e592",
   "metadata": {
    "execution": {
     "iopub.execute_input": "2022-07-13T04:00:04.236602Z",
     "iopub.status.busy": "2022-07-13T04:00:04.236099Z",
     "iopub.status.idle": "2022-07-13T04:00:04.244899Z",
     "shell.execute_reply": "2022-07-13T04:00:04.243760Z"
    },
    "papermill": {
     "duration": 0.023706,
     "end_time": "2022-07-13T04:00:04.246731",
     "exception": false,
     "start_time": "2022-07-13T04:00:04.223025",
     "status": "completed"
    },
    "tags": []
   },
   "outputs": [
    {
     "data": {
      "text/plain": [
       "EducationField\n",
       "Human Resources     0.259259\n",
       "Technical Degree    0.242424\n",
       "Marketing           0.220126\n",
       "Life Sciences       0.146865\n",
       "Medical             0.135776\n",
       "Other               0.134146\n",
       "Name: Attrition_Yes, dtype: float64"
      ]
     },
     "execution_count": 18,
     "metadata": {},
     "output_type": "execute_result"
    }
   ],
   "source": [
    "df_ibm.groupby('EducationField')['Attrition_Yes'].agg(np.mean).sort_values(ascending=False)\n"
   ]
  },
  {
   "cell_type": "code",
   "execution_count": 19,
   "id": "1652913e",
   "metadata": {
    "execution": {
     "iopub.execute_input": "2022-07-13T04:00:04.273536Z",
     "iopub.status.busy": "2022-07-13T04:00:04.272843Z",
     "iopub.status.idle": "2022-07-13T04:00:04.405504Z",
     "shell.execute_reply": "2022-07-13T04:00:04.404427Z"
    },
    "papermill": {
     "duration": 0.148738,
     "end_time": "2022-07-13T04:00:04.408017",
     "exception": false,
     "start_time": "2022-07-13T04:00:04.259279",
     "status": "completed"
    },
    "tags": []
   },
   "outputs": [
    {
     "data": {
      "image/png": "[encoded data removed]",
      "text/plain": [
       "<Figure size 1296x720 with 1 Axes>"
      ]
     },
     "metadata": {},
     "output_type": "display_data"
    }
   ],
   "source": [
    "exp_val=[0.259259,0.242424,0.220126,0.146865,0.135776,0.134146]\n",
    "exp_label=['Human Resources','Technical Degree','Marketing','Life Sciences','Medical','Other']\n",
    "palette_color = sns.color_palette('bright')\n",
    "plt.pie(exp_val,labels=exp_label,radius=1,colors=palette_color,autopct='%0.2f%%');"
   ]
  },
  {
   "cell_type": "markdown",
   "id": "a16cddeb",
   "metadata": {
    "papermill": {
     "duration": 0.024216,
     "end_time": "2022-07-13T04:00:04.456983",
     "exception": false,
     "start_time": "2022-07-13T04:00:04.432767",
     "status": "completed"
    },
    "tags": []
   },
   "source": [
    "### so the most attration education field is the **human **resources****"
   ]
  },
  {
   "cell_type": "code",
   "execution_count": 20,
   "id": "42b1bc54",
   "metadata": {
    "execution": {
     "iopub.execute_input": "2022-07-13T04:00:04.497841Z",
     "iopub.status.busy": "2022-07-13T04:00:04.497262Z",
     "iopub.status.idle": "2022-07-13T04:00:04.505959Z",
     "shell.execute_reply": "2022-07-13T04:00:04.504762Z"
    },
    "papermill": {
     "duration": 0.0305,
     "end_time": "2022-07-13T04:00:04.507869",
     "exception": false,
     "start_time": "2022-07-13T04:00:04.477369",
     "status": "completed"
    },
    "tags": []
   },
   "outputs": [
    {
     "data": {
      "text/plain": [
       "Gender\n",
       "Male      0.170068\n",
       "Female    0.147959\n",
       "Name: Attrition_Yes, dtype: float64"
      ]
     },
     "execution_count": 20,
     "metadata": {},
     "output_type": "execute_result"
    }
   ],
   "source": [
    "df_ibm.groupby('Gender')['Attrition_Yes'].agg(np.mean).sort_values(ascending=False)\n"
   ]
  },
  {
   "cell_type": "code",
   "execution_count": 21,
   "id": "34795e74",
   "metadata": {
    "execution": {
     "iopub.execute_input": "2022-07-13T04:00:04.540919Z",
     "iopub.status.busy": "2022-07-13T04:00:04.540281Z",
     "iopub.status.idle": "2022-07-13T04:00:04.858751Z",
     "shell.execute_reply": "2022-07-13T04:00:04.858074Z"
    },
    "papermill": {
     "duration": 0.333883,
     "end_time": "2022-07-13T04:00:04.860850",
     "exception": false,
     "start_time": "2022-07-13T04:00:04.526967",
     "status": "completed"
    },
    "tags": []
   },
   "outputs": [
    {
     "data": {
      "text/plain": [
       "<seaborn.axisgrid.FacetGrid at 0x7f1ce498a1d0>"
      ]
     },
     "execution_count": 21,
     "metadata": {},
     "output_type": "execute_result"
    },
    {
     "data": {
      "image/png": "[encoded data removed]",
      "text/plain": [
       "<Figure size 443.175x360 with 1 Axes>"
      ]
     },
     "metadata": {},
     "output_type": "display_data"
    }
   ],
   "source": [
    "sns.catplot(x='Gender',hue='Attrition_Yes',kind='count',data=df_ibm)"
   ]
  },
  {
   "cell_type": "markdown",
   "id": "64455fbe",
   "metadata": {
    "papermill": {
     "duration": 0.019414,
     "end_time": "2022-07-13T04:00:04.899970",
     "exception": false,
     "start_time": "2022-07-13T04:00:04.880556",
     "status": "completed"
    },
    "tags": []
   },
   "source": [
    "### and males more attration than females"
   ]
  },
  {
   "cell_type": "code",
   "execution_count": 22,
   "id": "0037abb0",
   "metadata": {
    "execution": {
     "iopub.execute_input": "2022-07-13T04:00:04.941590Z",
     "iopub.status.busy": "2022-07-13T04:00:04.941096Z",
     "iopub.status.idle": "2022-07-13T04:00:04.948941Z",
     "shell.execute_reply": "2022-07-13T04:00:04.948137Z"
    },
    "papermill": {
     "duration": 0.031146,
     "end_time": "2022-07-13T04:00:04.951329",
     "exception": false,
     "start_time": "2022-07-13T04:00:04.920183",
     "status": "completed"
    },
    "tags": []
   },
   "outputs": [
    {
     "data": {
      "text/plain": [
       "Education\n",
       "1    0.182353\n",
       "3    0.173077\n",
       "2    0.156028\n",
       "4    0.145729\n",
       "5    0.104167\n",
       "Name: Attrition_Yes, dtype: float64"
      ]
     },
     "execution_count": 22,
     "metadata": {},
     "output_type": "execute_result"
    }
   ],
   "source": [
    "df_ibm.groupby('Education')['Attrition_Yes'].agg(np.mean).sort_values(ascending=False)\n"
   ]
  },
  {
   "cell_type": "markdown",
   "id": "a9c4ea10",
   "metadata": {
    "papermill": {
     "duration": 0.019471,
     "end_time": "2022-07-13T04:00:04.990783",
     "exception": false,
     "start_time": "2022-07-13T04:00:04.971312",
     "status": "completed"
    },
    "tags": []
   },
   "source": [
    "### and people they are Below College is more attration than other"
   ]
  },
  {
   "cell_type": "code",
   "execution_count": 23,
   "id": "e21600cf",
   "metadata": {
    "execution": {
     "iopub.execute_input": "2022-07-13T04:00:05.035613Z",
     "iopub.status.busy": "2022-07-13T04:00:05.035032Z",
     "iopub.status.idle": "2022-07-13T04:00:05.042060Z",
     "shell.execute_reply": "2022-07-13T04:00:05.041436Z"
    },
    "papermill": {
     "duration": 0.03222,
     "end_time": "2022-07-13T04:00:05.044513",
     "exception": false,
     "start_time": "2022-07-13T04:00:05.012293",
     "status": "completed"
    },
    "tags": []
   },
   "outputs": [
    {
     "data": {
      "text/plain": [
       "WorkLifeBalance\n",
       "1    0.312500\n",
       "4    0.176471\n",
       "2    0.168605\n",
       "3    0.142217\n",
       "Name: Attrition_Yes, dtype: float64"
      ]
     },
     "execution_count": 23,
     "metadata": {},
     "output_type": "execute_result"
    }
   ],
   "source": [
    "df_ibm.groupby('WorkLifeBalance')['Attrition_Yes'].agg(np.mean).sort_values(ascending=False)\n"
   ]
  },
  {
   "cell_type": "markdown",
   "id": "6b86ea1b",
   "metadata": {
    "papermill": {
     "duration": 0.020313,
     "end_time": "2022-07-13T04:00:05.085822",
     "exception": false,
     "start_time": "2022-07-13T04:00:05.065509",
     "status": "completed"
    },
    "tags": []
   },
   "source": [
    "###  and people they are have bad work life balance is more attration than other"
   ]
  },
  {
   "cell_type": "code",
   "execution_count": 24,
   "id": "02d22cc9",
   "metadata": {
    "execution": {
     "iopub.execute_input": "2022-07-13T04:00:05.129327Z",
     "iopub.status.busy": "2022-07-13T04:00:05.128826Z",
     "iopub.status.idle": "2022-07-13T04:00:05.229538Z",
     "shell.execute_reply": "2022-07-13T04:00:05.228669Z"
    },
    "papermill": {
     "duration": 0.124696,
     "end_time": "2022-07-13T04:00:05.231933",
     "exception": false,
     "start_time": "2022-07-13T04:00:05.107237",
     "status": "completed"
    },
    "tags": []
   },
   "outputs": [
    {
     "data": {
      "image/png": "[encoded data removed]",
      "text/plain": [
       "<Figure size 1296x720 with 1 Axes>"
      ]
     },
     "metadata": {},
     "output_type": "display_data"
    }
   ],
   "source": [
    "exp_val=[0.312500, 0.176471,0.168605,0.142217]\n",
    "exp_label=['Bad','Good','Better','Best']\n",
    "palette_color = sns.color_palette('bright')\n",
    "plt.pie(exp_val,labels=exp_label,radius=1,colors=palette_color,autopct='%0.2f%%');"
   ]
  },
  {
   "cell_type": "code",
   "execution_count": 25,
   "id": "03930a4c",
   "metadata": {
    "execution": {
     "iopub.execute_input": "2022-07-13T04:00:05.284129Z",
     "iopub.status.busy": "2022-07-13T04:00:05.283383Z",
     "iopub.status.idle": "2022-07-13T04:00:05.297082Z",
     "shell.execute_reply": "2022-07-13T04:00:05.296254Z"
    },
    "papermill": {
     "duration": 0.042658,
     "end_time": "2022-07-13T04:00:05.299500",
     "exception": false,
     "start_time": "2022-07-13T04:00:05.256842",
     "status": "completed"
    },
    "tags": []
   },
   "outputs": [
    {
     "data": {
      "text/plain": [
       "Age\n",
       "19    0.666667\n",
       "20    0.545455\n",
       "18    0.500000\n",
       "21    0.461538\n",
       "58    0.357143\n",
       "22    0.312500\n",
       "26    0.307692\n",
       "28    0.291667\n",
       "23    0.285714\n",
       "24    0.269231\n",
       "29    0.264706\n",
       "31    0.260870\n",
       "25    0.230769\n",
       "56    0.214286\n",
       "33    0.206897\n",
       "44    0.181818\n",
       "32    0.180328\n",
       "52    0.166667\n",
       "50    0.166667\n",
       "30    0.150000\n",
       "41    0.150000\n",
       "39    0.142857\n",
       "55    0.136364\n",
       "35    0.128205\n",
       "47    0.125000\n",
       "46    0.121212\n",
       "37    0.120000\n",
       "34    0.116883\n",
       "51    0.105263\n",
       "53    0.105263\n",
       "48    0.105263\n",
       "40    0.087719\n",
       "36    0.086957\n",
       "49    0.083333\n",
       "43    0.062500\n",
       "27    0.062500\n",
       "45    0.048780\n",
       "42    0.043478\n",
       "38    0.034483\n",
       "54    0.000000\n",
       "57    0.000000\n",
       "59    0.000000\n",
       "60    0.000000\n",
       "Name: Attrition_Yes, dtype: float64"
      ]
     },
     "execution_count": 25,
     "metadata": {},
     "output_type": "execute_result"
    }
   ],
   "source": [
    "df_ibm.groupby('Age')['Attrition_Yes'].agg(np.mean).sort_values(ascending=False)\n"
   ]
  },
  {
   "cell_type": "markdown",
   "id": "8c9c40b2",
   "metadata": {
    "papermill": {
     "duration": 0.021554,
     "end_time": "2022-07-13T04:00:05.342043",
     "exception": false,
     "start_time": "2022-07-13T04:00:05.320489",
     "status": "completed"
    },
    "tags": []
   },
   "source": [
    "### and employees the have 19 years old is the most aAttration in this company"
   ]
  },
  {
   "cell_type": "code",
   "execution_count": 26,
   "id": "0a20f159",
   "metadata": {
    "execution": {
     "iopub.execute_input": "2022-07-13T04:00:05.385996Z",
     "iopub.status.busy": "2022-07-13T04:00:05.385630Z",
     "iopub.status.idle": "2022-07-13T04:00:05.394088Z",
     "shell.execute_reply": "2022-07-13T04:00:05.393201Z"
    },
    "papermill": {
     "duration": 0.033716,
     "end_time": "2022-07-13T04:00:05.397222",
     "exception": false,
     "start_time": "2022-07-13T04:00:05.363506",
     "status": "completed"
    },
    "tags": []
   },
   "outputs": [
    {
     "data": {
      "text/plain": [
       "JobLevel\n",
       "1    0.263352\n",
       "3    0.146789\n",
       "2    0.097378\n",
       "5    0.072464\n",
       "4    0.047170\n",
       "Name: Attrition_Yes, dtype: float64"
      ]
     },
     "execution_count": 26,
     "metadata": {},
     "output_type": "execute_result"
    }
   ],
   "source": [
    "df_ibm.groupby('JobLevel')['Attrition_Yes'].agg(np.mean).sort_values(ascending=False)\n"
   ]
  },
  {
   "cell_type": "code",
   "execution_count": 27,
   "id": "b3721010",
   "metadata": {
    "execution": {
     "iopub.execute_input": "2022-07-13T04:00:05.439437Z",
     "iopub.status.busy": "2022-07-13T04:00:05.439142Z",
     "iopub.status.idle": "2022-07-13T04:00:05.447756Z",
     "shell.execute_reply": "2022-07-13T04:00:05.446774Z"
    },
    "papermill": {
     "duration": 0.031872,
     "end_time": "2022-07-13T04:00:05.449680",
     "exception": false,
     "start_time": "2022-07-13T04:00:05.417808",
     "status": "completed"
    },
    "tags": []
   },
   "outputs": [
    {
     "data": {
      "text/plain": [
       "PerformanceRating    2\n",
       "dtype: int64"
      ]
     },
     "execution_count": 27,
     "metadata": {},
     "output_type": "execute_result"
    }
   ],
   "source": [
    "df_ibm[['PerformanceRating']].nunique()"
   ]
  },
  {
   "cell_type": "code",
   "execution_count": 28,
   "id": "532d393e",
   "metadata": {
    "execution": {
     "iopub.execute_input": "2022-07-13T04:00:05.493325Z",
     "iopub.status.busy": "2022-07-13T04:00:05.492754Z",
     "iopub.status.idle": "2022-07-13T04:00:05.502182Z",
     "shell.execute_reply": "2022-07-13T04:00:05.501346Z"
    },
    "papermill": {
     "duration": 0.034477,
     "end_time": "2022-07-13T04:00:05.504788",
     "exception": false,
     "start_time": "2022-07-13T04:00:05.470311",
     "status": "completed"
    },
    "tags": []
   },
   "outputs": [
    {
     "data": {
      "text/plain": [
       "PerformanceRating\n",
       "3                    1244\n",
       "4                     226\n",
       "dtype: int64"
      ]
     },
     "execution_count": 28,
     "metadata": {},
     "output_type": "execute_result"
    }
   ],
   "source": [
    "df_ibm[['PerformanceRating']].value_counts().sort_values(ascending=False)  "
   ]
  },
  {
   "cell_type": "markdown",
   "id": "4f10bd83",
   "metadata": {
    "papermill": {
     "duration": 0.021966,
     "end_time": "2022-07-13T04:00:05.548109",
     "exception": false,
     "start_time": "2022-07-13T04:00:05.526143",
     "status": "completed"
    },
    "tags": []
   },
   "source": [
    "### the most employees in this company have PerformanceRating 3 which is excellent"
   ]
  },
  {
   "cell_type": "code",
   "execution_count": 29,
   "id": "085c79ef",
   "metadata": {
    "execution": {
     "iopub.execute_input": "2022-07-13T04:00:05.593166Z",
     "iopub.status.busy": "2022-07-13T04:00:05.592523Z",
     "iopub.status.idle": "2022-07-13T04:00:05.601077Z",
     "shell.execute_reply": "2022-07-13T04:00:05.600163Z"
    },
    "papermill": {
     "duration": 0.033446,
     "end_time": "2022-07-13T04:00:05.602969",
     "exception": false,
     "start_time": "2022-07-13T04:00:05.569523",
     "status": "completed"
    },
    "tags": []
   },
   "outputs": [
    {
     "data": {
      "text/plain": [
       "PerformanceRating\n",
       "4    2.734513\n",
       "3    2.727492\n",
       "Name: JobSatisfaction, dtype: float64"
      ]
     },
     "execution_count": 29,
     "metadata": {},
     "output_type": "execute_result"
    }
   ],
   "source": [
    "df_ibm.groupby('PerformanceRating')['JobSatisfaction'].agg(np.mean).sort_values(ascending=False)\n"
   ]
  },
  {
   "cell_type": "code",
   "execution_count": 30,
   "id": "5ea5ba94",
   "metadata": {
    "execution": {
     "iopub.execute_input": "2022-07-13T04:00:05.648609Z",
     "iopub.status.busy": "2022-07-13T04:00:05.647963Z",
     "iopub.status.idle": "2022-07-13T04:00:05.656567Z",
     "shell.execute_reply": "2022-07-13T04:00:05.655889Z"
    },
    "papermill": {
     "duration": 0.033881,
     "end_time": "2022-07-13T04:00:05.658697",
     "exception": false,
     "start_time": "2022-07-13T04:00:05.624816",
     "status": "completed"
    },
    "tags": []
   },
   "outputs": [
    {
     "data": {
      "text/plain": [
       "BusinessTravel\n",
       "Non-Travel           2.793333\n",
       "Travel_Frequently    2.790614\n",
       "Travel_Rarely        2.702780\n",
       "Name: JobSatisfaction, dtype: float64"
      ]
     },
     "execution_count": 30,
     "metadata": {},
     "output_type": "execute_result"
    }
   ],
   "source": [
    "df_ibm.groupby('BusinessTravel')['JobSatisfaction'].agg(np.mean).sort_values(ascending=False)\n"
   ]
  },
  {
   "cell_type": "code",
   "execution_count": 31,
   "id": "3d2e850d",
   "metadata": {
    "execution": {
     "iopub.execute_input": "2022-07-13T04:00:05.705010Z",
     "iopub.status.busy": "2022-07-13T04:00:05.704383Z",
     "iopub.status.idle": "2022-07-13T04:00:05.713471Z",
     "shell.execute_reply": "2022-07-13T04:00:05.712769Z"
    },
    "papermill": {
     "duration": 0.034429,
     "end_time": "2022-07-13T04:00:05.715369",
     "exception": false,
     "start_time": "2022-07-13T04:00:05.680940",
     "status": "completed"
    },
    "tags": []
   },
   "outputs": [
    {
     "data": {
      "text/plain": [
       "Age\n",
       "57    3.500000\n",
       "18    3.250000\n",
       "59    3.200000\n",
       "43    3.156250\n",
       "53    2.947368\n",
       "22    2.937500\n",
       "47    2.916667\n",
       "52    2.888889\n",
       "38    2.844828\n",
       "48    2.842105\n",
       "44    2.818182\n",
       "32    2.803279\n",
       "37    2.800000\n",
       "31    2.797101\n",
       "34    2.792208\n",
       "51    2.789474\n",
       "54    2.777778\n",
       "26    2.769231\n",
       "24    2.769231\n",
       "35    2.769231\n",
       "39    2.761905\n",
       "29    2.735294\n",
       "33    2.706897\n",
       "50    2.700000\n",
       "30    2.700000\n",
       "36    2.695652\n",
       "21    2.692308\n",
       "25    2.692308\n",
       "28    2.645833\n",
       "58    2.642857\n",
       "55    2.636364\n",
       "20    2.636364\n",
       "45    2.634146\n",
       "40    2.614035\n",
       "42    2.608696\n",
       "27    2.604167\n",
       "19    2.555556\n",
       "41    2.500000\n",
       "46    2.454545\n",
       "23    2.428571\n",
       "49    2.333333\n",
       "56    2.285714\n",
       "60    2.200000\n",
       "Name: JobSatisfaction, dtype: float64"
      ]
     },
     "execution_count": 31,
     "metadata": {},
     "output_type": "execute_result"
    }
   ],
   "source": [
    "df_ibm.groupby('Age')['JobSatisfaction'].agg(np.mean).sort_values(ascending=False)\n"
   ]
  },
  {
   "cell_type": "markdown",
   "id": "2a2921b4",
   "metadata": {
    "papermill": {
     "duration": 0.021128,
     "end_time": "2022-07-13T04:00:05.757962",
     "exception": false,
     "start_time": "2022-07-13T04:00:05.736834",
     "status": "completed"
    },
    "tags": []
   },
   "source": [
    "### and employees they have 57 years have higher job satisfaction in this company"
   ]
  },
  {
   "cell_type": "markdown",
   "id": "a36637f6",
   "metadata": {
    "papermill": {
     "duration": 0.020521,
     "end_time": "2022-07-13T04:00:05.799637",
     "exception": false,
     "start_time": "2022-07-13T04:00:05.779116",
     "status": "completed"
    },
    "tags": []
   },
   "source": []
  },
  {
   "cell_type": "code",
   "execution_count": 32,
   "id": "c4db6f62",
   "metadata": {
    "execution": {
     "iopub.execute_input": "2022-07-13T04:00:05.844228Z",
     "iopub.status.busy": "2022-07-13T04:00:05.843418Z",
     "iopub.status.idle": "2022-07-13T04:00:05.852920Z",
     "shell.execute_reply": "2022-07-13T04:00:05.852206Z"
    },
    "papermill": {
     "duration": 0.034346,
     "end_time": "2022-07-13T04:00:05.855267",
     "exception": false,
     "start_time": "2022-07-13T04:00:05.820921",
     "status": "completed"
    },
    "tags": []
   },
   "outputs": [
    {
     "data": {
      "text/plain": [
       "Education\n",
       "3            572\n",
       "4            398\n",
       "2            282\n",
       "1            170\n",
       "5             48\n",
       "dtype: int64"
      ]
     },
     "execution_count": 32,
     "metadata": {},
     "output_type": "execute_result"
    }
   ],
   "source": [
    "df_ibm[['Education']].value_counts().sort_values(ascending=False)  "
   ]
  },
  {
   "cell_type": "markdown",
   "id": "ca659927",
   "metadata": {
    "papermill": {
     "duration": 0.021383,
     "end_time": "2022-07-13T04:00:05.898517",
     "exception": false,
     "start_time": "2022-07-13T04:00:05.877134",
     "status": "completed"
    },
    "tags": []
   },
   "source": [
    "### the most employees in this company have an eductional dagree **Bachelor**"
   ]
  },
  {
   "cell_type": "code",
   "execution_count": 33,
   "id": "a7911245",
   "metadata": {
    "execution": {
     "iopub.execute_input": "2022-07-13T04:00:05.943634Z",
     "iopub.status.busy": "2022-07-13T04:00:05.943300Z",
     "iopub.status.idle": "2022-07-13T04:00:05.952234Z",
     "shell.execute_reply": "2022-07-13T04:00:05.951304Z"
    },
    "papermill": {
     "duration": 0.034034,
     "end_time": "2022-07-13T04:00:05.954498",
     "exception": false,
     "start_time": "2022-07-13T04:00:05.920464",
     "status": "completed"
    },
    "tags": []
   },
   "outputs": [
    {
     "data": {
      "text/plain": [
       "Education\n",
       "3    2.776224\n",
       "1    2.747059\n",
       "2    2.716312\n",
       "5    2.645833\n",
       "4    2.645729\n",
       "Name: EnvironmentSatisfaction, dtype: float64"
      ]
     },
     "execution_count": 33,
     "metadata": {},
     "output_type": "execute_result"
    }
   ],
   "source": [
    "df_ibm.groupby('Education')['EnvironmentSatisfaction'].agg(np.mean).sort_values(ascending=False)\n"
   ]
  },
  {
   "cell_type": "code",
   "execution_count": null,
   "id": "66d88f8f",
   "metadata": {
    "papermill": {
     "duration": 0.021951,
     "end_time": "2022-07-13T04:00:05.998459",
     "exception": false,
     "start_time": "2022-07-13T04:00:05.976508",
     "status": "completed"
    },
    "tags": []
   },
   "outputs": [],
   "source": []
  }
 ],
 "metadata": {
  "kernelspec": {
   "display_name": "Python 3",
   "language": "python",
   "name": "python3"
  },
  "language_info": {
   "codemirror_mode": {
    "name": "ipython",
    "version": 3
   },
   "file_extension": ".py",
   "mimetype": "text/x-python",
   "name": "python",
   "nbconvert_exporter": "python",
   "pygments_lexer": "ipython3",
   "version": "3.7.12"
  },
  "papermill": {
   "default_parameters": {},
   "duration": 14.041694,
   "end_time": "2022-07-13T04:00:07.046993",
   "environment_variables": {},
   "exception": null,
   "input_path": "__notebook__.ipynb",
   "output_path": "__notebook__.ipynb",
   "parameters": {},
   "start_time": "2022-07-13T03:59:53.005299",
   "version": "2.3.4"
  }
 },
 "nbformat": 4,
 "nbformat_minor": 5
}
