{
 "cells": [
  {
   "cell_type": "markdown",
   "id": "137942ea",
   "metadata": {
    "papermill": {
     "duration": 0.007817,
     "end_time": "2022-06-28T04:21:52.283420",
     "exception": false,
     "start_time": "2022-06-28T04:21:52.275603",
     "status": "completed"
    },
    "tags": []
   },
   "source": []
  },
  {
   "cell_type": "markdown",
   "id": "a4d1c313",
   "metadata": {
    "papermill": {
     "duration": 0.006731,
     "end_time": "2022-06-28T04:21:52.297178",
     "exception": false,
     "start_time": "2022-06-28T04:21:52.290447",
     "status": "completed"
    },
    "tags": []
   },
   "source": [
    "### Import packages"
   ]
  },
  {
   "cell_type": "code",
   "execution_count": 1,
   "id": "47299b89",
   "metadata": {
    "execution": {
     "iopub.execute_input": "2022-06-28T04:21:52.314395Z",
     "iopub.status.busy": "2022-06-28T04:21:52.313047Z",
     "iopub.status.idle": "2022-06-28T04:21:54.405332Z",
     "shell.execute_reply": "2022-06-28T04:21:54.404120Z"
    },
    "papermill": {
     "duration": 2.104428,
     "end_time": "2022-06-28T04:21:54.408483",
     "exception": false,
     "start_time": "2022-06-28T04:21:52.304055",
     "status": "completed"
    },
    "tags": []
   },
   "outputs": [],
   "source": [
    "import numpy as np\n",
    "import pandas as pd\n",
    "import seaborn as sns\n",
    "import matplotlib.pyplot as plt \n",
    "import scipy.stats\n",
    "from math import sqrt\n",
    "import statsmodels.api as sm\n",
    "import os\n"
   ]
  },
  {
   "cell_type": "markdown",
   "id": "7376b41b",
   "metadata": {
    "papermill": {
     "duration": 0.008062,
     "end_time": "2022-06-28T04:21:54.424336",
     "exception": false,
     "start_time": "2022-06-28T04:21:54.416274",
     "status": "completed"
    },
    "tags": []
   },
   "source": [
    "## read dataset"
   ]
  },
  {
   "cell_type": "code",
   "execution_count": 2,
   "id": "aaa66f4a",
   "metadata": {
    "collapsed": true,
    "execution": {
     "iopub.execute_input": "2022-06-28T04:21:54.439422Z",
     "iopub.status.busy": "2022-06-28T04:21:54.439028Z",
     "iopub.status.idle": "2022-06-28T04:21:54.504355Z",
     "shell.execute_reply": "2022-06-28T04:21:54.502933Z"
    },
    "jupyter": {
     "outputs_hidden": true
    },
    "papermill": {
     "duration": 0.077598,
     "end_time": "2022-06-28T04:21:54.508702",
     "exception": false,
     "start_time": "2022-06-28T04:21:54.431104",
     "status": "completed"
    },
    "tags": []
   },
   "outputs": [
    {
     "data": {
      "text/html": [
       "<div>\n",
       "<style scoped>\n",
       "    .dataframe tbody tr th:only-of-type {\n",
       "        vertical-align: middle;\n",
       "    }\n",
       "\n",
       "    .dataframe tbody tr th {\n",
       "        vertical-align: top;\n",
       "    }\n",
       "\n",
       "    .dataframe thead th {\n",
       "        text-align: right;\n",
       "    }\n",
       "</style>\n",
       "<table border=\"1\" class=\"dataframe\">\n",
       "  <thead>\n",
       "    <tr style=\"text-align: right;\">\n",
       "      <th></th>\n",
       "      <th>Invoice ID</th>\n",
       "      <th>Branch</th>\n",
       "      <th>City</th>\n",
       "      <th>Customer type</th>\n",
       "      <th>Gender</th>\n",
       "      <th>Product line</th>\n",
       "      <th>Unit price</th>\n",
       "      <th>Quantity</th>\n",
       "      <th>Tax 5%</th>\n",
       "      <th>Total</th>\n",
       "      <th>Date</th>\n",
       "      <th>Time</th>\n",
       "      <th>Payment</th>\n",
       "      <th>cogs</th>\n",
       "      <th>gross margin percentage</th>\n",
       "      <th>gross income</th>\n",
       "      <th>Rating</th>\n",
       "    </tr>\n",
       "  </thead>\n",
       "  <tbody>\n",
       "    <tr>\n",
       "      <th>0</th>\n",
       "      <td>750-67-8428</td>\n",
       "      <td>A</td>\n",
       "      <td>Yangon</td>\n",
       "      <td>Member</td>\n",
       "      <td>Female</td>\n",
       "      <td>Health and beauty</td>\n",
       "      <td>74.69</td>\n",
       "      <td>7</td>\n",
       "      <td>26.1415</td>\n",
       "      <td>548.9715</td>\n",
       "      <td>1/5/2019</td>\n",
       "      <td>13:08</td>\n",
       "      <td>Ewallet</td>\n",
       "      <td>522.83</td>\n",
       "      <td>4.761905</td>\n",
       "      <td>26.1415</td>\n",
       "      <td>9.1</td>\n",
       "    </tr>\n",
       "    <tr>\n",
       "      <th>1</th>\n",
       "      <td>226-31-3081</td>\n",
       "      <td>C</td>\n",
       "      <td>Naypyitaw</td>\n",
       "      <td>Normal</td>\n",
       "      <td>Female</td>\n",
       "      <td>Electronic accessories</td>\n",
       "      <td>15.28</td>\n",
       "      <td>5</td>\n",
       "      <td>3.8200</td>\n",
       "      <td>80.2200</td>\n",
       "      <td>3/8/2019</td>\n",
       "      <td>10:29</td>\n",
       "      <td>Cash</td>\n",
       "      <td>76.40</td>\n",
       "      <td>4.761905</td>\n",
       "      <td>3.8200</td>\n",
       "      <td>9.6</td>\n",
       "    </tr>\n",
       "    <tr>\n",
       "      <th>2</th>\n",
       "      <td>631-41-3108</td>\n",
       "      <td>A</td>\n",
       "      <td>Yangon</td>\n",
       "      <td>Normal</td>\n",
       "      <td>Male</td>\n",
       "      <td>Home and lifestyle</td>\n",
       "      <td>46.33</td>\n",
       "      <td>7</td>\n",
       "      <td>16.2155</td>\n",
       "      <td>340.5255</td>\n",
       "      <td>3/3/2019</td>\n",
       "      <td>13:23</td>\n",
       "      <td>Credit card</td>\n",
       "      <td>324.31</td>\n",
       "      <td>4.761905</td>\n",
       "      <td>16.2155</td>\n",
       "      <td>7.4</td>\n",
       "    </tr>\n",
       "    <tr>\n",
       "      <th>3</th>\n",
       "      <td>123-19-1176</td>\n",
       "      <td>A</td>\n",
       "      <td>Yangon</td>\n",
       "      <td>Member</td>\n",
       "      <td>Male</td>\n",
       "      <td>Health and beauty</td>\n",
       "      <td>58.22</td>\n",
       "      <td>8</td>\n",
       "      <td>23.2880</td>\n",
       "      <td>489.0480</td>\n",
       "      <td>1/27/2019</td>\n",
       "      <td>20:33</td>\n",
       "      <td>Ewallet</td>\n",
       "      <td>465.76</td>\n",
       "      <td>4.761905</td>\n",
       "      <td>23.2880</td>\n",
       "      <td>8.4</td>\n",
       "    </tr>\n",
       "    <tr>\n",
       "      <th>4</th>\n",
       "      <td>373-73-7910</td>\n",
       "      <td>A</td>\n",
       "      <td>Yangon</td>\n",
       "      <td>Normal</td>\n",
       "      <td>Male</td>\n",
       "      <td>Sports and travel</td>\n",
       "      <td>86.31</td>\n",
       "      <td>7</td>\n",
       "      <td>30.2085</td>\n",
       "      <td>634.3785</td>\n",
       "      <td>2/8/2019</td>\n",
       "      <td>10:37</td>\n",
       "      <td>Ewallet</td>\n",
       "      <td>604.17</td>\n",
       "      <td>4.761905</td>\n",
       "      <td>30.2085</td>\n",
       "      <td>5.3</td>\n",
       "    </tr>\n",
       "    <tr>\n",
       "      <th>...</th>\n",
       "      <td>...</td>\n",
       "      <td>...</td>\n",
       "      <td>...</td>\n",
       "      <td>...</td>\n",
       "      <td>...</td>\n",
       "      <td>...</td>\n",
       "      <td>...</td>\n",
       "      <td>...</td>\n",
       "      <td>...</td>\n",
       "      <td>...</td>\n",
       "      <td>...</td>\n",
       "      <td>...</td>\n",
       "      <td>...</td>\n",
       "      <td>...</td>\n",
       "      <td>...</td>\n",
       "      <td>...</td>\n",
       "      <td>...</td>\n",
       "    </tr>\n",
       "    <tr>\n",
       "      <th>995</th>\n",
       "      <td>233-67-5758</td>\n",
       "      <td>C</td>\n",
       "      <td>Naypyitaw</td>\n",
       "      <td>Normal</td>\n",
       "      <td>Male</td>\n",
       "      <td>Health and beauty</td>\n",
       "      <td>40.35</td>\n",
       "      <td>1</td>\n",
       "      <td>2.0175</td>\n",
       "      <td>42.3675</td>\n",
       "      <td>1/29/2019</td>\n",
       "      <td>13:46</td>\n",
       "      <td>Ewallet</td>\n",
       "      <td>40.35</td>\n",
       "      <td>4.761905</td>\n",
       "      <td>2.0175</td>\n",
       "      <td>6.2</td>\n",
       "    </tr>\n",
       "    <tr>\n",
       "      <th>996</th>\n",
       "      <td>303-96-2227</td>\n",
       "      <td>B</td>\n",
       "      <td>Mandalay</td>\n",
       "      <td>Normal</td>\n",
       "      <td>Female</td>\n",
       "      <td>Home and lifestyle</td>\n",
       "      <td>97.38</td>\n",
       "      <td>10</td>\n",
       "      <td>48.6900</td>\n",
       "      <td>1022.4900</td>\n",
       "      <td>3/2/2019</td>\n",
       "      <td>17:16</td>\n",
       "      <td>Ewallet</td>\n",
       "      <td>973.80</td>\n",
       "      <td>4.761905</td>\n",
       "      <td>48.6900</td>\n",
       "      <td>4.4</td>\n",
       "    </tr>\n",
       "    <tr>\n",
       "      <th>997</th>\n",
       "      <td>727-02-1313</td>\n",
       "      <td>A</td>\n",
       "      <td>Yangon</td>\n",
       "      <td>Member</td>\n",
       "      <td>Male</td>\n",
       "      <td>Food and beverages</td>\n",
       "      <td>31.84</td>\n",
       "      <td>1</td>\n",
       "      <td>1.5920</td>\n",
       "      <td>33.4320</td>\n",
       "      <td>2/9/2019</td>\n",
       "      <td>13:22</td>\n",
       "      <td>Cash</td>\n",
       "      <td>31.84</td>\n",
       "      <td>4.761905</td>\n",
       "      <td>1.5920</td>\n",
       "      <td>7.7</td>\n",
       "    </tr>\n",
       "    <tr>\n",
       "      <th>998</th>\n",
       "      <td>347-56-2442</td>\n",
       "      <td>A</td>\n",
       "      <td>Yangon</td>\n",
       "      <td>Normal</td>\n",
       "      <td>Male</td>\n",
       "      <td>Home and lifestyle</td>\n",
       "      <td>65.82</td>\n",
       "      <td>1</td>\n",
       "      <td>3.2910</td>\n",
       "      <td>69.1110</td>\n",
       "      <td>2/22/2019</td>\n",
       "      <td>15:33</td>\n",
       "      <td>Cash</td>\n",
       "      <td>65.82</td>\n",
       "      <td>4.761905</td>\n",
       "      <td>3.2910</td>\n",
       "      <td>4.1</td>\n",
       "    </tr>\n",
       "    <tr>\n",
       "      <th>999</th>\n",
       "      <td>849-09-3807</td>\n",
       "      <td>A</td>\n",
       "      <td>Yangon</td>\n",
       "      <td>Member</td>\n",
       "      <td>Female</td>\n",
       "      <td>Fashion accessories</td>\n",
       "      <td>88.34</td>\n",
       "      <td>7</td>\n",
       "      <td>30.9190</td>\n",
       "      <td>649.2990</td>\n",
       "      <td>2/18/2019</td>\n",
       "      <td>13:28</td>\n",
       "      <td>Cash</td>\n",
       "      <td>618.38</td>\n",
       "      <td>4.761905</td>\n",
       "      <td>30.9190</td>\n",
       "      <td>6.6</td>\n",
       "    </tr>\n",
       "  </tbody>\n",
       "</table>\n",
       "<p>1000 rows × 17 columns</p>\n",
       "</div>"
      ],
      "text/plain": [
       "      Invoice ID Branch       City Customer type  Gender  \\\n",
       "0    750-67-8428      A     Yangon        Member  Female   \n",
       "1    226-31-3081      C  Naypyitaw        Normal  Female   \n",
       "2    631-41-3108      A     Yangon        Normal    Male   \n",
       "3    123-19-1176      A     Yangon        Member    Male   \n",
       "4    373-73-7910      A     Yangon        Normal    Male   \n",
       "..           ...    ...        ...           ...     ...   \n",
       "995  233-67-5758      C  Naypyitaw        Normal    Male   \n",
       "996  303-96-2227      B   Mandalay        Normal  Female   \n",
       "997  727-02-1313      A     Yangon        Member    Male   \n",
       "998  347-56-2442      A     Yangon        Normal    Male   \n",
       "999  849-09-3807      A     Yangon        Member  Female   \n",
       "\n",
       "               Product line  Unit price  Quantity   Tax 5%      Total  \\\n",
       "0         Health and beauty       74.69         7  26.1415   548.9715   \n",
       "1    Electronic accessories       15.28         5   3.8200    80.2200   \n",
       "2        Home and lifestyle       46.33         7  16.2155   340.5255   \n",
       "3         Health and beauty       58.22         8  23.2880   489.0480   \n",
       "4         Sports and travel       86.31         7  30.2085   634.3785   \n",
       "..                      ...         ...       ...      ...        ...   \n",
       "995       Health and beauty       40.35         1   2.0175    42.3675   \n",
       "996      Home and lifestyle       97.38        10  48.6900  1022.4900   \n",
       "997      Food and beverages       31.84         1   1.5920    33.4320   \n",
       "998      Home and lifestyle       65.82         1   3.2910    69.1110   \n",
       "999     Fashion accessories       88.34         7  30.9190   649.2990   \n",
       "\n",
       "          Date   Time      Payment    cogs  gross margin percentage  \\\n",
       "0     1/5/2019  13:08      Ewallet  522.83                 4.761905   \n",
       "1     3/8/2019  10:29         Cash   76.40                 4.761905   \n",
       "2     3/3/2019  13:23  Credit card  324.31                 4.761905   \n",
       "3    1/27/2019  20:33      Ewallet  465.76                 4.761905   \n",
       "4     2/8/2019  10:37      Ewallet  604.17                 4.761905   \n",
       "..         ...    ...          ...     ...                      ...   \n",
       "995  1/29/2019  13:46      Ewallet   40.35                 4.761905   \n",
       "996   3/2/2019  17:16      Ewallet  973.80                 4.761905   \n",
       "997   2/9/2019  13:22         Cash   31.84                 4.761905   \n",
       "998  2/22/2019  15:33         Cash   65.82                 4.761905   \n",
       "999  2/18/2019  13:28         Cash  618.38                 4.761905   \n",
       "\n",
       "     gross income  Rating  \n",
       "0         26.1415     9.1  \n",
       "1          3.8200     9.6  \n",
       "2         16.2155     7.4  \n",
       "3         23.2880     8.4  \n",
       "4         30.2085     5.3  \n",
       "..            ...     ...  \n",
       "995        2.0175     6.2  \n",
       "996       48.6900     4.4  \n",
       "997        1.5920     7.7  \n",
       "998        3.2910     4.1  \n",
       "999       30.9190     6.6  \n",
       "\n",
       "[1000 rows x 17 columns]"
      ]
     },
     "execution_count": 2,
     "metadata": {},
     "output_type": "execute_result"
    }
   ],
   "source": [
    "df = pd.read_csv(\"/kaggle/input/supermarket-sales/supermarket_sales - Sheet1.csv\")\n",
    "df"
   ]
  },
  {
   "cell_type": "markdown",
   "id": "b2bf9d6b",
   "metadata": {
    "papermill": {
     "duration": 0.007043,
     "end_time": "2022-06-28T04:21:54.523679",
     "exception": false,
     "start_time": "2022-06-28T04:21:54.516636",
     "status": "completed"
    },
    "tags": []
   },
   "source": [
    "## Exploratory Data Analysis"
   ]
  },
  {
   "cell_type": "code",
   "execution_count": 3,
   "id": "37689450",
   "metadata": {
    "collapsed": true,
    "execution": {
     "iopub.execute_input": "2022-06-28T04:21:54.541668Z",
     "iopub.status.busy": "2022-06-28T04:21:54.540582Z",
     "iopub.status.idle": "2022-06-28T04:21:54.552183Z",
     "shell.execute_reply": "2022-06-28T04:21:54.551263Z"
    },
    "jupyter": {
     "outputs_hidden": true
    },
    "papermill": {
     "duration": 0.022932,
     "end_time": "2022-06-28T04:21:54.554448",
     "exception": false,
     "start_time": "2022-06-28T04:21:54.531516",
     "status": "completed"
    },
    "tags": []
   },
   "outputs": [],
   "source": [
    "df.set_index('Invoice ID', inplace=True)\n"
   ]
  },
  {
   "cell_type": "code",
   "execution_count": 4,
   "id": "57159e42",
   "metadata": {
    "collapsed": true,
    "execution": {
     "iopub.execute_input": "2022-06-28T04:21:54.571411Z",
     "iopub.status.busy": "2022-06-28T04:21:54.570777Z",
     "iopub.status.idle": "2022-06-28T04:21:54.592840Z",
     "shell.execute_reply": "2022-06-28T04:21:54.591625Z"
    },
    "jupyter": {
     "outputs_hidden": true
    },
    "papermill": {
     "duration": 0.033424,
     "end_time": "2022-06-28T04:21:54.595285",
     "exception": false,
     "start_time": "2022-06-28T04:21:54.561861",
     "status": "completed"
    },
    "tags": []
   },
   "outputs": [
    {
     "data": {
      "text/html": [
       "<div>\n",
       "<style scoped>\n",
       "    .dataframe tbody tr th:only-of-type {\n",
       "        vertical-align: middle;\n",
       "    }\n",
       "\n",
       "    .dataframe tbody tr th {\n",
       "        vertical-align: top;\n",
       "    }\n",
       "\n",
       "    .dataframe thead th {\n",
       "        text-align: right;\n",
       "    }\n",
       "</style>\n",
       "<table border=\"1\" class=\"dataframe\">\n",
       "  <thead>\n",
       "    <tr style=\"text-align: right;\">\n",
       "      <th></th>\n",
       "      <th>Branch</th>\n",
       "      <th>City</th>\n",
       "      <th>Customer type</th>\n",
       "      <th>Gender</th>\n",
       "      <th>Product line</th>\n",
       "      <th>Unit price</th>\n",
       "      <th>Quantity</th>\n",
       "      <th>Tax 5%</th>\n",
       "      <th>Total</th>\n",
       "      <th>Date</th>\n",
       "      <th>Time</th>\n",
       "      <th>Payment</th>\n",
       "      <th>cogs</th>\n",
       "      <th>gross margin percentage</th>\n",
       "      <th>gross income</th>\n",
       "      <th>Rating</th>\n",
       "    </tr>\n",
       "    <tr>\n",
       "      <th>Invoice ID</th>\n",
       "      <th></th>\n",
       "      <th></th>\n",
       "      <th></th>\n",
       "      <th></th>\n",
       "      <th></th>\n",
       "      <th></th>\n",
       "      <th></th>\n",
       "      <th></th>\n",
       "      <th></th>\n",
       "      <th></th>\n",
       "      <th></th>\n",
       "      <th></th>\n",
       "      <th></th>\n",
       "      <th></th>\n",
       "      <th></th>\n",
       "      <th></th>\n",
       "    </tr>\n",
       "  </thead>\n",
       "  <tbody>\n",
       "    <tr>\n",
       "      <th>750-67-8428</th>\n",
       "      <td>A</td>\n",
       "      <td>Yangon</td>\n",
       "      <td>Member</td>\n",
       "      <td>Female</td>\n",
       "      <td>Health and beauty</td>\n",
       "      <td>74.69</td>\n",
       "      <td>7</td>\n",
       "      <td>26.1415</td>\n",
       "      <td>548.9715</td>\n",
       "      <td>1/5/2019</td>\n",
       "      <td>13:08</td>\n",
       "      <td>Ewallet</td>\n",
       "      <td>522.83</td>\n",
       "      <td>4.761905</td>\n",
       "      <td>26.1415</td>\n",
       "      <td>9.1</td>\n",
       "    </tr>\n",
       "    <tr>\n",
       "      <th>226-31-3081</th>\n",
       "      <td>C</td>\n",
       "      <td>Naypyitaw</td>\n",
       "      <td>Normal</td>\n",
       "      <td>Female</td>\n",
       "      <td>Electronic accessories</td>\n",
       "      <td>15.28</td>\n",
       "      <td>5</td>\n",
       "      <td>3.8200</td>\n",
       "      <td>80.2200</td>\n",
       "      <td>3/8/2019</td>\n",
       "      <td>10:29</td>\n",
       "      <td>Cash</td>\n",
       "      <td>76.40</td>\n",
       "      <td>4.761905</td>\n",
       "      <td>3.8200</td>\n",
       "      <td>9.6</td>\n",
       "    </tr>\n",
       "    <tr>\n",
       "      <th>631-41-3108</th>\n",
       "      <td>A</td>\n",
       "      <td>Yangon</td>\n",
       "      <td>Normal</td>\n",
       "      <td>Male</td>\n",
       "      <td>Home and lifestyle</td>\n",
       "      <td>46.33</td>\n",
       "      <td>7</td>\n",
       "      <td>16.2155</td>\n",
       "      <td>340.5255</td>\n",
       "      <td>3/3/2019</td>\n",
       "      <td>13:23</td>\n",
       "      <td>Credit card</td>\n",
       "      <td>324.31</td>\n",
       "      <td>4.761905</td>\n",
       "      <td>16.2155</td>\n",
       "      <td>7.4</td>\n",
       "    </tr>\n",
       "    <tr>\n",
       "      <th>123-19-1176</th>\n",
       "      <td>A</td>\n",
       "      <td>Yangon</td>\n",
       "      <td>Member</td>\n",
       "      <td>Male</td>\n",
       "      <td>Health and beauty</td>\n",
       "      <td>58.22</td>\n",
       "      <td>8</td>\n",
       "      <td>23.2880</td>\n",
       "      <td>489.0480</td>\n",
       "      <td>1/27/2019</td>\n",
       "      <td>20:33</td>\n",
       "      <td>Ewallet</td>\n",
       "      <td>465.76</td>\n",
       "      <td>4.761905</td>\n",
       "      <td>23.2880</td>\n",
       "      <td>8.4</td>\n",
       "    </tr>\n",
       "    <tr>\n",
       "      <th>373-73-7910</th>\n",
       "      <td>A</td>\n",
       "      <td>Yangon</td>\n",
       "      <td>Normal</td>\n",
       "      <td>Male</td>\n",
       "      <td>Sports and travel</td>\n",
       "      <td>86.31</td>\n",
       "      <td>7</td>\n",
       "      <td>30.2085</td>\n",
       "      <td>634.3785</td>\n",
       "      <td>2/8/2019</td>\n",
       "      <td>10:37</td>\n",
       "      <td>Ewallet</td>\n",
       "      <td>604.17</td>\n",
       "      <td>4.761905</td>\n",
       "      <td>30.2085</td>\n",
       "      <td>5.3</td>\n",
       "    </tr>\n",
       "    <tr>\n",
       "      <th>699-14-3026</th>\n",
       "      <td>C</td>\n",
       "      <td>Naypyitaw</td>\n",
       "      <td>Normal</td>\n",
       "      <td>Male</td>\n",
       "      <td>Electronic accessories</td>\n",
       "      <td>85.39</td>\n",
       "      <td>7</td>\n",
       "      <td>29.8865</td>\n",
       "      <td>627.6165</td>\n",
       "      <td>3/25/2019</td>\n",
       "      <td>18:30</td>\n",
       "      <td>Ewallet</td>\n",
       "      <td>597.73</td>\n",
       "      <td>4.761905</td>\n",
       "      <td>29.8865</td>\n",
       "      <td>4.1</td>\n",
       "    </tr>\n",
       "    <tr>\n",
       "      <th>355-53-5943</th>\n",
       "      <td>A</td>\n",
       "      <td>Yangon</td>\n",
       "      <td>Member</td>\n",
       "      <td>Female</td>\n",
       "      <td>Electronic accessories</td>\n",
       "      <td>68.84</td>\n",
       "      <td>6</td>\n",
       "      <td>20.6520</td>\n",
       "      <td>433.6920</td>\n",
       "      <td>2/25/2019</td>\n",
       "      <td>14:36</td>\n",
       "      <td>Ewallet</td>\n",
       "      <td>413.04</td>\n",
       "      <td>4.761905</td>\n",
       "      <td>20.6520</td>\n",
       "      <td>5.8</td>\n",
       "    </tr>\n",
       "    <tr>\n",
       "      <th>315-22-5665</th>\n",
       "      <td>C</td>\n",
       "      <td>Naypyitaw</td>\n",
       "      <td>Normal</td>\n",
       "      <td>Female</td>\n",
       "      <td>Home and lifestyle</td>\n",
       "      <td>73.56</td>\n",
       "      <td>10</td>\n",
       "      <td>36.7800</td>\n",
       "      <td>772.3800</td>\n",
       "      <td>2/24/2019</td>\n",
       "      <td>11:38</td>\n",
       "      <td>Ewallet</td>\n",
       "      <td>735.60</td>\n",
       "      <td>4.761905</td>\n",
       "      <td>36.7800</td>\n",
       "      <td>8.0</td>\n",
       "    </tr>\n",
       "    <tr>\n",
       "      <th>665-32-9167</th>\n",
       "      <td>A</td>\n",
       "      <td>Yangon</td>\n",
       "      <td>Member</td>\n",
       "      <td>Female</td>\n",
       "      <td>Health and beauty</td>\n",
       "      <td>36.26</td>\n",
       "      <td>2</td>\n",
       "      <td>3.6260</td>\n",
       "      <td>76.1460</td>\n",
       "      <td>1/10/2019</td>\n",
       "      <td>17:15</td>\n",
       "      <td>Credit card</td>\n",
       "      <td>72.52</td>\n",
       "      <td>4.761905</td>\n",
       "      <td>3.6260</td>\n",
       "      <td>7.2</td>\n",
       "    </tr>\n",
       "    <tr>\n",
       "      <th>692-92-5582</th>\n",
       "      <td>B</td>\n",
       "      <td>Mandalay</td>\n",
       "      <td>Member</td>\n",
       "      <td>Female</td>\n",
       "      <td>Food and beverages</td>\n",
       "      <td>54.84</td>\n",
       "      <td>3</td>\n",
       "      <td>8.2260</td>\n",
       "      <td>172.7460</td>\n",
       "      <td>2/20/2019</td>\n",
       "      <td>13:27</td>\n",
       "      <td>Credit card</td>\n",
       "      <td>164.52</td>\n",
       "      <td>4.761905</td>\n",
       "      <td>8.2260</td>\n",
       "      <td>5.9</td>\n",
       "    </tr>\n",
       "  </tbody>\n",
       "</table>\n",
       "</div>"
      ],
      "text/plain": [
       "            Branch       City Customer type  Gender            Product line  \\\n",
       "Invoice ID                                                                    \n",
       "750-67-8428      A     Yangon        Member  Female       Health and beauty   \n",
       "226-31-3081      C  Naypyitaw        Normal  Female  Electronic accessories   \n",
       "631-41-3108      A     Yangon        Normal    Male      Home and lifestyle   \n",
       "123-19-1176      A     Yangon        Member    Male       Health and beauty   \n",
       "373-73-7910      A     Yangon        Normal    Male       Sports and travel   \n",
       "699-14-3026      C  Naypyitaw        Normal    Male  Electronic accessories   \n",
       "355-53-5943      A     Yangon        Member  Female  Electronic accessories   \n",
       "315-22-5665      C  Naypyitaw        Normal  Female      Home and lifestyle   \n",
       "665-32-9167      A     Yangon        Member  Female       Health and beauty   \n",
       "692-92-5582      B   Mandalay        Member  Female      Food and beverages   \n",
       "\n",
       "             Unit price  Quantity   Tax 5%     Total       Date   Time  \\\n",
       "Invoice ID                                                               \n",
       "750-67-8428       74.69         7  26.1415  548.9715   1/5/2019  13:08   \n",
       "226-31-3081       15.28         5   3.8200   80.2200   3/8/2019  10:29   \n",
       "631-41-3108       46.33         7  16.2155  340.5255   3/3/2019  13:23   \n",
       "123-19-1176       58.22         8  23.2880  489.0480  1/27/2019  20:33   \n",
       "373-73-7910       86.31         7  30.2085  634.3785   2/8/2019  10:37   \n",
       "699-14-3026       85.39         7  29.8865  627.6165  3/25/2019  18:30   \n",
       "355-53-5943       68.84         6  20.6520  433.6920  2/25/2019  14:36   \n",
       "315-22-5665       73.56        10  36.7800  772.3800  2/24/2019  11:38   \n",
       "665-32-9167       36.26         2   3.6260   76.1460  1/10/2019  17:15   \n",
       "692-92-5582       54.84         3   8.2260  172.7460  2/20/2019  13:27   \n",
       "\n",
       "                 Payment    cogs  gross margin percentage  gross income  \\\n",
       "Invoice ID                                                                \n",
       "750-67-8428      Ewallet  522.83                 4.761905       26.1415   \n",
       "226-31-3081         Cash   76.40                 4.761905        3.8200   \n",
       "631-41-3108  Credit card  324.31                 4.761905       16.2155   \n",
       "123-19-1176      Ewallet  465.76                 4.761905       23.2880   \n",
       "373-73-7910      Ewallet  604.17                 4.761905       30.2085   \n",
       "699-14-3026      Ewallet  597.73                 4.761905       29.8865   \n",
       "355-53-5943      Ewallet  413.04                 4.761905       20.6520   \n",
       "315-22-5665      Ewallet  735.60                 4.761905       36.7800   \n",
       "665-32-9167  Credit card   72.52                 4.761905        3.6260   \n",
       "692-92-5582  Credit card  164.52                 4.761905        8.2260   \n",
       "\n",
       "             Rating  \n",
       "Invoice ID           \n",
       "750-67-8428     9.1  \n",
       "226-31-3081     9.6  \n",
       "631-41-3108     7.4  \n",
       "123-19-1176     8.4  \n",
       "373-73-7910     5.3  \n",
       "699-14-3026     4.1  \n",
       "355-53-5943     5.8  \n",
       "315-22-5665     8.0  \n",
       "665-32-9167     7.2  \n",
       "692-92-5582     5.9  "
      ]
     },
     "execution_count": 4,
     "metadata": {},
     "output_type": "execute_result"
    }
   ],
   "source": [
    "df.head(10)"
   ]
  },
  {
   "cell_type": "code",
   "execution_count": 5,
   "id": "78c72dc1",
   "metadata": {
    "execution": {
     "iopub.execute_input": "2022-06-28T04:21:54.613621Z",
     "iopub.status.busy": "2022-06-28T04:21:54.612939Z",
     "iopub.status.idle": "2022-06-28T04:21:54.620148Z",
     "shell.execute_reply": "2022-06-28T04:21:54.618807Z"
    },
    "papermill": {
     "duration": 0.019494,
     "end_time": "2022-06-28T04:21:54.622467",
     "exception": false,
     "start_time": "2022-06-28T04:21:54.602973",
     "status": "completed"
    },
    "tags": []
   },
   "outputs": [
    {
     "data": {
      "text/plain": [
       "(1000, 16)"
      ]
     },
     "execution_count": 5,
     "metadata": {},
     "output_type": "execute_result"
    }
   ],
   "source": [
    "df.shape"
   ]
  },
  {
   "cell_type": "markdown",
   "id": "8115f0d4",
   "metadata": {
    "papermill": {
     "duration": 0.007521,
     "end_time": "2022-06-28T04:21:54.637905",
     "exception": false,
     "start_time": "2022-06-28T04:21:54.630384",
     "status": "completed"
    },
    "tags": []
   },
   "source": [
    " ### so i split data to seperate branches to evaluate branches and select best branches to analysis it"
   ]
  },
  {
   "cell_type": "code",
   "execution_count": 6,
   "id": "11d127fe",
   "metadata": {
    "collapsed": true,
    "execution": {
     "iopub.execute_input": "2022-06-28T04:21:54.655305Z",
     "iopub.status.busy": "2022-06-28T04:21:54.654819Z",
     "iopub.status.idle": "2022-06-28T04:21:54.663596Z",
     "shell.execute_reply": "2022-06-28T04:21:54.662418Z"
    },
    "jupyter": {
     "outputs_hidden": true
    },
    "papermill": {
     "duration": 0.02032,
     "end_time": "2022-06-28T04:21:54.665941",
     "exception": false,
     "start_time": "2022-06-28T04:21:54.645621",
     "status": "completed"
    },
    "tags": []
   },
   "outputs": [
    {
     "data": {
      "text/plain": [
       "<pandas.core.groupby.generic.DataFrameGroupBy object at 0x7f6a00e2a0d0>"
      ]
     },
     "execution_count": 6,
     "metadata": {},
     "output_type": "execute_result"
    }
   ],
   "source": [
    "g=df.groupby('Branch')\n",
    "g"
   ]
  },
  {
   "cell_type": "code",
   "execution_count": 7,
   "id": "7eb95777",
   "metadata": {
    "collapsed": true,
    "execution": {
     "iopub.execute_input": "2022-06-28T04:21:54.684772Z",
     "iopub.status.busy": "2022-06-28T04:21:54.683814Z",
     "iopub.status.idle": "2022-06-28T04:21:54.725051Z",
     "shell.execute_reply": "2022-06-28T04:21:54.724167Z"
    },
    "jupyter": {
     "outputs_hidden": true
    },
    "papermill": {
     "duration": 0.054247,
     "end_time": "2022-06-28T04:21:54.728293",
     "exception": false,
     "start_time": "2022-06-28T04:21:54.674046",
     "status": "completed"
    },
    "tags": []
   },
   "outputs": [
    {
     "name": "stdout",
     "output_type": "stream",
     "text": [
      "branch name : A\n",
      "--------------------------\n",
      "data:             Branch    City Customer type  Gender            Product line  \\\n",
      "Invoice ID                                                                 \n",
      "750-67-8428      A  Yangon        Member  Female       Health and beauty   \n",
      "631-41-3108      A  Yangon        Normal    Male      Home and lifestyle   \n",
      "123-19-1176      A  Yangon        Member    Male       Health and beauty   \n",
      "373-73-7910      A  Yangon        Normal    Male       Sports and travel   \n",
      "355-53-5943      A  Yangon        Member  Female  Electronic accessories   \n",
      "...            ...     ...           ...     ...                     ...   \n",
      "886-18-2897      A  Yangon        Normal  Female      Food and beverages   \n",
      "745-74-0715      A  Yangon        Normal    Male  Electronic accessories   \n",
      "727-02-1313      A  Yangon        Member    Male      Food and beverages   \n",
      "347-56-2442      A  Yangon        Normal    Male      Home and lifestyle   \n",
      "849-09-3807      A  Yangon        Member  Female     Fashion accessories   \n",
      "\n",
      "             Unit price  Quantity   Tax 5%     Total       Date   Time  \\\n",
      "Invoice ID                                                               \n",
      "750-67-8428       74.69         7  26.1415  548.9715   1/5/2019  13:08   \n",
      "631-41-3108       46.33         7  16.2155  340.5255   3/3/2019  13:23   \n",
      "123-19-1176       58.22         8  23.2880  489.0480  1/27/2019  20:33   \n",
      "373-73-7910       86.31         7  30.2085  634.3785   2/8/2019  10:37   \n",
      "355-53-5943       68.84         6  20.6520  433.6920  2/25/2019  14:36   \n",
      "...                 ...       ...      ...       ...        ...    ...   \n",
      "886-18-2897       56.56         5  14.1400  296.9400  3/22/2019  19:06   \n",
      "745-74-0715       58.03         2   5.8030  121.8630  3/10/2019  20:46   \n",
      "727-02-1313       31.84         1   1.5920   33.4320   2/9/2019  13:22   \n",
      "347-56-2442       65.82         1   3.2910   69.1110  2/22/2019  15:33   \n",
      "849-09-3807       88.34         7  30.9190  649.2990  2/18/2019  13:28   \n",
      "\n",
      "                 Payment    cogs  gross margin percentage  gross income  \\\n",
      "Invoice ID                                                                \n",
      "750-67-8428      Ewallet  522.83                 4.761905       26.1415   \n",
      "631-41-3108  Credit card  324.31                 4.761905       16.2155   \n",
      "123-19-1176      Ewallet  465.76                 4.761905       23.2880   \n",
      "373-73-7910      Ewallet  604.17                 4.761905       30.2085   \n",
      "355-53-5943      Ewallet  413.04                 4.761905       20.6520   \n",
      "...                  ...     ...                      ...           ...   \n",
      "886-18-2897  Credit card  282.80                 4.761905       14.1400   \n",
      "745-74-0715      Ewallet  116.06                 4.761905        5.8030   \n",
      "727-02-1313         Cash   31.84                 4.761905        1.5920   \n",
      "347-56-2442         Cash   65.82                 4.761905        3.2910   \n",
      "849-09-3807         Cash  618.38                 4.761905       30.9190   \n",
      "\n",
      "             Rating  \n",
      "Invoice ID           \n",
      "750-67-8428     9.1  \n",
      "631-41-3108     7.4  \n",
      "123-19-1176     8.4  \n",
      "373-73-7910     5.3  \n",
      "355-53-5943     5.8  \n",
      "...             ...  \n",
      "886-18-2897     4.5  \n",
      "745-74-0715     8.8  \n",
      "727-02-1313     7.7  \n",
      "347-56-2442     4.1  \n",
      "849-09-3807     6.6  \n",
      "\n",
      "[340 rows x 16 columns]\n",
      "branch name : B\n",
      "--------------------------\n",
      "data:             Branch      City Customer type  Gender            Product line  \\\n",
      "Invoice ID                                                                   \n",
      "692-92-5582      B  Mandalay        Member  Female      Food and beverages   \n",
      "351-62-0822      B  Mandalay        Member  Female     Fashion accessories   \n",
      "529-56-3974      B  Mandalay        Member    Male  Electronic accessories   \n",
      "299-46-1805      B  Mandalay        Member  Female       Sports and travel   \n",
      "319-50-3348      B  Mandalay        Normal  Female      Home and lifestyle   \n",
      "...            ...       ...           ...     ...                     ...   \n",
      "552-44-5977      B  Mandalay        Member    Male       Health and beauty   \n",
      "430-53-4718      B  Mandalay        Member    Male       Health and beauty   \n",
      "602-16-6955      B  Mandalay        Normal  Female       Sports and travel   \n",
      "690-01-6631      B  Mandalay        Normal    Male     Fashion accessories   \n",
      "303-96-2227      B  Mandalay        Normal  Female      Home and lifestyle   \n",
      "\n",
      "             Unit price  Quantity  Tax 5%     Total       Date   Time  \\\n",
      "Invoice ID                                                              \n",
      "692-92-5582       54.84         3   8.226   172.746  2/20/2019  13:27   \n",
      "351-62-0822       14.48         4   2.896    60.816   2/6/2019  18:07   \n",
      "529-56-3974       25.51         4   5.102   107.142   3/9/2019  17:03   \n",
      "299-46-1805       93.72         6  28.116   590.436  1/15/2019  16:19   \n",
      "319-50-3348       40.30         2   4.030    84.630  3/11/2019  15:30   \n",
      "...                 ...       ...     ...       ...        ...    ...   \n",
      "552-44-5977       62.00         8  24.800   520.800   1/3/2019  19:08   \n",
      "430-53-4718       75.37         8  30.148   633.108  1/28/2019  15:46   \n",
      "602-16-6955       76.60        10  38.300   804.300  1/24/2019  18:10   \n",
      "690-01-6631       17.49        10   8.745   183.645  2/22/2019  18:35   \n",
      "303-96-2227       97.38        10  48.690  1022.490   3/2/2019  17:16   \n",
      "\n",
      "                 Payment    cogs  gross margin percentage  gross income  \\\n",
      "Invoice ID                                                                \n",
      "692-92-5582  Credit card  164.52                 4.761905         8.226   \n",
      "351-62-0822      Ewallet   57.92                 4.761905         2.896   \n",
      "529-56-3974         Cash  102.04                 4.761905         5.102   \n",
      "299-46-1805         Cash  562.32                 4.761905        28.116   \n",
      "319-50-3348      Ewallet   80.60                 4.761905         4.030   \n",
      "...                  ...     ...                      ...           ...   \n",
      "552-44-5977  Credit card  496.00                 4.761905        24.800   \n",
      "430-53-4718  Credit card  602.96                 4.761905        30.148   \n",
      "602-16-6955      Ewallet  766.00                 4.761905        38.300   \n",
      "690-01-6631      Ewallet  174.90                 4.761905         8.745   \n",
      "303-96-2227      Ewallet  973.80                 4.761905        48.690   \n",
      "\n",
      "             Rating  \n",
      "Invoice ID           \n",
      "692-92-5582     5.9  \n",
      "351-62-0822     4.5  \n",
      "529-56-3974     6.8  \n",
      "299-46-1805     4.5  \n",
      "319-50-3348     4.4  \n",
      "...             ...  \n",
      "552-44-5977     6.2  \n",
      "430-53-4718     8.4  \n",
      "602-16-6955     6.0  \n",
      "690-01-6631     6.6  \n",
      "303-96-2227     4.4  \n",
      "\n",
      "[332 rows x 16 columns]\n",
      "branch name : C\n",
      "--------------------------\n",
      "data:             Branch       City Customer type  Gender            Product line  \\\n",
      "Invoice ID                                                                    \n",
      "226-31-3081      C  Naypyitaw        Normal  Female  Electronic accessories   \n",
      "699-14-3026      C  Naypyitaw        Normal    Male  Electronic accessories   \n",
      "315-22-5665      C  Naypyitaw        Normal  Female      Home and lifestyle   \n",
      "300-71-4605      C  Naypyitaw        Member    Male  Electronic accessories   \n",
      "183-56-6882      C  Naypyitaw        Member  Female      Food and beverages   \n",
      "...            ...        ...           ...     ...                     ...   \n",
      "148-41-7930      C  Naypyitaw        Normal    Male       Health and beauty   \n",
      "189-40-5216      C  Naypyitaw        Normal    Male  Electronic accessories   \n",
      "267-62-7380      C  Naypyitaw        Member    Male  Electronic accessories   \n",
      "652-49-6720      C  Naypyitaw        Member  Female  Electronic accessories   \n",
      "233-67-5758      C  Naypyitaw        Normal    Male       Health and beauty   \n",
      "\n",
      "             Unit price  Quantity   Tax 5%     Total       Date   Time  \\\n",
      "Invoice ID                                                               \n",
      "226-31-3081       15.28         5   3.8200   80.2200   3/8/2019  10:29   \n",
      "699-14-3026       85.39         7  29.8865  627.6165  3/25/2019  18:30   \n",
      "315-22-5665       73.56        10  36.7800  772.3800  2/24/2019  11:38   \n",
      "300-71-4605       86.04         5  21.5100  451.7100  2/25/2019  11:24   \n",
      "183-56-6882       99.42         4  19.8840  417.5640   2/6/2019  10:42   \n",
      "...                 ...       ...      ...       ...        ...    ...   \n",
      "148-41-7930       99.96         7  34.9860  734.7060  1/23/2019  10:33   \n",
      "189-40-5216       96.37         7  33.7295  708.3195   1/9/2019  11:40   \n",
      "267-62-7380       82.34        10  41.1700  864.5700  3/29/2019  19:12   \n",
      "652-49-6720       60.95         1   3.0475   63.9975  2/18/2019  11:40   \n",
      "233-67-5758       40.35         1   2.0175   42.3675  1/29/2019  13:46   \n",
      "\n",
      "             Payment    cogs  gross margin percentage  gross income  Rating  \n",
      "Invoice ID                                                                   \n",
      "226-31-3081     Cash   76.40                 4.761905        3.8200     9.6  \n",
      "699-14-3026  Ewallet  597.73                 4.761905       29.8865     4.1  \n",
      "315-22-5665  Ewallet  735.60                 4.761905       36.7800     8.0  \n",
      "300-71-4605  Ewallet  430.20                 4.761905       21.5100     4.8  \n",
      "183-56-6882  Ewallet  397.68                 4.761905       19.8840     7.5  \n",
      "...              ...     ...                      ...           ...     ...  \n",
      "148-41-7930     Cash  699.72                 4.761905       34.9860     6.1  \n",
      "189-40-5216     Cash  674.59                 4.761905       33.7295     6.0  \n",
      "267-62-7380  Ewallet  823.40                 4.761905       41.1700     4.3  \n",
      "652-49-6720  Ewallet   60.95                 4.761905        3.0475     5.9  \n",
      "233-67-5758  Ewallet   40.35                 4.761905        2.0175     6.2  \n",
      "\n",
      "[328 rows x 16 columns]\n"
     ]
    }
   ],
   "source": [
    "for branch,data in g:\n",
    "    print('branch name :', branch)\n",
    "    print('--------------------------')\n",
    "    print('data:',data)"
   ]
  },
  {
   "cell_type": "code",
   "execution_count": 8,
   "id": "ae750530",
   "metadata": {
    "execution": {
     "iopub.execute_input": "2022-06-28T04:21:54.748945Z",
     "iopub.status.busy": "2022-06-28T04:21:54.748228Z",
     "iopub.status.idle": "2022-06-28T04:21:54.767453Z",
     "shell.execute_reply": "2022-06-28T04:21:54.766493Z"
    },
    "papermill": {
     "duration": 0.030904,
     "end_time": "2022-06-28T04:21:54.769702",
     "exception": false,
     "start_time": "2022-06-28T04:21:54.738798",
     "status": "completed"
    },
    "tags": []
   },
   "outputs": [
    {
     "data": {
      "text/html": [
       "<div>\n",
       "<style scoped>\n",
       "    .dataframe tbody tr th:only-of-type {\n",
       "        vertical-align: middle;\n",
       "    }\n",
       "\n",
       "    .dataframe tbody tr th {\n",
       "        vertical-align: top;\n",
       "    }\n",
       "\n",
       "    .dataframe thead th {\n",
       "        text-align: right;\n",
       "    }\n",
       "</style>\n",
       "<table border=\"1\" class=\"dataframe\">\n",
       "  <thead>\n",
       "    <tr style=\"text-align: right;\">\n",
       "      <th></th>\n",
       "      <th>Branch</th>\n",
       "      <th>gross income</th>\n",
       "    </tr>\n",
       "  </thead>\n",
       "  <tbody>\n",
       "    <tr>\n",
       "      <th>0</th>\n",
       "      <td>A</td>\n",
       "      <td>14.874001</td>\n",
       "    </tr>\n",
       "    <tr>\n",
       "      <th>1</th>\n",
       "      <td>B</td>\n",
       "      <td>15.232024</td>\n",
       "    </tr>\n",
       "    <tr>\n",
       "      <th>2</th>\n",
       "      <td>C</td>\n",
       "      <td>16.052367</td>\n",
       "    </tr>\n",
       "  </tbody>\n",
       "</table>\n",
       "</div>"
      ],
      "text/plain": [
       "  Branch  gross income\n",
       "0      A     14.874001\n",
       "1      B     15.232024\n",
       "2      C     16.052367"
      ]
     },
     "execution_count": 8,
     "metadata": {},
     "output_type": "execute_result"
    }
   ],
   "source": [
    "g1=df.groupby('Branch')[['gross income']].mean().reset_index()\n",
    "g1"
   ]
  },
  {
   "cell_type": "code",
   "execution_count": 9,
   "id": "8265ddf4",
   "metadata": {
    "execution": {
     "iopub.execute_input": "2022-06-28T04:21:54.788088Z",
     "iopub.status.busy": "2022-06-28T04:21:54.787500Z",
     "iopub.status.idle": "2022-06-28T04:21:54.799980Z",
     "shell.execute_reply": "2022-06-28T04:21:54.798616Z"
    },
    "papermill": {
     "duration": 0.02428,
     "end_time": "2022-06-28T04:21:54.802247",
     "exception": false,
     "start_time": "2022-06-28T04:21:54.777967",
     "status": "completed"
    },
    "tags": []
   },
   "outputs": [
    {
     "data": {
      "text/html": [
       "<div>\n",
       "<style scoped>\n",
       "    .dataframe tbody tr th:only-of-type {\n",
       "        vertical-align: middle;\n",
       "    }\n",
       "\n",
       "    .dataframe tbody tr th {\n",
       "        vertical-align: top;\n",
       "    }\n",
       "\n",
       "    .dataframe thead th {\n",
       "        text-align: right;\n",
       "    }\n",
       "</style>\n",
       "<table border=\"1\" class=\"dataframe\">\n",
       "  <thead>\n",
       "    <tr style=\"text-align: right;\">\n",
       "      <th></th>\n",
       "      <th>Branch</th>\n",
       "      <th>Rating</th>\n",
       "    </tr>\n",
       "  </thead>\n",
       "  <tbody>\n",
       "    <tr>\n",
       "      <th>0</th>\n",
       "      <td>A</td>\n",
       "      <td>7.027059</td>\n",
       "    </tr>\n",
       "    <tr>\n",
       "      <th>1</th>\n",
       "      <td>B</td>\n",
       "      <td>6.818072</td>\n",
       "    </tr>\n",
       "    <tr>\n",
       "      <th>2</th>\n",
       "      <td>C</td>\n",
       "      <td>7.072866</td>\n",
       "    </tr>\n",
       "  </tbody>\n",
       "</table>\n",
       "</div>"
      ],
      "text/plain": [
       "  Branch    Rating\n",
       "0      A  7.027059\n",
       "1      B  6.818072\n",
       "2      C  7.072866"
      ]
     },
     "execution_count": 9,
     "metadata": {},
     "output_type": "execute_result"
    }
   ],
   "source": [
    "g1=df.groupby('Branch')[['Rating']].mean().reset_index()\n",
    "g1"
   ]
  },
  {
   "cell_type": "markdown",
   "id": "be3dd7f1",
   "metadata": {
    "papermill": {
     "duration": 0.008332,
     "end_time": "2022-06-28T04:21:54.819736",
     "exception": false,
     "start_time": "2022-06-28T04:21:54.811404",
     "status": "completed"
    },
    "tags": []
   },
   "source": [
    "### so the branch c is the most branch have a high gross income and high rating so we select this branch to analysis it"
   ]
  },
  {
   "cell_type": "markdown",
   "id": "ab5b2f34",
   "metadata": {
    "papermill": {
     "duration": 0.007867,
     "end_time": "2022-06-28T04:21:54.836188",
     "exception": false,
     "start_time": "2022-06-28T04:21:54.828321",
     "status": "completed"
    },
    "tags": []
   },
   "source": []
  },
  {
   "cell_type": "markdown",
   "id": "77e7664d",
   "metadata": {
    "papermill": {
     "duration": 0.007858,
     "end_time": "2022-06-28T04:21:54.852458",
     "exception": false,
     "start_time": "2022-06-28T04:21:54.844600",
     "status": "completed"
    },
    "tags": []
   },
   "source": [
    "### create dataframe to branch c"
   ]
  },
  {
   "cell_type": "code",
   "execution_count": 10,
   "id": "99c8c6b5",
   "metadata": {
    "execution": {
     "iopub.execute_input": "2022-06-28T04:21:54.871948Z",
     "iopub.status.busy": "2022-06-28T04:21:54.871341Z",
     "iopub.status.idle": "2022-06-28T04:21:54.876629Z",
     "shell.execute_reply": "2022-06-28T04:21:54.875564Z"
    },
    "papermill": {
     "duration": 0.017488,
     "end_time": "2022-06-28T04:21:54.878979",
     "exception": false,
     "start_time": "2022-06-28T04:21:54.861491",
     "status": "completed"
    },
    "tags": []
   },
   "outputs": [],
   "source": [
    "x=g.get_group('C')"
   ]
  },
  {
   "cell_type": "code",
   "execution_count": 11,
   "id": "5c080153",
   "metadata": {
    "execution": {
     "iopub.execute_input": "2022-06-28T04:21:54.899296Z",
     "iopub.status.busy": "2022-06-28T04:21:54.898344Z",
     "iopub.status.idle": "2022-06-28T04:21:54.903044Z",
     "shell.execute_reply": "2022-06-28T04:21:54.902211Z"
    },
    "papermill": {
     "duration": 0.017273,
     "end_time": "2022-06-28T04:21:54.905313",
     "exception": false,
     "start_time": "2022-06-28T04:21:54.888040",
     "status": "completed"
    },
    "tags": []
   },
   "outputs": [],
   "source": [
    "branch_C=pd.DataFrame(x)"
   ]
  },
  {
   "cell_type": "code",
   "execution_count": 12,
   "id": "25457c86",
   "metadata": {
    "execution": {
     "iopub.execute_input": "2022-06-28T04:21:54.924896Z",
     "iopub.status.busy": "2022-06-28T04:21:54.924501Z",
     "iopub.status.idle": "2022-06-28T04:21:54.960466Z",
     "shell.execute_reply": "2022-06-28T04:21:54.959483Z"
    },
    "papermill": {
     "duration": 0.048914,
     "end_time": "2022-06-28T04:21:54.962635",
     "exception": false,
     "start_time": "2022-06-28T04:21:54.913721",
     "status": "completed"
    },
    "tags": []
   },
   "outputs": [
    {
     "data": {
      "text/html": [
       "<div>\n",
       "<style scoped>\n",
       "    .dataframe tbody tr th:only-of-type {\n",
       "        vertical-align: middle;\n",
       "    }\n",
       "\n",
       "    .dataframe tbody tr th {\n",
       "        vertical-align: top;\n",
       "    }\n",
       "\n",
       "    .dataframe thead th {\n",
       "        text-align: right;\n",
       "    }\n",
       "</style>\n",
       "<table border=\"1\" class=\"dataframe\">\n",
       "  <thead>\n",
       "    <tr style=\"text-align: right;\">\n",
       "      <th></th>\n",
       "      <th>Unit price</th>\n",
       "      <th>Quantity</th>\n",
       "      <th>Tax 5%</th>\n",
       "      <th>Total</th>\n",
       "      <th>cogs</th>\n",
       "      <th>gross margin percentage</th>\n",
       "      <th>gross income</th>\n",
       "      <th>Rating</th>\n",
       "    </tr>\n",
       "  </thead>\n",
       "  <tbody>\n",
       "    <tr>\n",
       "      <th>count</th>\n",
       "      <td>328.000000</td>\n",
       "      <td>328.000000</td>\n",
       "      <td>328.000000</td>\n",
       "      <td>328.000000</td>\n",
       "      <td>328.000000</td>\n",
       "      <td>328.000000</td>\n",
       "      <td>328.000000</td>\n",
       "      <td>328.000000</td>\n",
       "    </tr>\n",
       "    <tr>\n",
       "      <th>mean</th>\n",
       "      <td>56.609024</td>\n",
       "      <td>5.582317</td>\n",
       "      <td>16.052367</td>\n",
       "      <td>337.099715</td>\n",
       "      <td>321.047348</td>\n",
       "      <td>4.761905</td>\n",
       "      <td>16.052367</td>\n",
       "      <td>7.072866</td>\n",
       "    </tr>\n",
       "    <tr>\n",
       "      <th>std</th>\n",
       "      <td>27.179799</td>\n",
       "      <td>3.021724</td>\n",
       "      <td>12.531470</td>\n",
       "      <td>263.160870</td>\n",
       "      <td>250.629400</td>\n",
       "      <td>0.000000</td>\n",
       "      <td>12.531470</td>\n",
       "      <td>1.704526</td>\n",
       "    </tr>\n",
       "    <tr>\n",
       "      <th>min</th>\n",
       "      <td>10.160000</td>\n",
       "      <td>1.000000</td>\n",
       "      <td>0.508500</td>\n",
       "      <td>10.678500</td>\n",
       "      <td>10.170000</td>\n",
       "      <td>4.761905</td>\n",
       "      <td>0.508500</td>\n",
       "      <td>4.000000</td>\n",
       "    </tr>\n",
       "    <tr>\n",
       "      <th>25%</th>\n",
       "      <td>33.767500</td>\n",
       "      <td>3.000000</td>\n",
       "      <td>5.784500</td>\n",
       "      <td>121.474500</td>\n",
       "      <td>115.690000</td>\n",
       "      <td>4.761905</td>\n",
       "      <td>5.784500</td>\n",
       "      <td>5.600000</td>\n",
       "    </tr>\n",
       "    <tr>\n",
       "      <th>50%</th>\n",
       "      <td>56.810000</td>\n",
       "      <td>6.000000</td>\n",
       "      <td>12.924750</td>\n",
       "      <td>271.419750</td>\n",
       "      <td>258.495000</td>\n",
       "      <td>4.761905</td>\n",
       "      <td>12.924750</td>\n",
       "      <td>7.100000</td>\n",
       "    </tr>\n",
       "    <tr>\n",
       "      <th>75%</th>\n",
       "      <td>81.552500</td>\n",
       "      <td>8.000000</td>\n",
       "      <td>23.607375</td>\n",
       "      <td>495.754875</td>\n",
       "      <td>472.147500</td>\n",
       "      <td>4.761905</td>\n",
       "      <td>23.607375</td>\n",
       "      <td>8.500000</td>\n",
       "    </tr>\n",
       "    <tr>\n",
       "      <th>max</th>\n",
       "      <td>99.960000</td>\n",
       "      <td>10.000000</td>\n",
       "      <td>49.650000</td>\n",
       "      <td>1042.650000</td>\n",
       "      <td>993.000000</td>\n",
       "      <td>4.761905</td>\n",
       "      <td>49.650000</td>\n",
       "      <td>10.000000</td>\n",
       "    </tr>\n",
       "  </tbody>\n",
       "</table>\n",
       "</div>"
      ],
      "text/plain": [
       "       Unit price    Quantity      Tax 5%        Total        cogs  \\\n",
       "count  328.000000  328.000000  328.000000   328.000000  328.000000   \n",
       "mean    56.609024    5.582317   16.052367   337.099715  321.047348   \n",
       "std     27.179799    3.021724   12.531470   263.160870  250.629400   \n",
       "min     10.160000    1.000000    0.508500    10.678500   10.170000   \n",
       "25%     33.767500    3.000000    5.784500   121.474500  115.690000   \n",
       "50%     56.810000    6.000000   12.924750   271.419750  258.495000   \n",
       "75%     81.552500    8.000000   23.607375   495.754875  472.147500   \n",
       "max     99.960000   10.000000   49.650000  1042.650000  993.000000   \n",
       "\n",
       "       gross margin percentage  gross income      Rating  \n",
       "count               328.000000    328.000000  328.000000  \n",
       "mean                  4.761905     16.052367    7.072866  \n",
       "std                   0.000000     12.531470    1.704526  \n",
       "min                   4.761905      0.508500    4.000000  \n",
       "25%                   4.761905      5.784500    5.600000  \n",
       "50%                   4.761905     12.924750    7.100000  \n",
       "75%                   4.761905     23.607375    8.500000  \n",
       "max                   4.761905     49.650000   10.000000  "
      ]
     },
     "execution_count": 12,
     "metadata": {},
     "output_type": "execute_result"
    }
   ],
   "source": [
    "branch_C.describe()\n"
   ]
  },
  {
   "cell_type": "markdown",
   "id": "5963c9b1",
   "metadata": {
    "papermill": {
     "duration": 0.008288,
     "end_time": "2022-06-28T04:21:54.980229",
     "exception": false,
     "start_time": "2022-06-28T04:21:54.971941",
     "status": "completed"
    },
    "tags": []
   },
   "source": [
    "### analysis branch c"
   ]
  },
  {
   "cell_type": "code",
   "execution_count": 13,
   "id": "a5852277",
   "metadata": {
    "execution": {
     "iopub.execute_input": "2022-06-28T04:21:54.999515Z",
     "iopub.status.busy": "2022-06-28T04:21:54.998859Z",
     "iopub.status.idle": "2022-06-28T04:21:55.006055Z",
     "shell.execute_reply": "2022-06-28T04:21:55.005213Z"
    },
    "papermill": {
     "duration": 0.020281,
     "end_time": "2022-06-28T04:21:55.008920",
     "exception": false,
     "start_time": "2022-06-28T04:21:54.988639",
     "status": "completed"
    },
    "tags": []
   },
   "outputs": [],
   "source": [
    "Customer_type=branch_C.groupby('Customer type')[['gross income']].mean().reset_index()"
   ]
  },
  {
   "cell_type": "code",
   "execution_count": 14,
   "id": "ca29907d",
   "metadata": {
    "execution": {
     "iopub.execute_input": "2022-06-28T04:21:55.028809Z",
     "iopub.status.busy": "2022-06-28T04:21:55.028236Z",
     "iopub.status.idle": "2022-06-28T04:21:55.037562Z",
     "shell.execute_reply": "2022-06-28T04:21:55.036628Z"
    },
    "papermill": {
     "duration": 0.022103,
     "end_time": "2022-06-28T04:21:55.039652",
     "exception": false,
     "start_time": "2022-06-28T04:21:55.017549",
     "status": "completed"
    },
    "tags": []
   },
   "outputs": [
    {
     "data": {
      "text/html": [
       "<div>\n",
       "<style scoped>\n",
       "    .dataframe tbody tr th:only-of-type {\n",
       "        vertical-align: middle;\n",
       "    }\n",
       "\n",
       "    .dataframe tbody tr th {\n",
       "        vertical-align: top;\n",
       "    }\n",
       "\n",
       "    .dataframe thead th {\n",
       "        text-align: right;\n",
       "    }\n",
       "</style>\n",
       "<table border=\"1\" class=\"dataframe\">\n",
       "  <thead>\n",
       "    <tr style=\"text-align: right;\">\n",
       "      <th></th>\n",
       "      <th>Customer type</th>\n",
       "      <th>gross income</th>\n",
       "    </tr>\n",
       "  </thead>\n",
       "  <tbody>\n",
       "    <tr>\n",
       "      <th>0</th>\n",
       "      <td>Member</td>\n",
       "      <td>16.027411</td>\n",
       "    </tr>\n",
       "    <tr>\n",
       "      <th>1</th>\n",
       "      <td>Normal</td>\n",
       "      <td>16.078893</td>\n",
       "    </tr>\n",
       "  </tbody>\n",
       "</table>\n",
       "</div>"
      ],
      "text/plain": [
       "  Customer type  gross income\n",
       "0        Member     16.027411\n",
       "1        Normal     16.078893"
      ]
     },
     "execution_count": 14,
     "metadata": {},
     "output_type": "execute_result"
    }
   ],
   "source": [
    "Customer_type"
   ]
  },
  {
   "cell_type": "code",
   "execution_count": 15,
   "id": "08f14eec",
   "metadata": {
    "execution": {
     "iopub.execute_input": "2022-06-28T04:21:55.060431Z",
     "iopub.status.busy": "2022-06-28T04:21:55.059863Z",
     "iopub.status.idle": "2022-06-28T04:21:55.267204Z",
     "shell.execute_reply": "2022-06-28T04:21:55.266084Z"
    },
    "papermill": {
     "duration": 0.220914,
     "end_time": "2022-06-28T04:21:55.269711",
     "exception": false,
     "start_time": "2022-06-28T04:21:55.048797",
     "status": "completed"
    },
    "tags": []
   },
   "outputs": [
    {
     "data": {
      "text/plain": [
       "<seaborn.axisgrid.FacetGrid at 0x7f6a027bd610>"
      ]
     },
     "execution_count": 15,
     "metadata": {},
     "output_type": "execute_result"
    },
    {
     "data": {
      "image/png": "[encoded data removed]",
      "text/plain": [
       "<Figure size 360x360 with 1 Axes>"
      ]
     },
     "metadata": {
      "needs_background": "light"
     },
     "output_type": "display_data"
    }
   ],
   "source": [
    "sns.catplot(x='Customer type',kind='count',data=branch_C)"
   ]
  },
  {
   "cell_type": "code",
   "execution_count": 16,
   "id": "ab2b7403",
   "metadata": {
    "execution": {
     "iopub.execute_input": "2022-06-28T04:21:55.290188Z",
     "iopub.status.busy": "2022-06-28T04:21:55.289489Z",
     "iopub.status.idle": "2022-06-28T04:21:55.524680Z",
     "shell.execute_reply": "2022-06-28T04:21:55.523748Z"
    },
    "papermill": {
     "duration": 0.247883,
     "end_time": "2022-06-28T04:21:55.526976",
     "exception": false,
     "start_time": "2022-06-28T04:21:55.279093",
     "status": "completed"
    },
    "tags": []
   },
   "outputs": [
    {
     "data": {
      "text/plain": [
       "<seaborn.axisgrid.FacetGrid at 0x7f6a00e2a490>"
      ]
     },
     "execution_count": 16,
     "metadata": {},
     "output_type": "execute_result"
    },
    {
     "data": {
      "image/png": "[encoded data removed]",
      "text/plain": [
       "<Figure size 360x360 with 1 Axes>"
      ]
     },
     "metadata": {
      "needs_background": "light"
     },
     "output_type": "display_data"
    }
   ],
   "source": [
    "sns.catplot(x='Payment',kind='count',data=branch_C)"
   ]
  },
  {
   "cell_type": "code",
   "execution_count": 17,
   "id": "5fee89d0",
   "metadata": {
    "execution": {
     "iopub.execute_input": "2022-06-28T04:21:55.548236Z",
     "iopub.status.busy": "2022-06-28T04:21:55.547521Z",
     "iopub.status.idle": "2022-06-28T04:21:55.837415Z",
     "shell.execute_reply": "2022-06-28T04:21:55.836415Z"
    },
    "papermill": {
     "duration": 0.303205,
     "end_time": "2022-06-28T04:21:55.839960",
     "exception": false,
     "start_time": "2022-06-28T04:21:55.536755",
     "status": "completed"
    },
    "tags": []
   },
   "outputs": [
    {
     "data": {
      "text/plain": [
       "<seaborn.axisgrid.FacetGrid at 0x7f69fecc19d0>"
      ]
     },
     "execution_count": 17,
     "metadata": {},
     "output_type": "execute_result"
    },
    {
     "data": {
      "image/png": "[encoded data removed]",
      "text/plain": [
       "<Figure size 441.5x360 with 1 Axes>"
      ]
     },
     "metadata": {
      "needs_background": "light"
     },
     "output_type": "display_data"
    }
   ],
   "source": [
    "sns.catplot(x='Gender',hue='Customer type',kind='count',data=branch_C)"
   ]
  },
  {
   "cell_type": "code",
   "execution_count": 18,
   "id": "e28de6e9",
   "metadata": {
    "execution": {
     "iopub.execute_input": "2022-06-28T04:21:55.861586Z",
     "iopub.status.busy": "2022-06-28T04:21:55.860511Z",
     "iopub.status.idle": "2022-06-28T04:21:55.874945Z",
     "shell.execute_reply": "2022-06-28T04:21:55.873947Z"
    },
    "papermill": {
     "duration": 0.027591,
     "end_time": "2022-06-28T04:21:55.877292",
     "exception": false,
     "start_time": "2022-06-28T04:21:55.849701",
     "status": "completed"
    },
    "tags": []
   },
   "outputs": [
    {
     "data": {
      "text/html": [
       "<div>\n",
       "<style scoped>\n",
       "    .dataframe tbody tr th:only-of-type {\n",
       "        vertical-align: middle;\n",
       "    }\n",
       "\n",
       "    .dataframe tbody tr th {\n",
       "        vertical-align: top;\n",
       "    }\n",
       "\n",
       "    .dataframe thead th {\n",
       "        text-align: right;\n",
       "    }\n",
       "</style>\n",
       "<table border=\"1\" class=\"dataframe\">\n",
       "  <thead>\n",
       "    <tr style=\"text-align: right;\">\n",
       "      <th></th>\n",
       "      <th>Product line</th>\n",
       "      <th>gross income</th>\n",
       "    </tr>\n",
       "  </thead>\n",
       "  <tbody>\n",
       "    <tr>\n",
       "      <th>0</th>\n",
       "      <td>Electronic accessories</td>\n",
       "      <td>16.423355</td>\n",
       "    </tr>\n",
       "    <tr>\n",
       "      <th>1</th>\n",
       "      <td>Fashion accessories</td>\n",
       "      <td>15.794923</td>\n",
       "    </tr>\n",
       "    <tr>\n",
       "      <th>2</th>\n",
       "      <td>Food and beverages</td>\n",
       "      <td>17.147803</td>\n",
       "    </tr>\n",
       "    <tr>\n",
       "      <th>3</th>\n",
       "      <td>Health and beauty</td>\n",
       "      <td>15.215500</td>\n",
       "    </tr>\n",
       "    <tr>\n",
       "      <th>4</th>\n",
       "      <td>Home and lifestyle</td>\n",
       "      <td>14.704289</td>\n",
       "    </tr>\n",
       "    <tr>\n",
       "      <th>5</th>\n",
       "      <td>Sports and travel</td>\n",
       "      <td>16.679289</td>\n",
       "    </tr>\n",
       "  </tbody>\n",
       "</table>\n",
       "</div>"
      ],
      "text/plain": [
       "             Product line  gross income\n",
       "0  Electronic accessories     16.423355\n",
       "1     Fashion accessories     15.794923\n",
       "2      Food and beverages     17.147803\n",
       "3       Health and beauty     15.215500\n",
       "4      Home and lifestyle     14.704289\n",
       "5       Sports and travel     16.679289"
      ]
     },
     "execution_count": 18,
     "metadata": {},
     "output_type": "execute_result"
    }
   ],
   "source": [
    "Products=branch_C.groupby('Product line')[['gross income']].mean().reset_index()\n",
    "Products"
   ]
  },
  {
   "cell_type": "markdown",
   "id": "f86b862d",
   "metadata": {
    "papermill": {
     "duration": 0.009454,
     "end_time": "2022-06-28T04:21:55.896865",
     "exception": false,
     "start_time": "2022-06-28T04:21:55.887411",
     "status": "completed"
    },
    "tags": []
   },
   "source": [
    "### modeling the data to find most factor that affect to gross income"
   ]
  },
  {
   "cell_type": "code",
   "execution_count": 19,
   "id": "91a9444e",
   "metadata": {
    "execution": {
     "iopub.execute_input": "2022-06-28T04:21:55.918192Z",
     "iopub.status.busy": "2022-06-28T04:21:55.917754Z",
     "iopub.status.idle": "2022-06-28T04:21:55.957560Z",
     "shell.execute_reply": "2022-06-28T04:21:55.956419Z"
    },
    "papermill": {
     "duration": 0.053275,
     "end_time": "2022-06-28T04:21:55.959786",
     "exception": false,
     "start_time": "2022-06-28T04:21:55.906511",
     "status": "completed"
    },
    "tags": []
   },
   "outputs": [
    {
     "data": {
      "text/html": [
       "<table class=\"simpletable\">\n",
       "<caption>OLS Regression Results</caption>\n",
       "<tr>\n",
       "  <th>Dep. Variable:</th>      <td>gross income</td>   <th>  R-squared:         </th>  <td>   1.000</td> \n",
       "</tr>\n",
       "<tr>\n",
       "  <th>Model:</th>                   <td>OLS</td>       <th>  Adj. R-squared:    </th>  <td>   1.000</td> \n",
       "</tr>\n",
       "<tr>\n",
       "  <th>Method:</th>             <td>Least Squares</td>  <th>  F-statistic:       </th>  <td>1.055e+32</td>\n",
       "</tr>\n",
       "<tr>\n",
       "  <th>Date:</th>             <td>Tue, 28 Jun 2022</td> <th>  Prob (F-statistic):</th>   <td>  0.00</td>  \n",
       "</tr>\n",
       "<tr>\n",
       "  <th>Time:</th>                 <td>04:21:55</td>     <th>  Log-Likelihood:    </th>  <td>  10078.</td> \n",
       "</tr>\n",
       "<tr>\n",
       "  <th>No. Observations:</th>      <td>   328</td>      <th>  AIC:               </th> <td>-2.015e+04</td>\n",
       "</tr>\n",
       "<tr>\n",
       "  <th>Df Residuals:</th>          <td>   323</td>      <th>  BIC:               </th> <td>-2.013e+04</td>\n",
       "</tr>\n",
       "<tr>\n",
       "  <th>Df Model:</th>              <td>     4</td>      <th>                     </th>      <td> </td>    \n",
       "</tr>\n",
       "<tr>\n",
       "  <th>Covariance Type:</th>      <td>nonrobust</td>    <th>                     </th>      <td> </td>    \n",
       "</tr>\n",
       "</table>\n",
       "<table class=\"simpletable\">\n",
       "<tr>\n",
       "       <td></td>         <th>coef</th>     <th>std err</th>      <th>t</th>      <th>P>|t|</th>  <th>[0.025</th>    <th>0.975]</th>  \n",
       "</tr>\n",
       "<tr>\n",
       "  <th>const</th>      <td>-1.155e-14</td> <td> 3.81e-15</td> <td>   -3.031</td> <td> 0.003</td> <td> -1.9e-14</td> <td>-4.05e-15</td>\n",
       "</tr>\n",
       "<tr>\n",
       "  <th>Unit price</th> <td> 5.898e-17</td> <td> 4.66e-17</td> <td>    1.266</td> <td> 0.207</td> <td>-3.27e-17</td> <td> 1.51e-16</td>\n",
       "</tr>\n",
       "<tr>\n",
       "  <th>Quantity</th>   <td> 5.551e-16</td> <td> 4.76e-16</td> <td>    1.166</td> <td> 0.244</td> <td>-3.81e-16</td> <td> 1.49e-15</td>\n",
       "</tr>\n",
       "<tr>\n",
       "  <th>Total</th>      <td>    0.0249</td> <td> 3.71e-18</td> <td> 6.72e+15</td> <td> 0.000</td> <td>    0.025</td> <td>    0.025</td>\n",
       "</tr>\n",
       "<tr>\n",
       "  <th>Rating</th>     <td>  2.22e-16</td> <td> 3.59e-16</td> <td>    0.619</td> <td> 0.536</td> <td>-4.83e-16</td> <td> 9.27e-16</td>\n",
       "</tr>\n",
       "<tr>\n",
       "  <th>cogs</th>       <td>    0.0238</td> <td> 3.53e-18</td> <td> 6.72e+15</td> <td> 0.000</td> <td>    0.024</td> <td>    0.024</td>\n",
       "</tr>\n",
       "<tr>\n",
       "  <th>Tax 5%</th>     <td>    0.0012</td> <td> 1.77e-19</td> <td> 6.72e+15</td> <td> 0.000</td> <td>    0.001</td> <td>    0.001</td>\n",
       "</tr>\n",
       "</table>\n",
       "<table class=\"simpletable\">\n",
       "<tr>\n",
       "  <th>Omnibus:</th>       <td>25.835</td> <th>  Durbin-Watson:     </th> <td>   1.471</td>\n",
       "</tr>\n",
       "<tr>\n",
       "  <th>Prob(Omnibus):</th> <td> 0.000</td> <th>  Jarque-Bera (JB):  </th> <td>  30.515</td>\n",
       "</tr>\n",
       "<tr>\n",
       "  <th>Skew:</th>          <td>-0.744</td> <th>  Prob(JB):          </th> <td>2.36e-07</td>\n",
       "</tr>\n",
       "<tr>\n",
       "  <th>Kurtosis:</th>      <td> 2.856</td> <th>  Cond. No.          </th> <td>7.15e+16</td>\n",
       "</tr>\n",
       "</table><br/><br/>Notes:<br/>[1] Standard Errors assume that the covariance matrix of the errors is correctly specified.<br/>[2] The smallest eigenvalue is 2.26e-26. This might indicate that there are<br/>strong multicollinearity problems or that the design matrix is singular."
      ],
      "text/plain": [
       "<class 'statsmodels.iolib.summary.Summary'>\n",
       "\"\"\"\n",
       "                            OLS Regression Results                            \n",
       "==============================================================================\n",
       "Dep. Variable:           gross income   R-squared:                       1.000\n",
       "Model:                            OLS   Adj. R-squared:                  1.000\n",
       "Method:                 Least Squares   F-statistic:                 1.055e+32\n",
       "Date:                Tue, 28 Jun 2022   Prob (F-statistic):               0.00\n",
       "Time:                        04:21:55   Log-Likelihood:                 10078.\n",
       "No. Observations:                 328   AIC:                        -2.015e+04\n",
       "Df Residuals:                     323   BIC:                        -2.013e+04\n",
       "Df Model:                           4                                         \n",
       "Covariance Type:            nonrobust                                         \n",
       "==============================================================================\n",
       "                 coef    std err          t      P>|t|      [0.025      0.975]\n",
       "------------------------------------------------------------------------------\n",
       "const      -1.155e-14   3.81e-15     -3.031      0.003    -1.9e-14   -4.05e-15\n",
       "Unit price  5.898e-17   4.66e-17      1.266      0.207   -3.27e-17    1.51e-16\n",
       "Quantity    5.551e-16   4.76e-16      1.166      0.244   -3.81e-16    1.49e-15\n",
       "Total          0.0249   3.71e-18   6.72e+15      0.000       0.025       0.025\n",
       "Rating       2.22e-16   3.59e-16      0.619      0.536   -4.83e-16    9.27e-16\n",
       "cogs           0.0238   3.53e-18   6.72e+15      0.000       0.024       0.024\n",
       "Tax 5%         0.0012   1.77e-19   6.72e+15      0.000       0.001       0.001\n",
       "==============================================================================\n",
       "Omnibus:                       25.835   Durbin-Watson:                   1.471\n",
       "Prob(Omnibus):                  0.000   Jarque-Bera (JB):               30.515\n",
       "Skew:                          -0.744   Prob(JB):                     2.36e-07\n",
       "Kurtosis:                       2.856   Cond. No.                     7.15e+16\n",
       "==============================================================================\n",
       "\n",
       "Notes:\n",
       "[1] Standard Errors assume that the covariance matrix of the errors is correctly specified.\n",
       "[2] The smallest eigenvalue is 2.26e-26. This might indicate that there are\n",
       "strong multicollinearity problems or that the design matrix is singular.\n",
       "\"\"\""
      ]
     },
     "execution_count": 19,
     "metadata": {},
     "output_type": "execute_result"
    }
   ],
   "source": [
    "x=branch_C[['Unit price','Quantity','Total','Rating','cogs','Tax 5%']]\n",
    "y=branch_C[['gross income']]\n",
    "x=sm.add_constant(x)\n",
    "model=sm.OLS(y,x).fit()\n",
    "model.summary()"
   ]
  },
  {
   "cell_type": "code",
   "execution_count": 20,
   "id": "11957c9d",
   "metadata": {
    "execution": {
     "iopub.execute_input": "2022-06-28T04:21:55.982315Z",
     "iopub.status.busy": "2022-06-28T04:21:55.981595Z",
     "iopub.status.idle": "2022-06-28T04:21:56.005651Z",
     "shell.execute_reply": "2022-06-28T04:21:56.004521Z"
    },
    "papermill": {
     "duration": 0.037837,
     "end_time": "2022-06-28T04:21:56.008002",
     "exception": false,
     "start_time": "2022-06-28T04:21:55.970165",
     "status": "completed"
    },
    "tags": []
   },
   "outputs": [
    {
     "data": {
      "text/html": [
       "<table class=\"simpletable\">\n",
       "<caption>OLS Regression Results</caption>\n",
       "<tr>\n",
       "  <th>Dep. Variable:</th>      <td>gross income</td>   <th>  R-squared:         </th> <td>   0.000</td>\n",
       "</tr>\n",
       "<tr>\n",
       "  <th>Model:</th>                   <td>OLS</td>       <th>  Adj. R-squared:    </th> <td>  -0.003</td>\n",
       "</tr>\n",
       "<tr>\n",
       "  <th>Method:</th>             <td>Least Squares</td>  <th>  F-statistic:       </th> <td>0.001378</td>\n",
       "</tr>\n",
       "<tr>\n",
       "  <th>Date:</th>             <td>Tue, 28 Jun 2022</td> <th>  Prob (F-statistic):</th>  <td> 0.970</td> \n",
       "</tr>\n",
       "<tr>\n",
       "  <th>Time:</th>                 <td>04:21:55</td>     <th>  Log-Likelihood:    </th> <td> -1294.2</td>\n",
       "</tr>\n",
       "<tr>\n",
       "  <th>No. Observations:</th>      <td>   328</td>      <th>  AIC:               </th> <td>   2592.</td>\n",
       "</tr>\n",
       "<tr>\n",
       "  <th>Df Residuals:</th>          <td>   326</td>      <th>  BIC:               </th> <td>   2600.</td>\n",
       "</tr>\n",
       "<tr>\n",
       "  <th>Df Model:</th>              <td>     1</td>      <th>                     </th>     <td> </td>   \n",
       "</tr>\n",
       "<tr>\n",
       "  <th>Covariance Type:</th>      <td>nonrobust</td>    <th>                     </th>     <td> </td>   \n",
       "</tr>\n",
       "</table>\n",
       "<table class=\"simpletable\">\n",
       "<tr>\n",
       "            <td></td>              <th>coef</th>     <th>std err</th>      <th>t</th>      <th>P>|t|</th>  <th>[0.025</th>    <th>0.975]</th>  \n",
       "</tr>\n",
       "<tr>\n",
       "  <th>const</th>                <td>   10.7021</td> <td>    0.462</td> <td>   23.154</td> <td> 0.000</td> <td>    9.793</td> <td>   11.611</td>\n",
       "</tr>\n",
       "<tr>\n",
       "  <th>Customer type_Member</th> <td>    5.3253</td> <td>    0.724</td> <td>    7.354</td> <td> 0.000</td> <td>    3.901</td> <td>    6.750</td>\n",
       "</tr>\n",
       "<tr>\n",
       "  <th>Customer type_Normal</th> <td>    5.3768</td> <td>    0.737</td> <td>    7.291</td> <td> 0.000</td> <td>    3.926</td> <td>    6.828</td>\n",
       "</tr>\n",
       "</table>\n",
       "<table class=\"simpletable\">\n",
       "<tr>\n",
       "  <th>Omnibus:</th>       <td>32.455</td> <th>  Durbin-Watson:     </th> <td>   1.941</td>\n",
       "</tr>\n",
       "<tr>\n",
       "  <th>Prob(Omnibus):</th> <td> 0.000</td> <th>  Jarque-Bera (JB):  </th> <td>  40.215</td>\n",
       "</tr>\n",
       "<tr>\n",
       "  <th>Skew:</th>          <td> 0.852</td> <th>  Prob(JB):          </th> <td>1.85e-09</td>\n",
       "</tr>\n",
       "<tr>\n",
       "  <th>Kurtosis:</th>      <td> 2.808</td> <th>  Cond. No.          </th> <td>1.60e+15</td>\n",
       "</tr>\n",
       "</table><br/><br/>Notes:<br/>[1] Standard Errors assume that the covariance matrix of the errors is correctly specified.<br/>[2] The smallest eigenvalue is 1.92e-28. This might indicate that there are<br/>strong multicollinearity problems or that the design matrix is singular."
      ],
      "text/plain": [
       "<class 'statsmodels.iolib.summary.Summary'>\n",
       "\"\"\"\n",
       "                            OLS Regression Results                            \n",
       "==============================================================================\n",
       "Dep. Variable:           gross income   R-squared:                       0.000\n",
       "Model:                            OLS   Adj. R-squared:                 -0.003\n",
       "Method:                 Least Squares   F-statistic:                  0.001378\n",
       "Date:                Tue, 28 Jun 2022   Prob (F-statistic):              0.970\n",
       "Time:                        04:21:55   Log-Likelihood:                -1294.2\n",
       "No. Observations:                 328   AIC:                             2592.\n",
       "Df Residuals:                     326   BIC:                             2600.\n",
       "Df Model:                           1                                         \n",
       "Covariance Type:            nonrobust                                         \n",
       "========================================================================================\n",
       "                           coef    std err          t      P>|t|      [0.025      0.975]\n",
       "----------------------------------------------------------------------------------------\n",
       "const                   10.7021      0.462     23.154      0.000       9.793      11.611\n",
       "Customer type_Member     5.3253      0.724      7.354      0.000       3.901       6.750\n",
       "Customer type_Normal     5.3768      0.737      7.291      0.000       3.926       6.828\n",
       "==============================================================================\n",
       "Omnibus:                       32.455   Durbin-Watson:                   1.941\n",
       "Prob(Omnibus):                  0.000   Jarque-Bera (JB):               40.215\n",
       "Skew:                           0.852   Prob(JB):                     1.85e-09\n",
       "Kurtosis:                       2.808   Cond. No.                     1.60e+15\n",
       "==============================================================================\n",
       "\n",
       "Notes:\n",
       "[1] Standard Errors assume that the covariance matrix of the errors is correctly specified.\n",
       "[2] The smallest eigenvalue is 1.92e-28. This might indicate that there are\n",
       "strong multicollinearity problems or that the design matrix is singular.\n",
       "\"\"\""
      ]
     },
     "execution_count": 20,
     "metadata": {},
     "output_type": "execute_result"
    }
   ],
   "source": [
    "x= pd.get_dummies(branch_C[['Customer type']])\n",
    "y=branch_C[['gross income']]\n",
    "x=sm.add_constant(x)\n",
    "model=sm.OLS(y,x).fit()\n",
    "model.summary()"
   ]
  },
  {
   "cell_type": "code",
   "execution_count": 21,
   "id": "03e6e219",
   "metadata": {
    "execution": {
     "iopub.execute_input": "2022-06-28T04:21:56.031168Z",
     "iopub.status.busy": "2022-06-28T04:21:56.030443Z",
     "iopub.status.idle": "2022-06-28T04:21:56.045267Z",
     "shell.execute_reply": "2022-06-28T04:21:56.044183Z"
    },
    "papermill": {
     "duration": 0.029151,
     "end_time": "2022-06-28T04:21:56.047882",
     "exception": false,
     "start_time": "2022-06-28T04:21:56.018731",
     "status": "completed"
    },
    "tags": []
   },
   "outputs": [
    {
     "data": {
      "text/html": [
       "<div>\n",
       "<style scoped>\n",
       "    .dataframe tbody tr th:only-of-type {\n",
       "        vertical-align: middle;\n",
       "    }\n",
       "\n",
       "    .dataframe tbody tr th {\n",
       "        vertical-align: top;\n",
       "    }\n",
       "\n",
       "    .dataframe thead th {\n",
       "        text-align: right;\n",
       "    }\n",
       "</style>\n",
       "<table border=\"1\" class=\"dataframe\">\n",
       "  <thead>\n",
       "    <tr style=\"text-align: right;\">\n",
       "      <th></th>\n",
       "      <th>Unit price</th>\n",
       "      <th>Quantity</th>\n",
       "      <th>Tax 5%</th>\n",
       "      <th>Total</th>\n",
       "      <th>cogs</th>\n",
       "      <th>gross margin percentage</th>\n",
       "      <th>gross income</th>\n",
       "      <th>Rating</th>\n",
       "    </tr>\n",
       "  </thead>\n",
       "  <tbody>\n",
       "    <tr>\n",
       "      <th>Unit price</th>\n",
       "      <td>1.000000</td>\n",
       "      <td>0.061527</td>\n",
       "      <td>0.637761</td>\n",
       "      <td>0.637761</td>\n",
       "      <td>0.637761</td>\n",
       "      <td>NaN</td>\n",
       "      <td>0.637761</td>\n",
       "      <td>0.000760</td>\n",
       "    </tr>\n",
       "    <tr>\n",
       "      <th>Quantity</th>\n",
       "      <td>0.061527</td>\n",
       "      <td>1.000000</td>\n",
       "      <td>0.735060</td>\n",
       "      <td>0.735060</td>\n",
       "      <td>0.735060</td>\n",
       "      <td>NaN</td>\n",
       "      <td>0.735060</td>\n",
       "      <td>-0.033319</td>\n",
       "    </tr>\n",
       "    <tr>\n",
       "      <th>Tax 5%</th>\n",
       "      <td>0.637761</td>\n",
       "      <td>0.735060</td>\n",
       "      <td>1.000000</td>\n",
       "      <td>1.000000</td>\n",
       "      <td>1.000000</td>\n",
       "      <td>NaN</td>\n",
       "      <td>1.000000</td>\n",
       "      <td>-0.039253</td>\n",
       "    </tr>\n",
       "    <tr>\n",
       "      <th>Total</th>\n",
       "      <td>0.637761</td>\n",
       "      <td>0.735060</td>\n",
       "      <td>1.000000</td>\n",
       "      <td>1.000000</td>\n",
       "      <td>1.000000</td>\n",
       "      <td>NaN</td>\n",
       "      <td>1.000000</td>\n",
       "      <td>-0.039253</td>\n",
       "    </tr>\n",
       "    <tr>\n",
       "      <th>cogs</th>\n",
       "      <td>0.637761</td>\n",
       "      <td>0.735060</td>\n",
       "      <td>1.000000</td>\n",
       "      <td>1.000000</td>\n",
       "      <td>1.000000</td>\n",
       "      <td>NaN</td>\n",
       "      <td>1.000000</td>\n",
       "      <td>-0.039253</td>\n",
       "    </tr>\n",
       "    <tr>\n",
       "      <th>gross margin percentage</th>\n",
       "      <td>NaN</td>\n",
       "      <td>NaN</td>\n",
       "      <td>NaN</td>\n",
       "      <td>NaN</td>\n",
       "      <td>NaN</td>\n",
       "      <td>NaN</td>\n",
       "      <td>NaN</td>\n",
       "      <td>NaN</td>\n",
       "    </tr>\n",
       "    <tr>\n",
       "      <th>gross income</th>\n",
       "      <td>0.637761</td>\n",
       "      <td>0.735060</td>\n",
       "      <td>1.000000</td>\n",
       "      <td>1.000000</td>\n",
       "      <td>1.000000</td>\n",
       "      <td>NaN</td>\n",
       "      <td>1.000000</td>\n",
       "      <td>-0.039253</td>\n",
       "    </tr>\n",
       "    <tr>\n",
       "      <th>Rating</th>\n",
       "      <td>0.000760</td>\n",
       "      <td>-0.033319</td>\n",
       "      <td>-0.039253</td>\n",
       "      <td>-0.039253</td>\n",
       "      <td>-0.039253</td>\n",
       "      <td>NaN</td>\n",
       "      <td>-0.039253</td>\n",
       "      <td>1.000000</td>\n",
       "    </tr>\n",
       "  </tbody>\n",
       "</table>\n",
       "</div>"
      ],
      "text/plain": [
       "                         Unit price  Quantity    Tax 5%     Total      cogs  \\\n",
       "Unit price                 1.000000  0.061527  0.637761  0.637761  0.637761   \n",
       "Quantity                   0.061527  1.000000  0.735060  0.735060  0.735060   \n",
       "Tax 5%                     0.637761  0.735060  1.000000  1.000000  1.000000   \n",
       "Total                      0.637761  0.735060  1.000000  1.000000  1.000000   \n",
       "cogs                       0.637761  0.735060  1.000000  1.000000  1.000000   \n",
       "gross margin percentage         NaN       NaN       NaN       NaN       NaN   \n",
       "gross income               0.637761  0.735060  1.000000  1.000000  1.000000   \n",
       "Rating                     0.000760 -0.033319 -0.039253 -0.039253 -0.039253   \n",
       "\n",
       "                         gross margin percentage  gross income    Rating  \n",
       "Unit price                                   NaN      0.637761  0.000760  \n",
       "Quantity                                     NaN      0.735060 -0.033319  \n",
       "Tax 5%                                       NaN      1.000000 -0.039253  \n",
       "Total                                        NaN      1.000000 -0.039253  \n",
       "cogs                                         NaN      1.000000 -0.039253  \n",
       "gross margin percentage                      NaN           NaN       NaN  \n",
       "gross income                                 NaN      1.000000 -0.039253  \n",
       "Rating                                       NaN     -0.039253  1.000000  "
      ]
     },
     "execution_count": 21,
     "metadata": {},
     "output_type": "execute_result"
    }
   ],
   "source": [
    "branch_C.corr()"
   ]
  },
  {
   "cell_type": "code",
   "execution_count": 22,
   "id": "b392e557",
   "metadata": {
    "collapsed": true,
    "execution": {
     "iopub.execute_input": "2022-06-28T04:21:56.071732Z",
     "iopub.status.busy": "2022-06-28T04:21:56.070995Z",
     "iopub.status.idle": "2022-06-28T04:21:56.076878Z",
     "shell.execute_reply": "2022-06-28T04:21:56.076029Z"
    },
    "jupyter": {
     "outputs_hidden": true
    },
    "papermill": {
     "duration": 0.020297,
     "end_time": "2022-06-28T04:21:56.079251",
     "exception": false,
     "start_time": "2022-06-28T04:21:56.058954",
     "status": "completed"
    },
    "tags": []
   },
   "outputs": [],
   "source": [
    "branch_C.drop('gross margin percentage', axis=1, inplace=True)\n"
   ]
  },
  {
   "cell_type": "code",
   "execution_count": 23,
   "id": "4c40fb96",
   "metadata": {
    "execution": {
     "iopub.execute_input": "2022-06-28T04:21:56.102312Z",
     "iopub.status.busy": "2022-06-28T04:21:56.101392Z",
     "iopub.status.idle": "2022-06-28T04:21:56.115852Z",
     "shell.execute_reply": "2022-06-28T04:21:56.115077Z"
    },
    "papermill": {
     "duration": 0.028114,
     "end_time": "2022-06-28T04:21:56.117781",
     "exception": false,
     "start_time": "2022-06-28T04:21:56.089667",
     "status": "completed"
    },
    "tags": []
   },
   "outputs": [
    {
     "data": {
      "text/html": [
       "<div>\n",
       "<style scoped>\n",
       "    .dataframe tbody tr th:only-of-type {\n",
       "        vertical-align: middle;\n",
       "    }\n",
       "\n",
       "    .dataframe tbody tr th {\n",
       "        vertical-align: top;\n",
       "    }\n",
       "\n",
       "    .dataframe thead th {\n",
       "        text-align: right;\n",
       "    }\n",
       "</style>\n",
       "<table border=\"1\" class=\"dataframe\">\n",
       "  <thead>\n",
       "    <tr style=\"text-align: right;\">\n",
       "      <th></th>\n",
       "      <th>Unit price</th>\n",
       "      <th>Quantity</th>\n",
       "      <th>Tax 5%</th>\n",
       "      <th>Total</th>\n",
       "      <th>cogs</th>\n",
       "      <th>gross income</th>\n",
       "      <th>Rating</th>\n",
       "    </tr>\n",
       "  </thead>\n",
       "  <tbody>\n",
       "    <tr>\n",
       "      <th>Unit price</th>\n",
       "      <td>1.000000</td>\n",
       "      <td>0.061527</td>\n",
       "      <td>0.637761</td>\n",
       "      <td>0.637761</td>\n",
       "      <td>0.637761</td>\n",
       "      <td>0.637761</td>\n",
       "      <td>0.000760</td>\n",
       "    </tr>\n",
       "    <tr>\n",
       "      <th>Quantity</th>\n",
       "      <td>0.061527</td>\n",
       "      <td>1.000000</td>\n",
       "      <td>0.735060</td>\n",
       "      <td>0.735060</td>\n",
       "      <td>0.735060</td>\n",
       "      <td>0.735060</td>\n",
       "      <td>-0.033319</td>\n",
       "    </tr>\n",
       "    <tr>\n",
       "      <th>Tax 5%</th>\n",
       "      <td>0.637761</td>\n",
       "      <td>0.735060</td>\n",
       "      <td>1.000000</td>\n",
       "      <td>1.000000</td>\n",
       "      <td>1.000000</td>\n",
       "      <td>1.000000</td>\n",
       "      <td>-0.039253</td>\n",
       "    </tr>\n",
       "    <tr>\n",
       "      <th>Total</th>\n",
       "      <td>0.637761</td>\n",
       "      <td>0.735060</td>\n",
       "      <td>1.000000</td>\n",
       "      <td>1.000000</td>\n",
       "      <td>1.000000</td>\n",
       "      <td>1.000000</td>\n",
       "      <td>-0.039253</td>\n",
       "    </tr>\n",
       "    <tr>\n",
       "      <th>cogs</th>\n",
       "      <td>0.637761</td>\n",
       "      <td>0.735060</td>\n",
       "      <td>1.000000</td>\n",
       "      <td>1.000000</td>\n",
       "      <td>1.000000</td>\n",
       "      <td>1.000000</td>\n",
       "      <td>-0.039253</td>\n",
       "    </tr>\n",
       "    <tr>\n",
       "      <th>gross income</th>\n",
       "      <td>0.637761</td>\n",
       "      <td>0.735060</td>\n",
       "      <td>1.000000</td>\n",
       "      <td>1.000000</td>\n",
       "      <td>1.000000</td>\n",
       "      <td>1.000000</td>\n",
       "      <td>-0.039253</td>\n",
       "    </tr>\n",
       "    <tr>\n",
       "      <th>Rating</th>\n",
       "      <td>0.000760</td>\n",
       "      <td>-0.033319</td>\n",
       "      <td>-0.039253</td>\n",
       "      <td>-0.039253</td>\n",
       "      <td>-0.039253</td>\n",
       "      <td>-0.039253</td>\n",
       "      <td>1.000000</td>\n",
       "    </tr>\n",
       "  </tbody>\n",
       "</table>\n",
       "</div>"
      ],
      "text/plain": [
       "              Unit price  Quantity    Tax 5%     Total      cogs  \\\n",
       "Unit price      1.000000  0.061527  0.637761  0.637761  0.637761   \n",
       "Quantity        0.061527  1.000000  0.735060  0.735060  0.735060   \n",
       "Tax 5%          0.637761  0.735060  1.000000  1.000000  1.000000   \n",
       "Total           0.637761  0.735060  1.000000  1.000000  1.000000   \n",
       "cogs            0.637761  0.735060  1.000000  1.000000  1.000000   \n",
       "gross income    0.637761  0.735060  1.000000  1.000000  1.000000   \n",
       "Rating          0.000760 -0.033319 -0.039253 -0.039253 -0.039253   \n",
       "\n",
       "              gross income    Rating  \n",
       "Unit price        0.637761  0.000760  \n",
       "Quantity          0.735060 -0.033319  \n",
       "Tax 5%            1.000000 -0.039253  \n",
       "Total             1.000000 -0.039253  \n",
       "cogs              1.000000 -0.039253  \n",
       "gross income      1.000000 -0.039253  \n",
       "Rating           -0.039253  1.000000  "
      ]
     },
     "execution_count": 23,
     "metadata": {},
     "output_type": "execute_result"
    }
   ],
   "source": [
    "branch_C.corr()"
   ]
  },
  {
   "cell_type": "code",
   "execution_count": 24,
   "id": "d8736d5b",
   "metadata": {
    "execution": {
     "iopub.execute_input": "2022-06-28T04:21:56.141178Z",
     "iopub.status.busy": "2022-06-28T04:21:56.140472Z",
     "iopub.status.idle": "2022-06-28T04:21:56.404189Z",
     "shell.execute_reply": "2022-06-28T04:21:56.402912Z"
    },
    "papermill": {
     "duration": 0.278424,
     "end_time": "2022-06-28T04:21:56.406905",
     "exception": false,
     "start_time": "2022-06-28T04:21:56.128481",
     "status": "completed"
    },
    "tags": []
   },
   "outputs": [
    {
     "data": {
      "text/plain": [
       "<AxesSubplot:>"
      ]
     },
     "execution_count": 24,
     "metadata": {},
     "output_type": "execute_result"
    },
    {
     "data": {
      "image/png": "[encoded data removed]",
      "text/plain": [
       "<Figure size 432x288 with 2 Axes>"
      ]
     },
     "metadata": {
      "needs_background": "light"
     },
     "output_type": "display_data"
    }
   ],
   "source": [
    "sns.heatmap(branch_C.corr(),cmap='RdBu')"
   ]
  },
  {
   "cell_type": "code",
   "execution_count": null,
   "id": "18b38909",
   "metadata": {
    "papermill": {
     "duration": 0.010881,
     "end_time": "2022-06-28T04:21:56.428894",
     "exception": false,
     "start_time": "2022-06-28T04:21:56.418013",
     "status": "completed"
    },
    "tags": []
   },
   "outputs": [],
   "source": []
  },
  {
   "cell_type": "markdown",
   "id": "9d464ca6",
   "metadata": {
    "papermill": {
     "duration": 0.011453,
     "end_time": "2022-06-28T04:21:56.451500",
     "exception": false,
     "start_time": "2022-06-28T04:21:56.440047",
     "status": "completed"
    },
    "tags": []
   },
   "source": [
    "### so branch c has a high gross income because\n",
    "1- high rating \n",
    "2- member more than normal\n",
    "3- the most income comes from Food and beverages\t\n",
    "4- most payment method used is cash"
   ]
  },
  {
   "cell_type": "markdown",
   "id": "9e8c9db9",
   "metadata": {
    "papermill": {
     "duration": 0.0117,
     "end_time": "2022-06-28T04:21:56.474443",
     "exception": false,
     "start_time": "2022-06-28T04:21:56.462743",
     "status": "completed"
    },
    "tags": []
   },
   "source": [
    "### so the other branches most focus  on the factor that make branch c successful"
   ]
  },
  {
   "cell_type": "code",
   "execution_count": null,
   "id": "d6367df2",
   "metadata": {
    "papermill": {
     "duration": 0.010714,
     "end_time": "2022-06-28T04:21:56.497159",
     "exception": false,
     "start_time": "2022-06-28T04:21:56.486445",
     "status": "completed"
    },
    "tags": []
   },
   "outputs": [],
   "source": []
  }
 ],
 "metadata": {
  "kernelspec": {
   "display_name": "Python 3",
   "language": "python",
   "name": "python3"
  },
  "language_info": {
   "codemirror_mode": {
    "name": "ipython",
    "version": 3
   },
   "file_extension": ".py",
   "mimetype": "text/x-python",
   "name": "python",
   "nbconvert_exporter": "python",
   "pygments_lexer": "ipython3",
   "version": "3.7.12"
  },
  "papermill": {
   "default_parameters": {},
   "duration": 15.067496,
   "end_time": "2022-06-28T04:21:57.331806",
   "environment_variables": {},
   "exception": null,
   "input_path": "__notebook__.ipynb",
   "output_path": "__notebook__.ipynb",
   "parameters": {},
   "start_time": "2022-06-28T04:21:42.264310",
   "version": "2.3.4"
  }
 },
 "nbformat": 4,
 "nbformat_minor": 5
}
